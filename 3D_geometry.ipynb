{
 "cells": [
  {
   "cell_type": "code",
   "execution_count": 1,
   "metadata": {},
   "outputs": [],
   "source": [
    "import numpy as np \n",
    "import matplotlib.pyplot as plt \n",
    "import plotly.graph_objects as go"
   ]
  },
  {
   "cell_type": "code",
   "execution_count": 2,
   "metadata": {},
   "outputs": [],
   "source": [
    "# rotation matrix\n",
    "Rx = lambda theta: np.array([[1, 0, 0],\n",
    "                             [0, np.cos(theta), -np.sin(theta)],\n",
    "                             [0, np.sin(theta), np.cos(theta)]])\n",
    "Ry = lambda theta: np.array([[np.cos(theta), 0, np.sin(theta)],\n",
    "                             [0, 1, 0],\n",
    "                             [-np.sin(theta), 0, np.cos(theta)]])\n",
    "Rz = lambda theta: np.array([[np.cos(theta), -np.sin(theta), 0], \n",
    "                             [np.sin(theta), np.cos(theta), 0], \n",
    "                             [0, 0, 1]])"
   ]
  },
  {
   "cell_type": "code",
   "execution_count": 3,
   "metadata": {},
   "outputs": [],
   "source": [
    "# return data of an arrow object\n",
    "def arrow(start, end, color='black', name=None):\n",
    "    start = start.flatten()\n",
    "    end = end.flatten()\n",
    "    head_scale = 0.3 # adjusts the cone size scaling \n",
    "\n",
    "    body = go.Scatter3d(x = [start[0], end[0]],\n",
    "                        y = [start[1], end[1]],\n",
    "                        z = [start[2], end[2]], \n",
    "                        mode = \"lines\",\n",
    "                        line = dict(color=color), \n",
    "                        showlegend = False)\n",
    "    \n",
    "    head = go.Cone(x = [end[0]], y = [end[1]], z = [end[2]],\n",
    "                   u = [end[0]-start[0]], v = [end[1]-start[1]], w = [end[2]-start[2]],\n",
    "                   sizemode = \"scaled\",\n",
    "                   sizeref = head_scale,\n",
    "                   colorscale = [[0, color], [1, color]],\n",
    "                   showscale=False,\n",
    "                   showlegend=False)\n",
    "    \n",
    "    dist = 0.4\n",
    "    text = go.Scatter3d(x = [-dist * start[0] + (1 + dist) * end[0]],\n",
    "                        y = [-dist * start[1] + (1 + dist) * end[1]],\n",
    "                        z = [-dist * start[2] + (1 + dist) * end[2]],\n",
    "                        mode = \"text\",\n",
    "                        text = [name],\n",
    "                        textposition = 'middle center',\n",
    "                        showlegend = False,\n",
    "                        textfont = dict(color=color))\n",
    "    result = [body, head, text]\n",
    "    return result \n",
    "\n",
    "# return data of a frame object\n",
    "def frame(pose=np.eye(3), center=np.zeros(3), color='black'):\n",
    "    # original center and pose \n",
    "    x_axis = np.array([1, 0, 0])\n",
    "    y_axis = np.array([0, 1, 0])\n",
    "    z_axis = np.array([0, 0, 1])\n",
    "    o = np.zeros(3)\n",
    "\n",
    "    # transformed center and pose  \n",
    "    x_axis = pose @ x_axis\n",
    "    y_axis = pose @ y_axis\n",
    "    z_axis = pose @ z_axis\n",
    "    o = center\n",
    "\n",
    "    fig_data = []\n",
    "    fig_data.extend(arrow(o, o + x_axis, color=color, name='x'))\n",
    "    fig_data.extend(arrow(o, o + y_axis, color=color, name='y'))\n",
    "    fig_data.extend(arrow(o, o + z_axis, color=color, name='z'))\n",
    "    return fig_data\n",
    "\n",
    "def ray(start, end, color='black'):\n",
    "    a_big_number = 10000\n",
    "    fig_data = go.Scatter3d(x = [start[0], start[0] + a_big_number * (end[0] - start[0])], \n",
    "                            y = [start[1], start[1] + a_big_number * (end[1] - start[1])], \n",
    "                            z = [start[2], start[2] + a_big_number * (end[2] - start[2])], \n",
    "                            mode = \"lines\", line = dict(color=color), opacity=0.3, showlegend = False)\n",
    "    return [fig_data]\n",
    "\n",
    "# include image plane and the 4 rays from focal point to the 4 corners of the image plane\n",
    "def image_plane(pose, center, focal_len, img_width, img_height, color='black'):\n",
    "    x_axis = np.array([1, 0, 0])\n",
    "    y_axis = np.array([0, 1, 0])\n",
    "    z_axis = np.array([0, 0, 1])\n",
    "    x_axis = pose @ x_axis \n",
    "    y_axis = pose @ y_axis\n",
    "    z_axis = pose @ z_axis\n",
    "    o = center # center of the camera coordinate frame\n",
    "    img_center = o + z_axis * focal_len # center of the image plane \n",
    "\n",
    "    # 4 corners of the image plane \n",
    "    corner1 = img_center - (img_width / 2) * x_axis - (img_height / 2) * y_axis\n",
    "    corner2 = img_center + (img_width / 2) * x_axis - (img_height / 2) * y_axis\n",
    "    corner3 = img_center + (img_width / 2) * x_axis + (img_height / 2) * y_axis\n",
    "    corner4 = img_center - (img_width / 2) * x_axis + (img_height / 2) * y_axis\n",
    "    corners = np.vstack([corner1, corner2, corner3, corner4])\n",
    "    \n",
    "    data = [go.Mesh3d(x=corners[:, 0], y=corners[:, 1], z=corners[:, 2], \n",
    "                      i=[0, 0],  # vertices of first triangle\n",
    "                      j=[1, 2],  # vertices of second triangle\n",
    "                      k=[2, 3],  # vertices of third triangle\n",
    "                      opacity=.3, color=color)]\n",
    "    data.extend(ray(o, corner1, color=color))\n",
    "    data.extend(ray(o, corner2, color=color))\n",
    "    data.extend(ray(o, corner3, color=color))\n",
    "    data.extend(ray(o, corner4, color=color))\n",
    "    return data\n",
    "\n",
    "drange = 6 # set the plot size\n",
    "def plot_all(figs, world=False, pltrange=[[-drange, drange], [-drange, drange], [-drange, drange]]):\n",
    "    if world == True:\n",
    "        fig_data = frame(color='gray')\n",
    "        for fig in figs:\n",
    "            fig_data.extend(fig.get_fig_data())\n",
    "        FIG = go.Figure(data=fig_data)\n",
    "        FIG.update_layout(\n",
    "            scene = dict(\n",
    "                xaxis = dict(nticks = 4, range = pltrange[0]),\n",
    "                yaxis = dict(nticks = 4, range = pltrange[1]),\n",
    "                zaxis = dict(nticks = 4, range = pltrange[2]),\n",
    "                aspectmode='manual',\n",
    "                aspectratio=dict(x=1, y=1, z=1),\n",
    "            ), \n",
    "            width=500,\n",
    "            height=500,\n",
    "        )\n",
    "    else:\n",
    "        fig_data = []\n",
    "        for fig in figs:\n",
    "            fig_data.extend(fig.get_fig_data())\n",
    "        FIG = go.Figure(data=fig_data)\n",
    "\n",
    "    FIG.show()"
   ]
  },
  {
   "cell_type": "code",
   "execution_count": 11,
   "metadata": {},
   "outputs": [],
   "source": [
    "# save the data in the camera coordinate frame\n",
    "# and return the data as a list of go.Scatter3d objects        \n",
    "class PointCloud():\n",
    "    \n",
    "    def __init__(self, data=None):\n",
    "        self.data = None\n",
    "\n",
    "    def add_data(self, data):\n",
    "        if self.data is None:\n",
    "            self.data = data\n",
    "        else:\n",
    "            self.data = np.vstack((self.data, data))\n",
    "\n",
    "    def get_fig_data(self):\n",
    "        if self.data is None:\n",
    "            fig_data = []\n",
    "        else:\n",
    "            fig_data = [go.Scatter3d(x = self.data[:, 0], \n",
    "                                     y = self.data[:, 1], \n",
    "                                     z = self.data[:, 2],\n",
    "                                     mode = 'markers', \n",
    "                                     marker = dict(size = 2, color = 'black', opacity=1), \n",
    "                                     showlegend = False)]\n",
    "        return fig_data\n",
    "\n",
    "class Camera():\n",
    "\n",
    "    def __init__(self, pose, center):\n",
    "        self.pose = pose\n",
    "        self.center = center\n",
    "        self.focal_len = 1\n",
    "        self.img_width = 4\n",
    "        self.img_height = 2\n",
    "\n",
    "        # coordinate frame \n",
    "        self.fig_data = frame(self.pose, self.center)\n",
    "        # image plane \n",
    "        self.fig_data.extend(image_plane(self.pose, self.center, self.focal_len, self.img_width, self.img_height))\n",
    "\n",
    "        # data points in represented by different coordinate frames\n",
    "        self.world_data = None\n",
    "        self.camera_data = None \n",
    "        self.image_data = None \n",
    "\n",
    "        # camera projection matrix\n",
    "        self.P = np.array([[self.focal_len, 0, 0, 0], \n",
    "                           [0, self.focal_len, 0, 0],\n",
    "                           [0, 0, 1, 0]])\n",
    "        # camera calibration matrix\n",
    "        self.K = np.array([[self.focal_len, 0, self.img_width/2],\n",
    "                           [0, self.focal_len, self.img_height/2],\n",
    "                           [0, 0, 1]])\n",
    "\n",
    "    def get_fig_data(self):\n",
    "        return self.fig_data\n",
    "\n",
    "    def plot_camera(self):\n",
    "        # plot coordinate frame \n",
    "        fig = go.Figure(data=self.fig_data)\n",
    "        fig.show()\n",
    "\n",
    "    def capture(self, data):\n",
    "        self.world_data = data\n",
    "\n",
    "        # transform the data to the camera coordinate frame\n",
    "        # remember the formula: X_camera = pose.T @ (X_world - center)\n",
    "        camera_data = (data - self.center) @ self.pose\n",
    "        self.camera_data = camera_data[camera_data[:, -1] > self.focal_len] # remove points behind the camera\n",
    "        \n",
    "        # transform the data to the image coordinate frame\n",
    "        #data_homo = np.hstack((self.camera_data, np.ones((data.shape[0], 1))))\n",
    "        #self.image_data = data_homo @ self.P.T\n",
    "        \n",
    "        image_data = self.camera_data @ self.K.T \n",
    "        self.image_data = image_data / image_data[:, -1][:, None]\n",
    "        \n",
    "    def show_image(self):\n",
    "        # remove the point that is outside of the image plane \n",
    "        image_data = self.image_data[\n",
    "            (self.image_data[:, 1] > 0) * \n",
    "            (self.image_data[:, 1] < self.img_height) * \n",
    "            (self.image_data[:, 0] < self.img_width) * \n",
    "            (self.image_data[:, 0] > 0)]\n",
    "        camera_data = self.camera_data[\n",
    "            (self.image_data[:, 1] < self.img_height) * \n",
    "            (self.image_data[:, 1] > 0) * \n",
    "            (self.image_data[:, 0] < self.img_width) * \n",
    "            (self.image_data[:, 0] > 0)]\n",
    "\n",
    "        dist = np.linalg.norm(camera_data - np.array([0, 0, self.focal_len]), axis = 1)\n",
    "        scaling = 5 / (dist - self.focal_len + 0.6)\n",
    "    \n",
    "        plt.figure()\n",
    "        plt.scatter(image_data[:, 0], image_data[:, 1], c='k', s=scaling)\n",
    "        plt.xlim([0, self.img_width])\n",
    "        plt.ylim([0, self.img_height])\n",
    "        plt.gca().set_aspect('equal')\n",
    "        plt.show()\n",
    "        \n"
   ]
  },
  {
   "cell_type": "code",
   "execution_count": 12,
   "metadata": {},
   "outputs": [
    {
     "data": {
      "application/vnd.plotly.v1+json": {
       "config": {
        "plotlyServerURL": "https://plot.ly"
       },
       "data": [
        {
         "line": {
          "color": "gray"
         },
         "mode": "lines",
         "showlegend": false,
         "type": "scatter3d",
         "x": [
          0,
          1
         ],
         "y": [
          0,
          0
         ],
         "z": [
          0,
          0
         ]
        },
        {
         "colorscale": [
          [
           0,
           "gray"
          ],
          [
           1,
           "gray"
          ]
         ],
         "showlegend": false,
         "showscale": false,
         "sizemode": "scaled",
         "sizeref": 0.3,
         "type": "cone",
         "u": [
          1
         ],
         "v": [
          0
         ],
         "w": [
          0
         ],
         "x": [
          1
         ],
         "y": [
          0
         ],
         "z": [
          0
         ]
        },
        {
         "mode": "text",
         "showlegend": false,
         "text": [
          "x"
         ],
         "textfont": {
          "color": "gray"
         },
         "textposition": "middle center",
         "type": "scatter3d",
         "x": [
          1.4
         ],
         "y": [
          0
         ],
         "z": [
          0
         ]
        },
        {
         "line": {
          "color": "gray"
         },
         "mode": "lines",
         "showlegend": false,
         "type": "scatter3d",
         "x": [
          0,
          0
         ],
         "y": [
          0,
          1
         ],
         "z": [
          0,
          0
         ]
        },
        {
         "colorscale": [
          [
           0,
           "gray"
          ],
          [
           1,
           "gray"
          ]
         ],
         "showlegend": false,
         "showscale": false,
         "sizemode": "scaled",
         "sizeref": 0.3,
         "type": "cone",
         "u": [
          0
         ],
         "v": [
          1
         ],
         "w": [
          0
         ],
         "x": [
          0
         ],
         "y": [
          1
         ],
         "z": [
          0
         ]
        },
        {
         "mode": "text",
         "showlegend": false,
         "text": [
          "y"
         ],
         "textfont": {
          "color": "gray"
         },
         "textposition": "middle center",
         "type": "scatter3d",
         "x": [
          0
         ],
         "y": [
          1.4
         ],
         "z": [
          0
         ]
        },
        {
         "line": {
          "color": "gray"
         },
         "mode": "lines",
         "showlegend": false,
         "type": "scatter3d",
         "x": [
          0,
          0
         ],
         "y": [
          0,
          0
         ],
         "z": [
          0,
          1
         ]
        },
        {
         "colorscale": [
          [
           0,
           "gray"
          ],
          [
           1,
           "gray"
          ]
         ],
         "showlegend": false,
         "showscale": false,
         "sizemode": "scaled",
         "sizeref": 0.3,
         "type": "cone",
         "u": [
          0
         ],
         "v": [
          0
         ],
         "w": [
          1
         ],
         "x": [
          0
         ],
         "y": [
          0
         ],
         "z": [
          1
         ]
        },
        {
         "mode": "text",
         "showlegend": false,
         "text": [
          "z"
         ],
         "textfont": {
          "color": "gray"
         },
         "textposition": "middle center",
         "type": "scatter3d",
         "x": [
          0
         ],
         "y": [
          0
         ],
         "z": [
          1.4
         ]
        },
        {
         "line": {
          "color": "black"
         },
         "mode": "lines",
         "showlegend": false,
         "type": "scatter3d",
         "x": [
          2,
          2
         ],
         "y": [
          0,
          -1
         ],
         "z": [
          1,
          0.9999999999999999
         ]
        },
        {
         "colorscale": [
          [
           0,
           "black"
          ],
          [
           1,
           "black"
          ]
         ],
         "showlegend": false,
         "showscale": false,
         "sizemode": "scaled",
         "sizeref": 0.3,
         "type": "cone",
         "u": [
          0
         ],
         "v": [
          -1
         ],
         "w": [
          -1.1102230246251565e-16
         ],
         "x": [
          2
         ],
         "y": [
          -1
         ],
         "z": [
          0.9999999999999999
         ]
        },
        {
         "mode": "text",
         "showlegend": false,
         "text": [
          "x"
         ],
         "textfont": {
          "color": "black"
         },
         "textposition": "middle center",
         "type": "scatter3d",
         "x": [
          1.9999999999999998
         ],
         "y": [
          -1.4
         ],
         "z": [
          0.9999999999999997
         ]
        },
        {
         "line": {
          "color": "black"
         },
         "mode": "lines",
         "showlegend": false,
         "type": "scatter3d",
         "x": [
          2,
          2
         ],
         "y": [
          0,
          6.123233995736766e-17
         ],
         "z": [
          1,
          0
         ]
        },
        {
         "colorscale": [
          [
           0,
           "black"
          ],
          [
           1,
           "black"
          ]
         ],
         "showlegend": false,
         "showscale": false,
         "sizemode": "scaled",
         "sizeref": 0.3,
         "type": "cone",
         "u": [
          0
         ],
         "v": [
          6.123233995736766e-17
         ],
         "w": [
          -1
         ],
         "x": [
          2
         ],
         "y": [
          6.123233995736766e-17
         ],
         "z": [
          0
         ]
        },
        {
         "mode": "text",
         "showlegend": false,
         "text": [
          "y"
         ],
         "textfont": {
          "color": "black"
         },
         "textposition": "middle center",
         "type": "scatter3d",
         "x": [
          1.9999999999999998
         ],
         "y": [
          8.572527594031472e-17
         ],
         "z": [
          -0.4
         ]
        },
        {
         "line": {
          "color": "black"
         },
         "mode": "lines",
         "showlegend": false,
         "type": "scatter3d",
         "x": [
          2,
          3
         ],
         "y": [
          0,
          0
         ],
         "z": [
          1,
          1
         ]
        },
        {
         "colorscale": [
          [
           0,
           "black"
          ],
          [
           1,
           "black"
          ]
         ],
         "showlegend": false,
         "showscale": false,
         "sizemode": "scaled",
         "sizeref": 0.3,
         "type": "cone",
         "u": [
          1
         ],
         "v": [
          0
         ],
         "w": [
          0
         ],
         "x": [
          3
         ],
         "y": [
          0
         ],
         "z": [
          1
         ]
        },
        {
         "mode": "text",
         "showlegend": false,
         "text": [
          "z"
         ],
         "textfont": {
          "color": "black"
         },
         "textposition": "middle center",
         "type": "scatter3d",
         "x": [
          3.3999999999999995
         ],
         "y": [
          0
         ],
         "z": [
          0.9999999999999999
         ]
        },
        {
         "color": "black",
         "i": [
          0,
          0
         ],
         "j": [
          1,
          2
         ],
         "k": [
          2,
          3
         ],
         "opacity": 0.3,
         "type": "mesh3d",
         "x": [
          3,
          3,
          3,
          3
         ],
         "y": [
          2,
          -2,
          -2,
          2
         ],
         "z": [
          2,
          2,
          -1.1102230246251565e-16,
          2.220446049250313e-16
         ]
        },
        {
         "line": {
          "color": "black"
         },
         "mode": "lines",
         "opacity": 0.3,
         "showlegend": false,
         "type": "scatter3d",
         "x": [
          2,
          10002
         ],
         "y": [
          0,
          20000
         ],
         "z": [
          1,
          10001
         ]
        },
        {
         "line": {
          "color": "black"
         },
         "mode": "lines",
         "opacity": 0.3,
         "showlegend": false,
         "type": "scatter3d",
         "x": [
          2,
          10002
         ],
         "y": [
          0,
          -20000
         ],
         "z": [
          1,
          10001
         ]
        },
        {
         "line": {
          "color": "black"
         },
         "mode": "lines",
         "opacity": 0.3,
         "showlegend": false,
         "type": "scatter3d",
         "x": [
          2,
          10002
         ],
         "y": [
          0,
          -20000
         ],
         "z": [
          1,
          -9999
         ]
        },
        {
         "line": {
          "color": "black"
         },
         "mode": "lines",
         "opacity": 0.3,
         "showlegend": false,
         "type": "scatter3d",
         "x": [
          2,
          10002
         ],
         "y": [
          0,
          20000
         ],
         "z": [
          1,
          -9998.999999999998
         ]
        },
        {
         "marker": {
          "color": "black",
          "opacity": 1,
          "size": 2
         },
         "mode": "markers",
         "showlegend": false,
         "type": "scatter3d",
         "x": [
          4.5,
          4.842020143325668,
          5.14278760968654,
          5.366025403784438,
          5.484807753012208,
          5.484807753012208,
          5.366025403784438,
          5.14278760968654,
          4.842020143325669,
          4.5,
          4.5,
          4.776700108369021,
          5.020026100010061,
          5.200629269222037,
          5.2967262083790825,
          5.2967262083790825,
          5.200629269222037,
          5.020026100010061,
          4.776700108369021,
          4.5,
          4.5,
          4.605690036706187,
          4.698632295166791,
          4.767616567329817,
          4.804322331872978,
          4.804322331872978,
          4.767616567329817,
          4.698632295166791,
          4.605690036706187,
          4.5,
          4.5,
          4.394309963293813,
          4.301367704833209,
          4.232383432670183,
          4.195677668127022,
          4.195677668127022,
          4.232383432670183,
          4.301367704833209,
          4.394309963293813,
          4.5,
          4.5,
          4.223299891630979,
          3.9799738999899392,
          3.799370730777963,
          3.703273791620918,
          3.703273791620918,
          3.799370730777963,
          3.979973899989939,
          4.223299891630979,
          4.5,
          4.5,
          4.157979856674332,
          3.8572123903134607,
          3.6339745962155616,
          3.515192246987792,
          3.515192246987792,
          3.633974596215561,
          3.8572123903134603,
          4.157979856674331,
          4.5,
          4.5,
          4.223299891630979,
          3.9799738999899392,
          3.799370730777963,
          3.703273791620918,
          3.703273791620918,
          3.799370730777963,
          3.979973899989939,
          4.223299891630979,
          4.5,
          4.5,
          4.394309963293813,
          4.301367704833209,
          4.232383432670183,
          4.195677668127022,
          4.195677668127022,
          4.232383432670183,
          4.301367704833209,
          4.394309963293813,
          4.5,
          4.5,
          4.605690036706187,
          4.698632295166791,
          4.767616567329817,
          4.804322331872978,
          4.804322331872978,
          4.767616567329817,
          4.698632295166791,
          4.605690036706187,
          4.5,
          4.5,
          4.776700108369021,
          5.02002610001006,
          5.200629269222037,
          5.2967262083790825,
          5.2967262083790825,
          5.200629269222037,
          5.020026100010061,
          4.776700108369021,
          4.5,
          4.5,
          4.842020143325668,
          5.14278760968654,
          5.366025403784438,
          5.484807753012208,
          5.484807753012208,
          5.366025403784438,
          5.14278760968654,
          4.842020143325669,
          4.5
         ],
         "y": [
          0,
          0,
          0,
          0,
          0,
          0,
          0,
          0,
          0,
          0,
          0,
          0.201034396233786,
          0.37782107733007825,
          0.5090369604551271,
          0.5788554735638642,
          0.5788554735638642,
          0.5090369604551273,
          0.37782107733007836,
          0.2010343962337861,
          7.198293278059966e-17,
          0,
          0.3252804860140796,
          0.6113273447861689,
          0.8236391035463319,
          0.9366078308002486,
          0.9366078308002486,
          0.823639103546332,
          0.6113273447861691,
          0.3252804860140798,
          1.1647083184890923e-16,
          0,
          0.3252804860140796,
          0.611327344786169,
          0.823639103546332,
          0.9366078308002487,
          0.9366078308002487,
          0.8236391035463321,
          0.6113273447861692,
          0.3252804860140798,
          1.1647083184890926e-16,
          0,
          0.20103439623378605,
          0.3778210773300783,
          0.5090369604551273,
          0.5788554735638644,
          0.5788554735638644,
          0.5090369604551274,
          0.3778210773300784,
          0.20103439623378613,
          7.198293278059968e-17,
          0,
          4.188538737676992e-17,
          7.871877887341985e-17,
          1.0605752387249068e-16,
          1.2060416625018976e-16,
          1.2060416625018976e-16,
          1.0605752387249069e-16,
          7.871877887341988e-17,
          4.1885387376769936e-17,
          1.4997597826618576e-32,
          0,
          -0.20103439623378597,
          -0.37782107733007814,
          -0.509036960455127,
          -0.5788554735638641,
          -0.5788554735638641,
          -0.5090369604551271,
          -0.3778210773300783,
          -0.20103439623378608,
          -7.198293278059965e-17,
          0,
          -0.3252804860140796,
          -0.6113273447861689,
          -0.8236391035463319,
          -0.9366078308002486,
          -0.9366078308002486,
          -0.823639103546332,
          -0.6113273447861691,
          -0.3252804860140798,
          -1.1647083184890923e-16,
          0,
          -0.3252804860140796,
          -0.611327344786169,
          -0.823639103546332,
          -0.9366078308002487,
          -0.9366078308002487,
          -0.8236391035463321,
          -0.6113273447861692,
          -0.3252804860140798,
          -1.1647083184890926e-16,
          0,
          -0.20103439623378608,
          -0.37782107733007836,
          -0.5090369604551274,
          -0.5788554735638645,
          -0.5788554735638645,
          -0.5090369604551274,
          -0.37782107733007847,
          -0.2010343962337862,
          -7.19829327805997e-17,
          0,
          -8.377077475353984e-17,
          -1.574375577468397e-16,
          -2.1211504774498136e-16,
          -2.412083325003795e-16,
          -2.412083325003795e-16,
          -2.1211504774498138e-16,
          -1.5743755774683975e-16,
          -8.377077475353987e-17,
          -2.999519565323715e-32
         ],
         "z": [
          2,
          1.9396926207859084,
          1.766044443118978,
          1.5,
          1.1736481776669305,
          0.8263518223330697,
          0.5000000000000002,
          0.2339555568810221,
          0.06030737921409168,
          0,
          2,
          1.9396926207859084,
          1.766044443118978,
          1.5,
          1.1736481776669305,
          0.8263518223330697,
          0.5000000000000002,
          0.2339555568810221,
          0.06030737921409168,
          0,
          2,
          1.9396926207859084,
          1.766044443118978,
          1.5,
          1.1736481776669305,
          0.8263518223330697,
          0.5000000000000002,
          0.2339555568810221,
          0.06030737921409168,
          0,
          2,
          1.9396926207859084,
          1.766044443118978,
          1.5,
          1.1736481776669305,
          0.8263518223330697,
          0.5000000000000002,
          0.2339555568810221,
          0.06030737921409168,
          0,
          2,
          1.9396926207859084,
          1.766044443118978,
          1.5,
          1.1736481776669305,
          0.8263518223330697,
          0.5000000000000002,
          0.2339555568810221,
          0.06030737921409168,
          0,
          2,
          1.9396926207859084,
          1.766044443118978,
          1.5,
          1.1736481776669305,
          0.8263518223330697,
          0.5000000000000002,
          0.2339555568810221,
          0.06030737921409168,
          0,
          2,
          1.9396926207859084,
          1.766044443118978,
          1.5,
          1.1736481776669305,
          0.8263518223330697,
          0.5000000000000002,
          0.2339555568810221,
          0.06030737921409168,
          0,
          2,
          1.9396926207859084,
          1.766044443118978,
          1.5,
          1.1736481776669305,
          0.8263518223330697,
          0.5000000000000002,
          0.2339555568810221,
          0.06030737921409168,
          0,
          2,
          1.9396926207859084,
          1.766044443118978,
          1.5,
          1.1736481776669305,
          0.8263518223330697,
          0.5000000000000002,
          0.2339555568810221,
          0.06030737921409168,
          0,
          2,
          1.9396926207859084,
          1.766044443118978,
          1.5,
          1.1736481776669305,
          0.8263518223330697,
          0.5000000000000002,
          0.2339555568810221,
          0.06030737921409168,
          0,
          2,
          1.9396926207859084,
          1.766044443118978,
          1.5,
          1.1736481776669305,
          0.8263518223330697,
          0.5000000000000002,
          0.2339555568810221,
          0.06030737921409168,
          0
         ]
        }
       ],
       "layout": {
        "height": 500,
        "scene": {
         "aspectmode": "manual",
         "aspectratio": {
          "x": 1,
          "y": 1,
          "z": 1
         },
         "xaxis": {
          "nticks": 4,
          "range": [
           -6,
           6
          ]
         },
         "yaxis": {
          "nticks": 4,
          "range": [
           -6,
           6
          ]
         },
         "zaxis": {
          "nticks": 4,
          "range": [
           -6,
           6
          ]
         }
        },
        "template": {
         "data": {
          "bar": [
           {
            "error_x": {
             "color": "#2a3f5f"
            },
            "error_y": {
             "color": "#2a3f5f"
            },
            "marker": {
             "line": {
              "color": "#E5ECF6",
              "width": 0.5
             },
             "pattern": {
              "fillmode": "overlay",
              "size": 10,
              "solidity": 0.2
             }
            },
            "type": "bar"
           }
          ],
          "barpolar": [
           {
            "marker": {
             "line": {
              "color": "#E5ECF6",
              "width": 0.5
             },
             "pattern": {
              "fillmode": "overlay",
              "size": 10,
              "solidity": 0.2
             }
            },
            "type": "barpolar"
           }
          ],
          "carpet": [
           {
            "aaxis": {
             "endlinecolor": "#2a3f5f",
             "gridcolor": "white",
             "linecolor": "white",
             "minorgridcolor": "white",
             "startlinecolor": "#2a3f5f"
            },
            "baxis": {
             "endlinecolor": "#2a3f5f",
             "gridcolor": "white",
             "linecolor": "white",
             "minorgridcolor": "white",
             "startlinecolor": "#2a3f5f"
            },
            "type": "carpet"
           }
          ],
          "choropleth": [
           {
            "colorbar": {
             "outlinewidth": 0,
             "ticks": ""
            },
            "type": "choropleth"
           }
          ],
          "contour": [
           {
            "colorbar": {
             "outlinewidth": 0,
             "ticks": ""
            },
            "colorscale": [
             [
              0,
              "#0d0887"
             ],
             [
              0.1111111111111111,
              "#46039f"
             ],
             [
              0.2222222222222222,
              "#7201a8"
             ],
             [
              0.3333333333333333,
              "#9c179e"
             ],
             [
              0.4444444444444444,
              "#bd3786"
             ],
             [
              0.5555555555555556,
              "#d8576b"
             ],
             [
              0.6666666666666666,
              "#ed7953"
             ],
             [
              0.7777777777777778,
              "#fb9f3a"
             ],
             [
              0.8888888888888888,
              "#fdca26"
             ],
             [
              1,
              "#f0f921"
             ]
            ],
            "type": "contour"
           }
          ],
          "contourcarpet": [
           {
            "colorbar": {
             "outlinewidth": 0,
             "ticks": ""
            },
            "type": "contourcarpet"
           }
          ],
          "heatmap": [
           {
            "colorbar": {
             "outlinewidth": 0,
             "ticks": ""
            },
            "colorscale": [
             [
              0,
              "#0d0887"
             ],
             [
              0.1111111111111111,
              "#46039f"
             ],
             [
              0.2222222222222222,
              "#7201a8"
             ],
             [
              0.3333333333333333,
              "#9c179e"
             ],
             [
              0.4444444444444444,
              "#bd3786"
             ],
             [
              0.5555555555555556,
              "#d8576b"
             ],
             [
              0.6666666666666666,
              "#ed7953"
             ],
             [
              0.7777777777777778,
              "#fb9f3a"
             ],
             [
              0.8888888888888888,
              "#fdca26"
             ],
             [
              1,
              "#f0f921"
             ]
            ],
            "type": "heatmap"
           }
          ],
          "heatmapgl": [
           {
            "colorbar": {
             "outlinewidth": 0,
             "ticks": ""
            },
            "colorscale": [
             [
              0,
              "#0d0887"
             ],
             [
              0.1111111111111111,
              "#46039f"
             ],
             [
              0.2222222222222222,
              "#7201a8"
             ],
             [
              0.3333333333333333,
              "#9c179e"
             ],
             [
              0.4444444444444444,
              "#bd3786"
             ],
             [
              0.5555555555555556,
              "#d8576b"
             ],
             [
              0.6666666666666666,
              "#ed7953"
             ],
             [
              0.7777777777777778,
              "#fb9f3a"
             ],
             [
              0.8888888888888888,
              "#fdca26"
             ],
             [
              1,
              "#f0f921"
             ]
            ],
            "type": "heatmapgl"
           }
          ],
          "histogram": [
           {
            "marker": {
             "pattern": {
              "fillmode": "overlay",
              "size": 10,
              "solidity": 0.2
             }
            },
            "type": "histogram"
           }
          ],
          "histogram2d": [
           {
            "colorbar": {
             "outlinewidth": 0,
             "ticks": ""
            },
            "colorscale": [
             [
              0,
              "#0d0887"
             ],
             [
              0.1111111111111111,
              "#46039f"
             ],
             [
              0.2222222222222222,
              "#7201a8"
             ],
             [
              0.3333333333333333,
              "#9c179e"
             ],
             [
              0.4444444444444444,
              "#bd3786"
             ],
             [
              0.5555555555555556,
              "#d8576b"
             ],
             [
              0.6666666666666666,
              "#ed7953"
             ],
             [
              0.7777777777777778,
              "#fb9f3a"
             ],
             [
              0.8888888888888888,
              "#fdca26"
             ],
             [
              1,
              "#f0f921"
             ]
            ],
            "type": "histogram2d"
           }
          ],
          "histogram2dcontour": [
           {
            "colorbar": {
             "outlinewidth": 0,
             "ticks": ""
            },
            "colorscale": [
             [
              0,
              "#0d0887"
             ],
             [
              0.1111111111111111,
              "#46039f"
             ],
             [
              0.2222222222222222,
              "#7201a8"
             ],
             [
              0.3333333333333333,
              "#9c179e"
             ],
             [
              0.4444444444444444,
              "#bd3786"
             ],
             [
              0.5555555555555556,
              "#d8576b"
             ],
             [
              0.6666666666666666,
              "#ed7953"
             ],
             [
              0.7777777777777778,
              "#fb9f3a"
             ],
             [
              0.8888888888888888,
              "#fdca26"
             ],
             [
              1,
              "#f0f921"
             ]
            ],
            "type": "histogram2dcontour"
           }
          ],
          "mesh3d": [
           {
            "colorbar": {
             "outlinewidth": 0,
             "ticks": ""
            },
            "type": "mesh3d"
           }
          ],
          "parcoords": [
           {
            "line": {
             "colorbar": {
              "outlinewidth": 0,
              "ticks": ""
             }
            },
            "type": "parcoords"
           }
          ],
          "pie": [
           {
            "automargin": true,
            "type": "pie"
           }
          ],
          "scatter": [
           {
            "fillpattern": {
             "fillmode": "overlay",
             "size": 10,
             "solidity": 0.2
            },
            "type": "scatter"
           }
          ],
          "scatter3d": [
           {
            "line": {
             "colorbar": {
              "outlinewidth": 0,
              "ticks": ""
             }
            },
            "marker": {
             "colorbar": {
              "outlinewidth": 0,
              "ticks": ""
             }
            },
            "type": "scatter3d"
           }
          ],
          "scattercarpet": [
           {
            "marker": {
             "colorbar": {
              "outlinewidth": 0,
              "ticks": ""
             }
            },
            "type": "scattercarpet"
           }
          ],
          "scattergeo": [
           {
            "marker": {
             "colorbar": {
              "outlinewidth": 0,
              "ticks": ""
             }
            },
            "type": "scattergeo"
           }
          ],
          "scattergl": [
           {
            "marker": {
             "colorbar": {
              "outlinewidth": 0,
              "ticks": ""
             }
            },
            "type": "scattergl"
           }
          ],
          "scattermapbox": [
           {
            "marker": {
             "colorbar": {
              "outlinewidth": 0,
              "ticks": ""
             }
            },
            "type": "scattermapbox"
           }
          ],
          "scatterpolar": [
           {
            "marker": {
             "colorbar": {
              "outlinewidth": 0,
              "ticks": ""
             }
            },
            "type": "scatterpolar"
           }
          ],
          "scatterpolargl": [
           {
            "marker": {
             "colorbar": {
              "outlinewidth": 0,
              "ticks": ""
             }
            },
            "type": "scatterpolargl"
           }
          ],
          "scatterternary": [
           {
            "marker": {
             "colorbar": {
              "outlinewidth": 0,
              "ticks": ""
             }
            },
            "type": "scatterternary"
           }
          ],
          "surface": [
           {
            "colorbar": {
             "outlinewidth": 0,
             "ticks": ""
            },
            "colorscale": [
             [
              0,
              "#0d0887"
             ],
             [
              0.1111111111111111,
              "#46039f"
             ],
             [
              0.2222222222222222,
              "#7201a8"
             ],
             [
              0.3333333333333333,
              "#9c179e"
             ],
             [
              0.4444444444444444,
              "#bd3786"
             ],
             [
              0.5555555555555556,
              "#d8576b"
             ],
             [
              0.6666666666666666,
              "#ed7953"
             ],
             [
              0.7777777777777778,
              "#fb9f3a"
             ],
             [
              0.8888888888888888,
              "#fdca26"
             ],
             [
              1,
              "#f0f921"
             ]
            ],
            "type": "surface"
           }
          ],
          "table": [
           {
            "cells": {
             "fill": {
              "color": "#EBF0F8"
             },
             "line": {
              "color": "white"
             }
            },
            "header": {
             "fill": {
              "color": "#C8D4E3"
             },
             "line": {
              "color": "white"
             }
            },
            "type": "table"
           }
          ]
         },
         "layout": {
          "annotationdefaults": {
           "arrowcolor": "#2a3f5f",
           "arrowhead": 0,
           "arrowwidth": 1
          },
          "autotypenumbers": "strict",
          "coloraxis": {
           "colorbar": {
            "outlinewidth": 0,
            "ticks": ""
           }
          },
          "colorscale": {
           "diverging": [
            [
             0,
             "#8e0152"
            ],
            [
             0.1,
             "#c51b7d"
            ],
            [
             0.2,
             "#de77ae"
            ],
            [
             0.3,
             "#f1b6da"
            ],
            [
             0.4,
             "#fde0ef"
            ],
            [
             0.5,
             "#f7f7f7"
            ],
            [
             0.6,
             "#e6f5d0"
            ],
            [
             0.7,
             "#b8e186"
            ],
            [
             0.8,
             "#7fbc41"
            ],
            [
             0.9,
             "#4d9221"
            ],
            [
             1,
             "#276419"
            ]
           ],
           "sequential": [
            [
             0,
             "#0d0887"
            ],
            [
             0.1111111111111111,
             "#46039f"
            ],
            [
             0.2222222222222222,
             "#7201a8"
            ],
            [
             0.3333333333333333,
             "#9c179e"
            ],
            [
             0.4444444444444444,
             "#bd3786"
            ],
            [
             0.5555555555555556,
             "#d8576b"
            ],
            [
             0.6666666666666666,
             "#ed7953"
            ],
            [
             0.7777777777777778,
             "#fb9f3a"
            ],
            [
             0.8888888888888888,
             "#fdca26"
            ],
            [
             1,
             "#f0f921"
            ]
           ],
           "sequentialminus": [
            [
             0,
             "#0d0887"
            ],
            [
             0.1111111111111111,
             "#46039f"
            ],
            [
             0.2222222222222222,
             "#7201a8"
            ],
            [
             0.3333333333333333,
             "#9c179e"
            ],
            [
             0.4444444444444444,
             "#bd3786"
            ],
            [
             0.5555555555555556,
             "#d8576b"
            ],
            [
             0.6666666666666666,
             "#ed7953"
            ],
            [
             0.7777777777777778,
             "#fb9f3a"
            ],
            [
             0.8888888888888888,
             "#fdca26"
            ],
            [
             1,
             "#f0f921"
            ]
           ]
          },
          "colorway": [
           "#636efa",
           "#EF553B",
           "#00cc96",
           "#ab63fa",
           "#FFA15A",
           "#19d3f3",
           "#FF6692",
           "#B6E880",
           "#FF97FF",
           "#FECB52"
          ],
          "font": {
           "color": "#2a3f5f"
          },
          "geo": {
           "bgcolor": "white",
           "lakecolor": "white",
           "landcolor": "#E5ECF6",
           "showlakes": true,
           "showland": true,
           "subunitcolor": "white"
          },
          "hoverlabel": {
           "align": "left"
          },
          "hovermode": "closest",
          "mapbox": {
           "style": "light"
          },
          "paper_bgcolor": "white",
          "plot_bgcolor": "#E5ECF6",
          "polar": {
           "angularaxis": {
            "gridcolor": "white",
            "linecolor": "white",
            "ticks": ""
           },
           "bgcolor": "#E5ECF6",
           "radialaxis": {
            "gridcolor": "white",
            "linecolor": "white",
            "ticks": ""
           }
          },
          "scene": {
           "xaxis": {
            "backgroundcolor": "#E5ECF6",
            "gridcolor": "white",
            "gridwidth": 2,
            "linecolor": "white",
            "showbackground": true,
            "ticks": "",
            "zerolinecolor": "white"
           },
           "yaxis": {
            "backgroundcolor": "#E5ECF6",
            "gridcolor": "white",
            "gridwidth": 2,
            "linecolor": "white",
            "showbackground": true,
            "ticks": "",
            "zerolinecolor": "white"
           },
           "zaxis": {
            "backgroundcolor": "#E5ECF6",
            "gridcolor": "white",
            "gridwidth": 2,
            "linecolor": "white",
            "showbackground": true,
            "ticks": "",
            "zerolinecolor": "white"
           }
          },
          "shapedefaults": {
           "line": {
            "color": "#2a3f5f"
           }
          },
          "ternary": {
           "aaxis": {
            "gridcolor": "white",
            "linecolor": "white",
            "ticks": ""
           },
           "baxis": {
            "gridcolor": "white",
            "linecolor": "white",
            "ticks": ""
           },
           "bgcolor": "#E5ECF6",
           "caxis": {
            "gridcolor": "white",
            "linecolor": "white",
            "ticks": ""
           }
          },
          "title": {
           "x": 0.05
          },
          "xaxis": {
           "automargin": true,
           "gridcolor": "white",
           "linecolor": "white",
           "ticks": "",
           "title": {
            "standoff": 15
           },
           "zerolinecolor": "white",
           "zerolinewidth": 2
          },
          "yaxis": {
           "automargin": true,
           "gridcolor": "white",
           "linecolor": "white",
           "ticks": "",
           "title": {
            "standoff": 15
           },
           "zerolinecolor": "white",
           "zerolinewidth": 2
          }
         }
        },
        "width": 500
       }
      }
     },
     "metadata": {},
     "output_type": "display_data"
    },
    {
     "data": {
      "image/png": "[encoded data removed]",
      "text/plain": [
       "<Figure size 640x480 with 1 Axes>"
      ]
     },
     "metadata": {},
     "output_type": "display_data"
    }
   ],
   "source": [
    "# example data \n",
    "px, py, pz = 4.5, 0, 1\n",
    "data = np.array([[np.cos(theta)*np.sin(phi)+px, np.sin(theta)*np.sin(phi)+py, np.cos(phi)+pz] \n",
    "                 for theta in np.linspace(0, 2*np.pi, 11)\n",
    "                 for phi in np.linspace(0, np.pi, 10)])\n",
    "\n",
    "pts = PointCloud()\n",
    "pts.add_data(data)\n",
    "\n",
    "\n",
    "camera = Camera(Ry(np.pi/2)@Rz(-np.pi/2), np.array([2, 0, 1]))\n",
    "camera.capture(pts.data)\n",
    "\n",
    "#pts.add_data(camera.camera_data)\n",
    "\n",
    "\n",
    "plot_all([camera, pts], world=True)\n",
    "\n",
    "camera.show_image()"
   ]
  },
  {
   "cell_type": "code",
   "execution_count": null,
   "metadata": {},
   "outputs": [],
   "source": []
  },
  {
   "cell_type": "code",
   "execution_count": null,
   "metadata": {},
   "outputs": [],
   "source": []
  }
 ],
 "metadata": {
  "kernelspec": {
   "display_name": "base",
   "language": "python",
   "name": "python3"
  },
  "language_info": {
   "codemirror_mode": {
    "name": "ipython",
    "version": 3
   },
   "file_extension": ".py",
   "mimetype": "text/x-python",
   "name": "python",
   "nbconvert_exporter": "python",
   "pygments_lexer": "ipython3",
   "version": "3.9.16"
  },
  "orig_nbformat": 4
 },
 "nbformat": 4,
 "nbformat_minor": 2
}
