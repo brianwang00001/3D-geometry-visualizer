{
 "cells": [
  {
   "cell_type": "code",
   "execution_count": 1,
   "metadata": {},
   "outputs": [],
   "source": [
    "import numpy as np \n",
    "import matplotlib.pyplot as plt \n",
    "import plotly.graph_objects as go"
   ]
  },
  {
   "cell_type": "code",
   "execution_count": 2,
   "metadata": {},
   "outputs": [],
   "source": [
    "# rotation matrix\n",
    "Rx = lambda theta: np.array([\n",
    "    [1, 0, 0],\n",
    "    [0, np.cos(theta), -np.sin(theta)],\n",
    "    [0, np.sin(theta), np.cos(theta)]])\n",
    "Ry = lambda theta: np.array([\n",
    "    [np.cos(theta), 0, np.sin(theta)],\n",
    "    [0, 1, 0],\n",
    "    [-np.sin(theta), 0, np.cos(theta)]])\n",
    "Rz = lambda theta: np.array([\n",
    "    [np.cos(theta), -np.sin(theta), 0], \n",
    "    [np.sin(theta), np.cos(theta), 0],\n",
    "    [0, 0, 1]])\n",
    "\n",
    "# skew symmetric matrix for cross product\n",
    "skew = lambda v: np.array([\n",
    "    [0, -v[2], v[1]],\n",
    "    [v[2], 0, -v[0]],\n",
    "    [-v[1], v[0], 0]])    "
   ]
  },
  {
   "cell_type": "code",
   "execution_count": 3,
   "metadata": {},
   "outputs": [],
   "source": [
    "class Arrow:\n",
    "\n",
    "    def __init__(self, start, end, color='black', name=None):\n",
    "        start = start.flatten()\n",
    "        end = end.flatten()\n",
    "        head_scale = 0.3 # adjusts the cone size scaling \n",
    "\n",
    "        body = go.Scatter3d(x = [start[0], end[0]],\n",
    "                            y = [start[1], end[1]],\n",
    "                            z = [start[2], end[2]], \n",
    "                            mode = \"lines\",\n",
    "                            line = dict(color=color), \n",
    "                            showlegend = False)\n",
    "        \n",
    "        head = go.Cone(x = [end[0]], y = [end[1]], z = [end[2]],\n",
    "                    u = [end[0]-start[0]], v = [end[1]-start[1]], w = [end[2]-start[2]],\n",
    "                    sizemode = \"scaled\",\n",
    "                    sizeref = head_scale,\n",
    "                    colorscale = [[0, color], [1, color]],\n",
    "                    showscale=False,\n",
    "                    showlegend=False)\n",
    "        \n",
    "        dist = 0.4\n",
    "        text = go.Scatter3d(x = [-dist * start[0] + (1 + dist) * end[0]],\n",
    "                            y = [-dist * start[1] + (1 + dist) * end[1]],\n",
    "                            z = [-dist * start[2] + (1 + dist) * end[2]],\n",
    "                            mode = \"text\",\n",
    "                            text = [name],\n",
    "                            textposition = 'middle center',\n",
    "                            showlegend = False,\n",
    "                            textfont = dict(color=color))\n",
    "        self.fig_data = [body, head, text]\n",
    "\n",
    "    def get_fig_data(self):\n",
    "        return self.fig_data\n",
    "\n",
    "class Frame:\n",
    "    \n",
    "    def __init__(self, pose=np.eye(3), center=np.zeros(3), color='black'):\n",
    "        # original center and pose \n",
    "        x_axis = np.array([1, 0, 0])\n",
    "        y_axis = np.array([0, 1, 0])\n",
    "        z_axis = np.array([0, 0, 1])\n",
    "\n",
    "        # transformed center and pose  \n",
    "        x_axis = pose @ x_axis\n",
    "        y_axis = pose @ y_axis\n",
    "        z_axis = pose @ z_axis\n",
    "        o = center\n",
    "\n",
    "        fig_data = []\n",
    "        fig_data.extend(Arrow(o, o + x_axis, color=color, name='x').get_fig_data())\n",
    "        fig_data.extend(Arrow(o, o + y_axis, color=color, name='y').get_fig_data())\n",
    "        fig_data.extend(Arrow(o, o + z_axis, color=color, name='z').get_fig_data())\n",
    "        self.fig_data = fig_data\n",
    "    \n",
    "    def get_fig_data(self):\n",
    "        return self.fig_data\n",
    "\n",
    "# Line segment\n",
    "class Segment:\n",
    "\n",
    "    def __init__(self, start, end, color='black', opacity=1):\n",
    "        start, end = self.input_broadcast(start, end)\n",
    "        fig_data = []\n",
    "        for _start, _end in zip(start, end):\n",
    "            fig_data.append(go.Scatter3d(\n",
    "                x = [_start[0], _end[0]], \n",
    "                y = [_start[1], _end[1]], \n",
    "                z = [_start[2], _end[2]], \n",
    "                mode = \"lines\", line = dict(color=color), opacity=opacity, showlegend = False))\n",
    "        self.fig_data = fig_data\n",
    "\n",
    "    # ===== to allow 1-to-1, 1-to-N, N-to-1, N-to-M inputs =====\n",
    "    # case 1: a: (3, ), b: (3, ) ->  (1, 3), b: (1, 3)\n",
    "    # case 2: a: (N, 3), b: (3, ) -> (N, 3), b: (N, 3)\n",
    "    # case 3: a: (3, ), b: (N, 3) -> (N, 3), b: (N, 3)\n",
    "    # case 4: a: (N, 3), b: (M, 3) -> (N*M, 3), b: (N*M, 3)\n",
    "    def input_broadcast(self, a, b):\n",
    "        a, b, = a.reshape(-1, 3), b.reshape(-1, 3)\n",
    "        Na, Nb = a.shape[0], b.shape[0]\n",
    "        new_a = np.repeat(a, Nb, axis=0)\n",
    "        new_b = np.repeat(b, Na, axis=0)\n",
    "        new_b = new_b.reshape(Nb, Na, 3).transpose(1, 0, 2).reshape(-1, 3)\n",
    "        return new_a, new_b\n",
    "\n",
    "    def get_fig_data(self):\n",
    "        return self.fig_data\n",
    "    \n",
    "# plot \"infinitely\" lone line\n",
    "class Line(Segment):\n",
    "\n",
    "    def __init__(self, start, end, color='black', opacity=1):\n",
    "        start, end = super().input_broadcast(start, end)\n",
    "        \n",
    "        a_big_num = 20\n",
    "        length = np.linalg.norm(start - end, axis=-1) + 1e-15\n",
    "        coef = a_big_num / length\n",
    "        coef = coef.reshape(-1, 1)\n",
    "        start2end = end - start \n",
    "        # basically extend the line segment to \"infinitely\" long\n",
    "        start = start - coef * start2end\n",
    "        end = end + coef * start2end\n",
    "        super().__init__(start, end, color, opacity)\n",
    "\n",
    "    def get_fig_data(self):\n",
    "        return super().get_fig_data()\n",
    "\n",
    "# include image plane and the 4 lines from focal point to the 4 corners of the image plane\n",
    "class ImagePlane:\n",
    "\n",
    "    def __init__(self, pose, center, focal_len, img_width, img_height, color='black'):\n",
    "        x_axis = np.array([1, 0, 0])\n",
    "        y_axis = np.array([0, 1, 0])\n",
    "        z_axis = np.array([0, 0, 1])\n",
    "        x_axis = pose @ x_axis \n",
    "        y_axis = pose @ y_axis\n",
    "        z_axis = pose @ z_axis\n",
    "        o = center # center of the camera coordinate frame\n",
    "        img_center = o + z_axis * focal_len # center of the image plane \n",
    "\n",
    "        # 4 corners of the image plane \n",
    "        corner1 = img_center - (img_width / 2) * x_axis - (img_height / 2) * y_axis\n",
    "        corner2 = img_center + (img_width / 2) * x_axis - (img_height / 2) * y_axis\n",
    "        corner3 = img_center + (img_width / 2) * x_axis + (img_height / 2) * y_axis\n",
    "        corner4 = img_center - (img_width / 2) * x_axis + (img_height / 2) * y_axis\n",
    "        corners = np.vstack([corner1, corner2, corner3, corner4])\n",
    "        \n",
    "        opcty = 0.3 # opacity of the image plane and lines\n",
    "        data = [go.Mesh3d(x=corners[:, 0], y=corners[:, 1], z=corners[:, 2], \n",
    "                        i=[0, 0],  # vertices of first triangle\n",
    "                        j=[1, 2],  # vertices of second triangle\n",
    "                        k=[2, 3],  # vertices of third triangle\n",
    "                        opacity=opcty, color=color)]\n",
    "        data.extend(Segment(o, corner1, color=color, opacity=opcty).get_fig_data())\n",
    "        data.extend(Segment(o, corner2, color=color, opacity=opcty).get_fig_data())\n",
    "        data.extend(Segment(o, corner3, color=color, opacity=opcty).get_fig_data())\n",
    "        data.extend(Segment(o, corner4, color=color, opacity=opcty).get_fig_data())\n",
    "\n",
    "        self.fig_data = data\n",
    "\n",
    "    def get_fig_data(self):\n",
    "        return self.fig_data\n",
    "\n",
    "drange = 4 # set the plot size\n",
    "graph_center = np.array([2, 0, 1])\n",
    "def plot_all(\n",
    "    figs, \n",
    "    world=False, \n",
    "    pltrange=[[-drange+graph_center[0], drange+graph_center[0]], \n",
    "              [-drange+graph_center[1], drange+graph_center[1]],\n",
    "              [-drange+graph_center[2], drange+graph_center[2]]],\n",
    "    ):\n",
    "    if type(figs) == dict: \n",
    "        figs = [figs[i] for i in figs] \n",
    "          \n",
    "    if world == True:\n",
    "        fig_data = Frame(color='gray').get_fig_data()\n",
    "        for fig in figs:\n",
    "            fig_data.extend(fig.get_fig_data())\n",
    "        FIG = go.Figure(data=fig_data)\n",
    "        FIG.update_layout(\n",
    "            scene = dict(\n",
    "                xaxis = dict(nticks = 4, range = pltrange[0]),\n",
    "                yaxis = dict(nticks = 4, range = pltrange[1]),\n",
    "                zaxis = dict(nticks = 4, range = pltrange[2]),\n",
    "                # set aspectratio to 1:1:1\n",
    "                aspectratio = dict(x = 1, y = 1, z = 1)\n",
    "            ), \n",
    "            width=500,\n",
    "            height=500,\n",
    "        )\n",
    "    else:\n",
    "        fig_data = []\n",
    "        for fig in figs:\n",
    "            fig_data.extend(fig.get_fig_data())\n",
    "        FIG = go.Figure(data=fig_data)\n",
    "    FIG.update_layout(\n",
    "        margin=dict(l=10, r=10, t=10, b=10),\n",
    "    )\n",
    "\n",
    "    FIG.show()\n",
    "    return FIG\n",
    "\n",
    "# cannot be capture by camera, I guess...\n",
    "class Point:\n",
    "    def __init__(self, pts, color='black', size=2):\n",
    "        fig_data = go.Scatter3d(\n",
    "            x = [pts[0]], \n",
    "            y = [pts[1]], \n",
    "            z = [pts[2]], \n",
    "            mode = \"markers\", marker = dict(color=color, size=size), showlegend = False)\n",
    "        self.fig_data = [fig_data]\n",
    "\n",
    "    def get_fig_data(self):\n",
    "        return self.fig_data\n",
    "    \n",
    "# quite similar to Point class, but can store different point sets with different colors\n",
    "class PointCloud:\n",
    "    \n",
    "    # data = [pts, \"color\"]\n",
    "    def __init__(self, size=2):\n",
    "        self.pts_data = []\n",
    "        self.size = size\n",
    "        \n",
    "    def add_data(self, data):\n",
    "        # default color is black\n",
    "        if data:\n",
    "            if len(data) <= 1:\n",
    "                data.append('black')\n",
    "            data[0] = data[0].reshape(-1, 3)\n",
    "        self.pts_data.append(data) \n",
    "        \n",
    "    def get_fig_data(self):\n",
    "        fig_data = []\n",
    "        if self.pts_data:\n",
    "            for pts, color in self.pts_data:\n",
    "                fig_data.append(go.Scatter3d(\n",
    "                    x = pts[:, 0],\n",
    "                    y = pts[:, 1],\n",
    "                    z = pts[:, 2],\n",
    "                    mode = 'markers',\n",
    "                    marker = dict(size = self.size, color = color, opacity=1),\n",
    "                    showlegend = False))\n",
    "        \n",
    "        return fig_data\n",
    "    \n",
    "# show text in 3D space\n",
    "class Text:\n",
    "\n",
    "    def __init__(self, pts, names, color='black'):\n",
    "        # INPUT\n",
    "        #  pts   : list of (3, ) arrays\n",
    "        #  names : list of strings\n",
    "        assert len(pts)==len(names)\n",
    "        self.pts = pts\n",
    "        self.names = names\n",
    "        self.color = color \n",
    "        self.fig_data = []\n",
    "        for pt, name in zip(self.pts, self.names):\n",
    "            self.add_name(pt, name)\n",
    "\n",
    "    def add_name(self, pt, name):\n",
    "        fig_data = go.Scatter3d(x = [pt[0]], \n",
    "                                y = [pt[1]], \n",
    "                                z = [pt[2]],\n",
    "                                text = [name],\n",
    "                                mode = 'text', \n",
    "                                marker = dict(size = 2, color = self.color, opacity=1), \n",
    "                                showlegend = False)\n",
    "        self.fig_data.append(fig_data)\n",
    "    \n",
    "    def get_fig_data(self):\n",
    "        return self.fig_data\n",
    "    \n"
   ]
  },
  {
   "cell_type": "markdown",
   "metadata": {},
   "source": [
    "# Camera Models"
   ]
  },
  {
   "cell_type": "code",
   "execution_count": 4,
   "metadata": {},
   "outputs": [],
   "source": [
    "# homogeneous to euclidean, 1d or 2d data\n",
    "def homo2eucl(data):\n",
    "    if len(data.shape) == 1:\n",
    "        return data[:-1] / data[-1]\n",
    "    else:\n",
    "        return data[:, :-1] / data[:, -1].reshape(-1, 1)\n",
    "\n",
    "# euclidean to homogeneous, 1d or 2d data\n",
    "def eucl2homo(data):\n",
    "    if len(data.shape) == 1:\n",
    "        return np.hstack([data, 1])\n",
    "    else:\n",
    "        return np.hstack([data, np.ones((data.shape[0], 1))])\n",
    "\n",
    "class Camera:\n",
    "\n",
    "    def __init__(self, pose, center, name=None, show_frame=True):\n",
    "        self.pose = pose\n",
    "        self.center = center\n",
    "        self.focal_len = 1\n",
    "        self.img_width = 4\n",
    "        self.img_height = 2\n",
    "        self.name = name\n",
    "        self.fig_data = []\n",
    "        \n",
    "        # coordinate frame \n",
    "        if show_frame:\n",
    "            self.fig_data.extend(Frame(self.pose, self.center).get_fig_data())\n",
    "        # image plane \n",
    "        self.fig_data.extend(ImagePlane(self.pose, self.center, self.focal_len, self.img_width, self.img_height).get_fig_data())    \n",
    "        # add name \n",
    "        if self.name is not None:\n",
    "            self.add_name()\n",
    "\n",
    "        # data points in represented by different coordinate frames\n",
    "        self.pts_data = None # pts_data = [[pts1, color1], [pts2, color2], ...]\n",
    "        self.world_pts = None \n",
    "        self.camera_pts = None \n",
    "        self.image_pts = None \n",
    "\n",
    "        # store the color of the points\n",
    "        self.pts_color = None\n",
    "\n",
    "        # camera pose matrix R (using the convention in Hartley's book)\n",
    "        self.R = self.pose.T\n",
    "\n",
    "        # camera calibration matrix\n",
    "        self.K = np.array([[self.focal_len, 0, self.img_width/2],\n",
    "                           [0, self.focal_len, self.img_height/2],\n",
    "                           [0, 0, 1]])\n",
    "        \n",
    "        # camera projection matrix\n",
    "        self.P = self.K @ self.R @ np.hstack([np.eye(3), -self.center[:, None]])\n",
    "\n",
    "    def get_fig_data(self):\n",
    "        return self.fig_data\n",
    "\n",
    "    def plot_camera(self):\n",
    "        # plot coordinate frame \n",
    "        fig = go.Figure(data=self.fig_data)\n",
    "        fig.show()\n",
    "\n",
    "    def capture(self, pts):\n",
    "        self.pts_data = pts.pts_data\n",
    "\n",
    "        self.world_pts = np.vstack([d[0] for d in self.pts_data])\n",
    "        self.pts_color = np.array([d[1] for d in self.pts_data for _ in range(d[0].shape[0])])\n",
    "\n",
    "        # transform the data to the camera coordinate frame\n",
    "        # remember the formula: X_camera = pose.T @ (X_world - center)\n",
    "        camera_pts = (self.world_pts - self.center) @ self.pose\n",
    "        self.camera_pts = camera_pts[camera_pts[:, -1] > self.focal_len] # remove points behind the camera\n",
    "        self.pts_color = self.pts_color[camera_pts[:, -1] > self.focal_len] # remove points (color) behind the camera\n",
    "        \n",
    "        # transform the data to the image coordinate frame\n",
    "        image_pts = self.camera_pts @ self.K.T \n",
    "        self.image_pts = image_pts[:, :-1] / image_pts[:, -1][:, None]\n",
    "        #self.image_pts = homo2eucl(eucl2homo(self.world_pts) @ self.P.T)\n",
    "        \n",
    "    def show_image(self):\n",
    "        # remove the point that is outside of the image plane \n",
    "        idx = (self.image_pts[:, 1] > 0) * (self.image_pts[:, 1] < self.img_height) * (self.image_pts[:, 0] < self.img_width) * (self.image_pts[:, 0] > 0)\n",
    "        if True in idx:\n",
    "            image_pts = self.image_pts[idx]\n",
    "            camera_pts = self.camera_pts[idx]\n",
    "            dist = np.linalg.norm(camera_pts - np.array([0, 0, self.focal_len]), axis = 1)\n",
    "            scaling = 5 * self.focal_len / dist\n",
    "            plt.figure()\n",
    "            plt.scatter(image_pts[:, 0], image_pts[:, 1], c=self.pts_color[idx], s=scaling)\n",
    "        else: \n",
    "            plt.figure()\n",
    "            \n",
    "        plt.xlim([0, self.img_width])\n",
    "        plt.ylim([0, self.img_height])\n",
    "        plt.gca().set_aspect('equal')\n",
    "        plt.title(self.name)\n",
    "        plt.show()\n",
    "\n",
    "    # add name for this camera\n",
    "    def add_name(self):\n",
    "        fig_data = go.Scatter3d(x = [self.center[0]], \n",
    "                                y = [self.center[1]], \n",
    "                                z = [self.center[2]],\n",
    "                                text = [self.name],\n",
    "                                mode = 'text', \n",
    "                                marker = dict(size = 2, color = 'black', opacity=1), \n",
    "                                showlegend = False)\n",
    "        self.fig_data.append(fig_data)"
   ]
  },
  {
   "cell_type": "markdown",
   "metadata": {},
   "source": [
    "# Example usage of the Camera object "
   ]
  },
  {
   "cell_type": "code",
   "execution_count": 5,
   "metadata": {},
   "outputs": [
    {
     "data": {
      "application/vnd.plotly.v1+json": {
       "config": {
        "plotlyServerURL": "https://plot.ly"
       },
       "data": [
        {
         "line": {
          "color": "gray"
         },
         "mode": "lines",
         "showlegend": false,
         "type": "scatter3d",
         "x": [
          0,
          1
         ],
         "y": [
          0,
          0
         ],
         "z": [
          0,
          0
         ]
        },
        {
         "colorscale": [
          [
           0,
           "gray"
          ],
          [
           1,
           "gray"
          ]
         ],
         "showlegend": false,
         "showscale": false,
         "sizemode": "scaled",
         "sizeref": 0.3,
         "type": "cone",
         "u": [
          1
         ],
         "v": [
          0
         ],
         "w": [
          0
         ],
         "x": [
          1
         ],
         "y": [
          0
         ],
         "z": [
          0
         ]
        },
        {
         "mode": "text",
         "showlegend": false,
         "text": [
          "x"
         ],
         "textfont": {
          "color": "gray"
         },
         "textposition": "middle center",
         "type": "scatter3d",
         "x": [
          1.4
         ],
         "y": [
          0
         ],
         "z": [
          0
         ]
        },
        {
         "line": {
          "color": "gray"
         },
         "mode": "lines",
         "showlegend": false,
         "type": "scatter3d",
         "x": [
          0,
          0
         ],
         "y": [
          0,
          1
         ],
         "z": [
          0,
          0
         ]
        },
        {
         "colorscale": [
          [
           0,
           "gray"
          ],
          [
           1,
           "gray"
          ]
         ],
         "showlegend": false,
         "showscale": false,
         "sizemode": "scaled",
         "sizeref": 0.3,
         "type": "cone",
         "u": [
          0
         ],
         "v": [
          1
         ],
         "w": [
          0
         ],
         "x": [
          0
         ],
         "y": [
          1
         ],
         "z": [
          0
         ]
        },
        {
         "mode": "text",
         "showlegend": false,
         "text": [
          "y"
         ],
         "textfont": {
          "color": "gray"
         },
         "textposition": "middle center",
         "type": "scatter3d",
         "x": [
          0
         ],
         "y": [
          1.4
         ],
         "z": [
          0
         ]
        },
        {
         "line": {
          "color": "gray"
         },
         "mode": "lines",
         "showlegend": false,
         "type": "scatter3d",
         "x": [
          0,
          0
         ],
         "y": [
          0,
          0
         ],
         "z": [
          0,
          1
         ]
        },
        {
         "colorscale": [
          [
           0,
           "gray"
          ],
          [
           1,
           "gray"
          ]
         ],
         "showlegend": false,
         "showscale": false,
         "sizemode": "scaled",
         "sizeref": 0.3,
         "type": "cone",
         "u": [
          0
         ],
         "v": [
          0
         ],
         "w": [
          1
         ],
         "x": [
          0
         ],
         "y": [
          0
         ],
         "z": [
          1
         ]
        },
        {
         "mode": "text",
         "showlegend": false,
         "text": [
          "z"
         ],
         "textfont": {
          "color": "gray"
         },
         "textposition": "middle center",
         "type": "scatter3d",
         "x": [
          0
         ],
         "y": [
          0
         ],
         "z": [
          1.4
         ]
        },
        {
         "line": {
          "color": "black"
         },
         "mode": "lines",
         "showlegend": false,
         "type": "scatter3d",
         "x": [
          2,
          1.2928932188134525
         ],
         "y": [
          3,
          2.2928932188134525
         ],
         "z": [
          1,
          0.9999999999999999
         ]
        },
        {
         "colorscale": [
          [
           0,
           "black"
          ],
          [
           1,
           "black"
          ]
         ],
         "showlegend": false,
         "showscale": false,
         "sizemode": "scaled",
         "sizeref": 0.3,
         "type": "cone",
         "u": [
          -0.7071067811865475
         ],
         "v": [
          -0.7071067811865475
         ],
         "w": [
          -1.1102230246251565e-16
         ],
         "x": [
          1.2928932188134525
         ],
         "y": [
          2.2928932188134525
         ],
         "z": [
          0.9999999999999999
         ]
        },
        {
         "mode": "text",
         "showlegend": false,
         "text": [
          "x"
         ],
         "textfont": {
          "color": "black"
         },
         "textposition": "middle center",
         "type": "scatter3d",
         "x": [
          1.0100505063388334
         ],
         "y": [
          2.010050506338833
         ],
         "z": [
          0.9999999999999997
         ]
        },
        {
         "line": {
          "color": "black"
         },
         "mode": "lines",
         "showlegend": false,
         "type": "scatter3d",
         "x": [
          2,
          2
         ],
         "y": [
          3,
          3
         ],
         "z": [
          1,
          0
         ]
        },
        {
         "colorscale": [
          [
           0,
           "black"
          ],
          [
           1,
           "black"
          ]
         ],
         "showlegend": false,
         "showscale": false,
         "sizemode": "scaled",
         "sizeref": 0.3,
         "type": "cone",
         "u": [
          0
         ],
         "v": [
          0
         ],
         "w": [
          -1
         ],
         "x": [
          2
         ],
         "y": [
          3
         ],
         "z": [
          0
         ]
        },
        {
         "mode": "text",
         "showlegend": false,
         "text": [
          "y"
         ],
         "textfont": {
          "color": "black"
         },
         "textposition": "middle center",
         "type": "scatter3d",
         "x": [
          1.9999999999999998
         ],
         "y": [
          2.999999999999999
         ],
         "z": [
          -0.4
         ]
        },
        {
         "line": {
          "color": "black"
         },
         "mode": "lines",
         "showlegend": false,
         "type": "scatter3d",
         "x": [
          2,
          2.7071067811865475
         ],
         "y": [
          3,
          2.2928932188134525
         ],
         "z": [
          1,
          1
         ]
        },
        {
         "colorscale": [
          [
           0,
           "black"
          ],
          [
           1,
           "black"
          ]
         ],
         "showlegend": false,
         "showscale": false,
         "sizemode": "scaled",
         "sizeref": 0.3,
         "type": "cone",
         "u": [
          0.7071067811865475
         ],
         "v": [
          -0.7071067811865475
         ],
         "w": [
          0
         ],
         "x": [
          2.7071067811865475
         ],
         "y": [
          2.2928932188134525
         ],
         "z": [
          1
         ]
        },
        {
         "mode": "text",
         "showlegend": false,
         "text": [
          "z"
         ],
         "textfont": {
          "color": "black"
         },
         "textposition": "middle center",
         "type": "scatter3d",
         "x": [
          2.9899494936611664
         ],
         "y": [
          2.010050506338833
         ],
         "z": [
          0.9999999999999999
         ]
        },
        {
         "color": "black",
         "i": [
          0,
          0
         ],
         "j": [
          1,
          2
         ],
         "k": [
          2,
          3
         ],
         "opacity": 0.3,
         "type": "mesh3d",
         "x": [
          4.121320343559642,
          1.2928932188134525,
          1.2928932188134525,
          4.121320343559642
         ],
         "y": [
          3.707106781186548,
          0.8786796564403573,
          0.8786796564403575,
          3.707106781186548
         ],
         "z": [
          2,
          1.9999999999999998,
          -2.220446049250313e-16,
          2.220446049250313e-16
         ]
        },
        {
         "line": {
          "color": "black"
         },
         "mode": "lines",
         "opacity": 0.3,
         "showlegend": false,
         "type": "scatter3d",
         "x": [
          2,
          4.121320343559642
         ],
         "y": [
          3,
          3.707106781186548
         ],
         "z": [
          1,
          2
         ]
        },
        {
         "line": {
          "color": "black"
         },
         "mode": "lines",
         "opacity": 0.3,
         "showlegend": false,
         "type": "scatter3d",
         "x": [
          2,
          1.2928932188134525
         ],
         "y": [
          3,
          0.8786796564403573
         ],
         "z": [
          1,
          1.9999999999999998
         ]
        },
        {
         "line": {
          "color": "black"
         },
         "mode": "lines",
         "opacity": 0.3,
         "showlegend": false,
         "type": "scatter3d",
         "x": [
          2,
          1.2928932188134525
         ],
         "y": [
          3,
          0.8786796564403575
         ],
         "z": [
          1,
          -2.220446049250313e-16
         ]
        },
        {
         "line": {
          "color": "black"
         },
         "mode": "lines",
         "opacity": 0.3,
         "showlegend": false,
         "type": "scatter3d",
         "x": [
          2,
          4.121320343559642
         ],
         "y": [
          3,
          3.707106781186548
         ],
         "z": [
          1,
          2.220446049250313e-16
         ]
        },
        {
         "marker": {
          "color": "black",
          "opacity": 1,
          "size": 2
         },
         "mode": "text",
         "showlegend": false,
         "text": [
          "Cam1"
         ],
         "type": "scatter3d",
         "x": [
          2
         ],
         "y": [
          3
         ],
         "z": [
          1
         ]
        },
        {
         "line": {
          "color": "black"
         },
         "mode": "lines",
         "showlegend": false,
         "type": "scatter3d",
         "x": [
          1,
          1.3420201433256687
         ],
         "y": [
          -2,
          -2.9396926207859084
         ],
         "z": [
          1,
          1
         ]
        },
        {
         "colorscale": [
          [
           0,
           "black"
          ],
          [
           1,
           "black"
          ]
         ],
         "showlegend": false,
         "showscale": false,
         "sizemode": "scaled",
         "sizeref": 0.3,
         "type": "cone",
         "u": [
          0.34202014332566866
         ],
         "v": [
          -0.9396926207859084
         ],
         "w": [
          0
         ],
         "x": [
          1.3420201433256687
         ],
         "y": [
          -2.9396926207859084
         ],
         "z": [
          1
         ]
        },
        {
         "mode": "text",
         "showlegend": false,
         "text": [
          "x"
         ],
         "textfont": {
          "color": "black"
         },
         "textposition": "middle center",
         "type": "scatter3d",
         "x": [
          1.478828200655936
         ],
         "y": [
          -3.315569669100272
         ],
         "z": [
          0.9999999999999999
         ]
        },
        {
         "line": {
          "color": "black"
         },
         "mode": "lines",
         "showlegend": false,
         "type": "scatter3d",
         "x": [
          1,
          1
         ],
         "y": [
          -2,
          -2
         ],
         "z": [
          1,
          0
         ]
        },
        {
         "colorscale": [
          [
           0,
           "black"
          ],
          [
           1,
           "black"
          ]
         ],
         "showlegend": false,
         "showscale": false,
         "sizemode": "scaled",
         "sizeref": 0.3,
         "type": "cone",
         "u": [
          0
         ],
         "v": [
          0
         ],
         "w": [
          -1
         ],
         "x": [
          1
         ],
         "y": [
          -2
         ],
         "z": [
          0
         ]
        },
        {
         "mode": "text",
         "showlegend": false,
         "text": [
          "y"
         ],
         "textfont": {
          "color": "black"
         },
         "textposition": "middle center",
         "type": "scatter3d",
         "x": [
          0.9999999999999999
         ],
         "y": [
          -1.9999999999999998
         ],
         "z": [
          -0.4
         ]
        },
        {
         "line": {
          "color": "black"
         },
         "mode": "lines",
         "showlegend": false,
         "type": "scatter3d",
         "x": [
          1,
          1.9396926207859084
         ],
         "y": [
          -2,
          -1.6579798566743313
         ],
         "z": [
          1,
          1
         ]
        },
        {
         "colorscale": [
          [
           0,
           "black"
          ],
          [
           1,
           "black"
          ]
         ],
         "showlegend": false,
         "showscale": false,
         "sizemode": "scaled",
         "sizeref": 0.3,
         "type": "cone",
         "u": [
          0.9396926207859084
         ],
         "v": [
          0.34202014332566866
         ],
         "w": [
          0
         ],
         "x": [
          1.9396926207859084
         ],
         "y": [
          -1.6579798566743313
         ],
         "z": [
          1
         ]
        },
        {
         "mode": "text",
         "showlegend": false,
         "text": [
          "z"
         ],
         "textfont": {
          "color": "black"
         },
         "textposition": "middle center",
         "type": "scatter3d",
         "x": [
          2.3155696691002716
         ],
         "y": [
          -1.5211717993440639
         ],
         "z": [
          0.9999999999999999
         ]
        },
        {
         "color": "black",
         "i": [
          0,
          0
         ],
         "j": [
          1,
          2
         ],
         "k": [
          2,
          3
         ],
         "opacity": 0.3,
         "type": "mesh3d",
         "x": [
          1.2556523341345711,
          2.6237329074372457,
          2.6237329074372457,
          1.2556523341345711
         ],
         "y": [
          0.22140538489748546,
          -3.5373650982461484,
          -3.5373650982461484,
          0.22140538489748557
         ],
         "z": [
          2,
          2,
          -1.1102230246251565e-16,
          0
         ]
        },
        {
         "line": {
          "color": "black"
         },
         "mode": "lines",
         "opacity": 0.3,
         "showlegend": false,
         "type": "scatter3d",
         "x": [
          1,
          1.2556523341345711
         ],
         "y": [
          -2,
          0.22140538489748546
         ],
         "z": [
          1,
          2
         ]
        },
        {
         "line": {
          "color": "black"
         },
         "mode": "lines",
         "opacity": 0.3,
         "showlegend": false,
         "type": "scatter3d",
         "x": [
          1,
          2.6237329074372457
         ],
         "y": [
          -2,
          -3.5373650982461484
         ],
         "z": [
          1,
          2
         ]
        },
        {
         "line": {
          "color": "black"
         },
         "mode": "lines",
         "opacity": 0.3,
         "showlegend": false,
         "type": "scatter3d",
         "x": [
          1,
          2.6237329074372457
         ],
         "y": [
          -2,
          -3.5373650982461484
         ],
         "z": [
          1,
          -1.1102230246251565e-16
         ]
        },
        {
         "line": {
          "color": "black"
         },
         "mode": "lines",
         "opacity": 0.3,
         "showlegend": false,
         "type": "scatter3d",
         "x": [
          1,
          1.2556523341345711
         ],
         "y": [
          -2,
          0.22140538489748557
         ],
         "z": [
          1,
          0
         ]
        },
        {
         "marker": {
          "color": "black",
          "opacity": 1,
          "size": 2
         },
         "mode": "text",
         "showlegend": false,
         "text": [
          "Cam2"
         ],
         "type": "scatter3d",
         "x": [
          1
         ],
         "y": [
          -2
         ],
         "z": [
          1
         ]
        },
        {
         "marker": {
          "color": "red",
          "opacity": 1,
          "size": 2
         },
         "mode": "markers",
         "showlegend": false,
         "type": "scatter3d",
         "x": [
          4.5,
          4.842020143325668,
          5.14278760968654,
          5.366025403784438,
          5.484807753012208,
          5.484807753012208,
          5.366025403784438,
          5.14278760968654,
          4.842020143325669,
          4.5,
          4.5,
          4.762002630229385,
          4.992403876506104,
          5.163413948168938,
          5.254406506735489,
          5.254406506735489,
          5.163413948168938,
          4.9924038765061045,
          4.762002630229385,
          4.5,
          4.5,
          4.559391174613885,
          4.61161889704895,
          4.650383733180435,
          4.671010071662835,
          4.671010071662835,
          4.650383733180435,
          4.61161889704895,
          4.559391174613885,
          4.5,
          4.5,
          4.328989928337165,
          4.17860619515673,
          4.066987298107781,
          4.007596123493896,
          4.007596123493896,
          4.066987298107781,
          4.17860619515673,
          4.328989928337165,
          4.5,
          4.5,
          4.17860619515673,
          3.8959772264449466,
          3.6862023186506265,
          3.5745834216016767,
          3.5745834216016767,
          3.6862023186506265,
          3.895977226444946,
          4.17860619515673,
          4.5,
          4.5,
          4.17860619515673,
          3.8959772264449466,
          3.6862023186506265,
          3.5745834216016767,
          3.5745834216016767,
          3.686202318650626,
          3.895977226444946,
          4.17860619515673,
          4.5,
          4.5,
          4.328989928337165,
          4.17860619515673,
          4.06698729810778,
          4.0075961234938955,
          4.0075961234938955,
          4.06698729810778,
          4.17860619515673,
          4.328989928337165,
          4.5,
          4.5,
          4.559391174613885,
          4.61161889704895,
          4.650383733180435,
          4.671010071662834,
          4.671010071662834,
          4.650383733180435,
          4.61161889704895,
          4.559391174613885,
          4.5,
          4.5,
          4.762002630229385,
          4.992403876506104,
          5.163413948168938,
          5.254406506735489,
          5.254406506735489,
          5.163413948168938,
          4.992403876506104,
          4.762002630229385,
          4.5,
          4.5,
          4.842020143325668,
          5.14278760968654,
          5.366025403784438,
          5.484807753012208,
          5.484807753012208,
          5.366025403784438,
          5.14278760968654,
          4.842020143325669,
          4.5
         ],
         "y": [
          1,
          1,
          1,
          1,
          1,
          1,
          1,
          1,
          1,
          1,
          1,
          1.2198463103929542,
          1.4131759111665347,
          1.5566703992264193,
          1.633022221559489,
          1.633022221559489,
          1.5566703992264195,
          1.413175911166535,
          1.2198463103929542,
          1,
          1,
          1.336824088833465,
          1.633022221559489,
          1.8528685319524432,
          1.969846310392954,
          1.969846310392954,
          1.8528685319524434,
          1.6330222215594892,
          1.3368240888334653,
          1.0000000000000002,
          1,
          1.296198132726024,
          1.5566703992264195,
          1.75,
          1.8528685319524434,
          1.8528685319524434,
          1.75,
          1.5566703992264195,
          1.296198132726024,
          1,
          1,
          1.116977778440511,
          1.2198463103929542,
          1.296198132726024,
          1.3368240888334653,
          1.3368240888334653,
          1.296198132726024,
          1.2198463103929544,
          1.116977778440511,
          1,
          1,
          0.8830222215594891,
          0.7801536896070459,
          0.7038018672739763,
          0.663175911166535,
          0.663175911166535,
          0.7038018672739762,
          0.7801536896070458,
          0.883022221559489,
          1,
          1,
          0.7038018672739763,
          0.44332960077358086,
          0.25000000000000033,
          0.14713146804755706,
          0.14713146804755706,
          0.2500000000000002,
          0.44332960077358063,
          0.7038018672739761,
          0.9999999999999999,
          1,
          0.6631759111665348,
          0.36697777844051105,
          0.14713146804755672,
          0.030153689607045786,
          0.030153689607045786,
          0.1471314680475566,
          0.3669777784405108,
          0.6631759111665347,
          0.9999999999999999,
          1,
          0.7801536896070458,
          0.586824088833465,
          0.4433296007735804,
          0.3669777784405107,
          0.3669777784405107,
          0.4433296007735804,
          0.5868240888334649,
          0.7801536896070456,
          0.9999999999999999,
          1,
          0.9999999999999999,
          0.9999999999999999,
          0.9999999999999998,
          0.9999999999999998,
          0.9999999999999998,
          0.9999999999999998,
          0.9999999999999999,
          0.9999999999999999,
          1
         ],
         "z": [
          2,
          1.9396926207859084,
          1.766044443118978,
          1.5,
          1.1736481776669305,
          0.8263518223330697,
          0.5000000000000002,
          0.2339555568810221,
          0.06030737921409168,
          0,
          2,
          1.9396926207859084,
          1.766044443118978,
          1.5,
          1.1736481776669305,
          0.8263518223330697,
          0.5000000000000002,
          0.2339555568810221,
          0.06030737921409168,
          0,
          2,
          1.9396926207859084,
          1.766044443118978,
          1.5,
          1.1736481776669305,
          0.8263518223330697,
          0.5000000000000002,
          0.2339555568810221,
          0.06030737921409168,
          0,
          2,
          1.9396926207859084,
          1.766044443118978,
          1.5,
          1.1736481776669305,
          0.8263518223330697,
          0.5000000000000002,
          0.2339555568810221,
          0.06030737921409168,
          0,
          2,
          1.9396926207859084,
          1.766044443118978,
          1.5,
          1.1736481776669305,
          0.8263518223330697,
          0.5000000000000002,
          0.2339555568810221,
          0.06030737921409168,
          0,
          2,
          1.9396926207859084,
          1.766044443118978,
          1.5,
          1.1736481776669305,
          0.8263518223330697,
          0.5000000000000002,
          0.2339555568810221,
          0.06030737921409168,
          0,
          2,
          1.9396926207859084,
          1.766044443118978,
          1.5,
          1.1736481776669305,
          0.8263518223330697,
          0.5000000000000002,
          0.2339555568810221,
          0.06030737921409168,
          0,
          2,
          1.9396926207859084,
          1.766044443118978,
          1.5,
          1.1736481776669305,
          0.8263518223330697,
          0.5000000000000002,
          0.2339555568810221,
          0.06030737921409168,
          0,
          2,
          1.9396926207859084,
          1.766044443118978,
          1.5,
          1.1736481776669305,
          0.8263518223330697,
          0.5000000000000002,
          0.2339555568810221,
          0.06030737921409168,
          0,
          2,
          1.9396926207859084,
          1.766044443118978,
          1.5,
          1.1736481776669305,
          0.8263518223330697,
          0.5000000000000002,
          0.2339555568810221,
          0.06030737921409168,
          0
         ]
        },
        {
         "marker": {
          "color": "blue",
          "opacity": 1,
          "size": 2
         },
         "mode": "markers",
         "showlegend": false,
         "type": "scatter3d",
         "x": [
          3.5,
          3.5,
          3.5,
          3.5,
          3.5,
          3.5,
          3.5,
          3.5,
          3.5,
          3.5,
          3.5,
          3.5,
          3.5,
          3.5,
          3.5,
          3.5,
          3.5,
          3.5,
          3.5,
          3.5,
          3.5,
          3.5,
          3.5,
          3.5,
          3.5,
          3.75,
          3.75,
          3.75,
          3.75,
          3.75,
          3.75,
          3.75,
          3.75,
          3.75,
          3.75,
          3.75,
          3.75,
          3.75,
          3.75,
          3.75,
          3.75,
          3.75,
          3.75,
          3.75,
          3.75,
          3.75,
          3.75,
          3.75,
          3.75,
          3.75,
          4,
          4,
          4,
          4,
          4,
          4,
          4,
          4,
          4,
          4,
          4,
          4,
          4,
          4,
          4,
          4,
          4,
          4,
          4,
          4,
          4,
          4,
          4,
          4,
          4,
          4.25,
          4.25,
          4.25,
          4.25,
          4.25,
          4.25,
          4.25,
          4.25,
          4.25,
          4.25,
          4.25,
          4.25,
          4.25,
          4.25,
          4.25,
          4.25,
          4.25,
          4.25,
          4.25,
          4.25,
          4.25,
          4.25,
          4.25,
          4.25,
          4.25,
          4.5,
          4.5,
          4.5,
          4.5,
          4.5,
          4.5,
          4.5,
          4.5,
          4.5,
          4.5,
          4.5,
          4.5,
          4.5,
          4.5,
          4.5,
          4.5,
          4.5,
          4.5,
          4.5,
          4.5,
          4.5,
          4.5,
          4.5,
          4.5,
          4.5
         ],
         "y": [
          -2.5,
          -2.5,
          -2.5,
          -2.5,
          -2.5,
          -2.25,
          -2.25,
          -2.25,
          -2.25,
          -2.25,
          -2,
          -2,
          -2,
          -2,
          -2,
          -1.75,
          -1.75,
          -1.75,
          -1.75,
          -1.75,
          -1.5,
          -1.5,
          -1.5,
          -1.5,
          -1.5,
          -2.5,
          -2.5,
          -2.5,
          -2.5,
          -2.5,
          -2.25,
          -2.25,
          -2.25,
          -2.25,
          -2.25,
          -2,
          -2,
          -2,
          -2,
          -2,
          -1.75,
          -1.75,
          -1.75,
          -1.75,
          -1.75,
          -1.5,
          -1.5,
          -1.5,
          -1.5,
          -1.5,
          -2.5,
          -2.5,
          -2.5,
          -2.5,
          -2.5,
          -2.25,
          -2.25,
          -2.25,
          -2.25,
          -2.25,
          -2,
          -2,
          -2,
          -2,
          -2,
          -1.75,
          -1.75,
          -1.75,
          -1.75,
          -1.75,
          -1.5,
          -1.5,
          -1.5,
          -1.5,
          -1.5,
          -2.5,
          -2.5,
          -2.5,
          -2.5,
          -2.5,
          -2.25,
          -2.25,
          -2.25,
          -2.25,
          -2.25,
          -2,
          -2,
          -2,
          -2,
          -2,
          -1.75,
          -1.75,
          -1.75,
          -1.75,
          -1.75,
          -1.5,
          -1.5,
          -1.5,
          -1.5,
          -1.5,
          -2.5,
          -2.5,
          -2.5,
          -2.5,
          -2.5,
          -2.25,
          -2.25,
          -2.25,
          -2.25,
          -2.25,
          -2,
          -2,
          -2,
          -2,
          -2,
          -1.75,
          -1.75,
          -1.75,
          -1.75,
          -1.75,
          -1.5,
          -1.5,
          -1.5,
          -1.5,
          -1.5
         ],
         "z": [
          0.5,
          0.75,
          1,
          1.25,
          1.5,
          0.5,
          0.75,
          1,
          1.25,
          1.5,
          0.5,
          0.75,
          1,
          1.25,
          1.5,
          0.5,
          0.75,
          1,
          1.25,
          1.5,
          0.5,
          0.75,
          1,
          1.25,
          1.5,
          0.5,
          0.75,
          1,
          1.25,
          1.5,
          0.5,
          0.75,
          1,
          1.25,
          1.5,
          0.5,
          0.75,
          1,
          1.25,
          1.5,
          0.5,
          0.75,
          1,
          1.25,
          1.5,
          0.5,
          0.75,
          1,
          1.25,
          1.5,
          0.5,
          0.75,
          1,
          1.25,
          1.5,
          0.5,
          0.75,
          1,
          1.25,
          1.5,
          0.5,
          0.75,
          1,
          1.25,
          1.5,
          0.5,
          0.75,
          1,
          1.25,
          1.5,
          0.5,
          0.75,
          1,
          1.25,
          1.5,
          0.5,
          0.75,
          1,
          1.25,
          1.5,
          0.5,
          0.75,
          1,
          1.25,
          1.5,
          0.5,
          0.75,
          1,
          1.25,
          1.5,
          0.5,
          0.75,
          1,
          1.25,
          1.5,
          0.5,
          0.75,
          1,
          1.25,
          1.5,
          0.5,
          0.75,
          1,
          1.25,
          1.5,
          0.5,
          0.75,
          1,
          1.25,
          1.5,
          0.5,
          0.75,
          1,
          1.25,
          1.5,
          0.5,
          0.75,
          1,
          1.25,
          1.5,
          0.5,
          0.75,
          1,
          1.25,
          1.5
         ]
        },
        {
         "line": {
          "color": "black"
         },
         "mode": "lines",
         "opacity": 1,
         "showlegend": false,
         "type": "scatter3d",
         "x": [
          2,
          1
         ],
         "y": [
          3,
          -2
         ],
         "z": [
          1,
          1
         ]
        },
        {
         "marker": {
          "color": "red",
          "size": 2
         },
         "mode": "markers",
         "showlegend": false,
         "type": "scatter3d",
         "x": [
          2
         ],
         "y": [
          3
         ],
         "z": [
          1
         ]
        }
       ],
       "layout": {
        "height": 500,
        "margin": {
         "b": 10,
         "l": 10,
         "r": 10,
         "t": 10
        },
        "scene": {
         "aspectratio": {
          "x": 1,
          "y": 1,
          "z": 1
         },
         "xaxis": {
          "nticks": 4,
          "range": [
           -2,
           6
          ]
         },
         "yaxis": {
          "nticks": 4,
          "range": [
           -4,
           4
          ]
         },
         "zaxis": {
          "nticks": 4,
          "range": [
           -3,
           5
          ]
         }
        },
        "template": {
         "data": {
          "bar": [
           {
            "error_x": {
             "color": "#2a3f5f"
            },
            "error_y": {
             "color": "#2a3f5f"
            },
            "marker": {
             "line": {
              "color": "#E5ECF6",
              "width": 0.5
             },
             "pattern": {
              "fillmode": "overlay",
              "size": 10,
              "solidity": 0.2
             }
            },
            "type": "bar"
           }
          ],
          "barpolar": [
           {
            "marker": {
             "line": {
              "color": "#E5ECF6",
              "width": 0.5
             },
             "pattern": {
              "fillmode": "overlay",
              "size": 10,
              "solidity": 0.2
             }
            },
            "type": "barpolar"
           }
          ],
          "carpet": [
           {
            "aaxis": {
             "endlinecolor": "#2a3f5f",
             "gridcolor": "white",
             "linecolor": "white",
             "minorgridcolor": "white",
             "startlinecolor": "#2a3f5f"
            },
            "baxis": {
             "endlinecolor": "#2a3f5f",
             "gridcolor": "white",
             "linecolor": "white",
             "minorgridcolor": "white",
             "startlinecolor": "#2a3f5f"
            },
            "type": "carpet"
           }
          ],
          "choropleth": [
           {
            "colorbar": {
             "outlinewidth": 0,
             "ticks": ""
            },
            "type": "choropleth"
           }
          ],
          "contour": [
           {
            "colorbar": {
             "outlinewidth": 0,
             "ticks": ""
            },
            "colorscale": [
             [
              0,
              "#0d0887"
             ],
             [
              0.1111111111111111,
              "#46039f"
             ],
             [
              0.2222222222222222,
              "#7201a8"
             ],
             [
              0.3333333333333333,
              "#9c179e"
             ],
             [
              0.4444444444444444,
              "#bd3786"
             ],
             [
              0.5555555555555556,
              "#d8576b"
             ],
             [
              0.6666666666666666,
              "#ed7953"
             ],
             [
              0.7777777777777778,
              "#fb9f3a"
             ],
             [
              0.8888888888888888,
              "#fdca26"
             ],
             [
              1,
              "#f0f921"
             ]
            ],
            "type": "contour"
           }
          ],
          "contourcarpet": [
           {
            "colorbar": {
             "outlinewidth": 0,
             "ticks": ""
            },
            "type": "contourcarpet"
           }
          ],
          "heatmap": [
           {
            "colorbar": {
             "outlinewidth": 0,
             "ticks": ""
            },
            "colorscale": [
             [
              0,
              "#0d0887"
             ],
             [
              0.1111111111111111,
              "#46039f"
             ],
             [
              0.2222222222222222,
              "#7201a8"
             ],
             [
              0.3333333333333333,
              "#9c179e"
             ],
             [
              0.4444444444444444,
              "#bd3786"
             ],
             [
              0.5555555555555556,
              "#d8576b"
             ],
             [
              0.6666666666666666,
              "#ed7953"
             ],
             [
              0.7777777777777778,
              "#fb9f3a"
             ],
             [
              0.8888888888888888,
              "#fdca26"
             ],
             [
              1,
              "#f0f921"
             ]
            ],
            "type": "heatmap"
           }
          ],
          "heatmapgl": [
           {
            "colorbar": {
             "outlinewidth": 0,
             "ticks": ""
            },
            "colorscale": [
             [
              0,
              "#0d0887"
             ],
             [
              0.1111111111111111,
              "#46039f"
             ],
             [
              0.2222222222222222,
              "#7201a8"
             ],
             [
              0.3333333333333333,
              "#9c179e"
             ],
             [
              0.4444444444444444,
              "#bd3786"
             ],
             [
              0.5555555555555556,
              "#d8576b"
             ],
             [
              0.6666666666666666,
              "#ed7953"
             ],
             [
              0.7777777777777778,
              "#fb9f3a"
             ],
             [
              0.8888888888888888,
              "#fdca26"
             ],
             [
              1,
              "#f0f921"
             ]
            ],
            "type": "heatmapgl"
           }
          ],
          "histogram": [
           {
            "marker": {
             "pattern": {
              "fillmode": "overlay",
              "size": 10,
              "solidity": 0.2
             }
            },
            "type": "histogram"
           }
          ],
          "histogram2d": [
           {
            "colorbar": {
             "outlinewidth": 0,
             "ticks": ""
            },
            "colorscale": [
             [
              0,
              "#0d0887"
             ],
             [
              0.1111111111111111,
              "#46039f"
             ],
             [
              0.2222222222222222,
              "#7201a8"
             ],
             [
              0.3333333333333333,
              "#9c179e"
             ],
             [
              0.4444444444444444,
              "#bd3786"
             ],
             [
              0.5555555555555556,
              "#d8576b"
             ],
             [
              0.6666666666666666,
              "#ed7953"
             ],
             [
              0.7777777777777778,
              "#fb9f3a"
             ],
             [
              0.8888888888888888,
              "#fdca26"
             ],
             [
              1,
              "#f0f921"
             ]
            ],
            "type": "histogram2d"
           }
          ],
          "histogram2dcontour": [
           {
            "colorbar": {
             "outlinewidth": 0,
             "ticks": ""
            },
            "colorscale": [
             [
              0,
              "#0d0887"
             ],
             [
              0.1111111111111111,
              "#46039f"
             ],
             [
              0.2222222222222222,
              "#7201a8"
             ],
             [
              0.3333333333333333,
              "#9c179e"
             ],
             [
              0.4444444444444444,
              "#bd3786"
             ],
             [
              0.5555555555555556,
              "#d8576b"
             ],
             [
              0.6666666666666666,
              "#ed7953"
             ],
             [
              0.7777777777777778,
              "#fb9f3a"
             ],
             [
              0.8888888888888888,
              "#fdca26"
             ],
             [
              1,
              "#f0f921"
             ]
            ],
            "type": "histogram2dcontour"
           }
          ],
          "mesh3d": [
           {
            "colorbar": {
             "outlinewidth": 0,
             "ticks": ""
            },
            "type": "mesh3d"
           }
          ],
          "parcoords": [
           {
            "line": {
             "colorbar": {
              "outlinewidth": 0,
              "ticks": ""
             }
            },
            "type": "parcoords"
           }
          ],
          "pie": [
           {
            "automargin": true,
            "type": "pie"
           }
          ],
          "scatter": [
           {
            "fillpattern": {
             "fillmode": "overlay",
             "size": 10,
             "solidity": 0.2
            },
            "type": "scatter"
           }
          ],
          "scatter3d": [
           {
            "line": {
             "colorbar": {
              "outlinewidth": 0,
              "ticks": ""
             }
            },
            "marker": {
             "colorbar": {
              "outlinewidth": 0,
              "ticks": ""
             }
            },
            "type": "scatter3d"
           }
          ],
          "scattercarpet": [
           {
            "marker": {
             "colorbar": {
              "outlinewidth": 0,
              "ticks": ""
             }
            },
            "type": "scattercarpet"
           }
          ],
          "scattergeo": [
           {
            "marker": {
             "colorbar": {
              "outlinewidth": 0,
              "ticks": ""
             }
            },
            "type": "scattergeo"
           }
          ],
          "scattergl": [
           {
            "marker": {
             "colorbar": {
              "outlinewidth": 0,
              "ticks": ""
             }
            },
            "type": "scattergl"
           }
          ],
          "scattermapbox": [
           {
            "marker": {
             "colorbar": {
              "outlinewidth": 0,
              "ticks": ""
             }
            },
            "type": "scattermapbox"
           }
          ],
          "scatterpolar": [
           {
            "marker": {
             "colorbar": {
              "outlinewidth": 0,
              "ticks": ""
             }
            },
            "type": "scatterpolar"
           }
          ],
          "scatterpolargl": [
           {
            "marker": {
             "colorbar": {
              "outlinewidth": 0,
              "ticks": ""
             }
            },
            "type": "scatterpolargl"
           }
          ],
          "scatterternary": [
           {
            "marker": {
             "colorbar": {
              "outlinewidth": 0,
              "ticks": ""
             }
            },
            "type": "scatterternary"
           }
          ],
          "surface": [
           {
            "colorbar": {
             "outlinewidth": 0,
             "ticks": ""
            },
            "colorscale": [
             [
              0,
              "#0d0887"
             ],
             [
              0.1111111111111111,
              "#46039f"
             ],
             [
              0.2222222222222222,
              "#7201a8"
             ],
             [
              0.3333333333333333,
              "#9c179e"
             ],
             [
              0.4444444444444444,
              "#bd3786"
             ],
             [
              0.5555555555555556,
              "#d8576b"
             ],
             [
              0.6666666666666666,
              "#ed7953"
             ],
             [
              0.7777777777777778,
              "#fb9f3a"
             ],
             [
              0.8888888888888888,
              "#fdca26"
             ],
             [
              1,
              "#f0f921"
             ]
            ],
            "type": "surface"
           }
          ],
          "table": [
           {
            "cells": {
             "fill": {
              "color": "#EBF0F8"
             },
             "line": {
              "color": "white"
             }
            },
            "header": {
             "fill": {
              "color": "#C8D4E3"
             },
             "line": {
              "color": "white"
             }
            },
            "type": "table"
           }
          ]
         },
         "layout": {
          "annotationdefaults": {
           "arrowcolor": "#2a3f5f",
           "arrowhead": 0,
           "arrowwidth": 1
          },
          "autotypenumbers": "strict",
          "coloraxis": {
           "colorbar": {
            "outlinewidth": 0,
            "ticks": ""
           }
          },
          "colorscale": {
           "diverging": [
            [
             0,
             "#8e0152"
            ],
            [
             0.1,
             "#c51b7d"
            ],
            [
             0.2,
             "#de77ae"
            ],
            [
             0.3,
             "#f1b6da"
            ],
            [
             0.4,
             "#fde0ef"
            ],
            [
             0.5,
             "#f7f7f7"
            ],
            [
             0.6,
             "#e6f5d0"
            ],
            [
             0.7,
             "#b8e186"
            ],
            [
             0.8,
             "#7fbc41"
            ],
            [
             0.9,
             "#4d9221"
            ],
            [
             1,
             "#276419"
            ]
           ],
           "sequential": [
            [
             0,
             "#0d0887"
            ],
            [
             0.1111111111111111,
             "#46039f"
            ],
            [
             0.2222222222222222,
             "#7201a8"
            ],
            [
             0.3333333333333333,
             "#9c179e"
            ],
            [
             0.4444444444444444,
             "#bd3786"
            ],
            [
             0.5555555555555556,
             "#d8576b"
            ],
            [
             0.6666666666666666,
             "#ed7953"
            ],
            [
             0.7777777777777778,
             "#fb9f3a"
            ],
            [
             0.8888888888888888,
             "#fdca26"
            ],
            [
             1,
             "#f0f921"
            ]
           ],
           "sequentialminus": [
            [
             0,
             "#0d0887"
            ],
            [
             0.1111111111111111,
             "#46039f"
            ],
            [
             0.2222222222222222,
             "#7201a8"
            ],
            [
             0.3333333333333333,
             "#9c179e"
            ],
            [
             0.4444444444444444,
             "#bd3786"
            ],
            [
             0.5555555555555556,
             "#d8576b"
            ],
            [
             0.6666666666666666,
             "#ed7953"
            ],
            [
             0.7777777777777778,
             "#fb9f3a"
            ],
            [
             0.8888888888888888,
             "#fdca26"
            ],
            [
             1,
             "#f0f921"
            ]
           ]
          },
          "colorway": [
           "#636efa",
           "#EF553B",
           "#00cc96",
           "#ab63fa",
           "#FFA15A",
           "#19d3f3",
           "#FF6692",
           "#B6E880",
           "#FF97FF",
           "#FECB52"
          ],
          "font": {
           "color": "#2a3f5f"
          },
          "geo": {
           "bgcolor": "white",
           "lakecolor": "white",
           "landcolor": "#E5ECF6",
           "showlakes": true,
           "showland": true,
           "subunitcolor": "white"
          },
          "hoverlabel": {
           "align": "left"
          },
          "hovermode": "closest",
          "mapbox": {
           "style": "light"
          },
          "paper_bgcolor": "white",
          "plot_bgcolor": "#E5ECF6",
          "polar": {
           "angularaxis": {
            "gridcolor": "white",
            "linecolor": "white",
            "ticks": ""
           },
           "bgcolor": "#E5ECF6",
           "radialaxis": {
            "gridcolor": "white",
            "linecolor": "white",
            "ticks": ""
           }
          },
          "scene": {
           "xaxis": {
            "backgroundcolor": "#E5ECF6",
            "gridcolor": "white",
            "gridwidth": 2,
            "linecolor": "white",
            "showbackground": true,
            "ticks": "",
            "zerolinecolor": "white"
           },
           "yaxis": {
            "backgroundcolor": "#E5ECF6",
            "gridcolor": "white",
            "gridwidth": 2,
            "linecolor": "white",
            "showbackground": true,
            "ticks": "",
            "zerolinecolor": "white"
           },
           "zaxis": {
            "backgroundcolor": "#E5ECF6",
            "gridcolor": "white",
            "gridwidth": 2,
            "linecolor": "white",
            "showbackground": true,
            "ticks": "",
            "zerolinecolor": "white"
           }
          },
          "shapedefaults": {
           "line": {
            "color": "#2a3f5f"
           }
          },
          "ternary": {
           "aaxis": {
            "gridcolor": "white",
            "linecolor": "white",
            "ticks": ""
           },
           "baxis": {
            "gridcolor": "white",
            "linecolor": "white",
            "ticks": ""
           },
           "bgcolor": "#E5ECF6",
           "caxis": {
            "gridcolor": "white",
            "linecolor": "white",
            "ticks": ""
           }
          },
          "title": {
           "x": 0.05
          },
          "xaxis": {
           "automargin": true,
           "gridcolor": "white",
           "linecolor": "white",
           "ticks": "",
           "title": {
            "standoff": 15
           },
           "zerolinecolor": "white",
           "zerolinewidth": 2
          },
          "yaxis": {
           "automargin": true,
           "gridcolor": "white",
           "linecolor": "white",
           "ticks": "",
           "title": {
            "standoff": 15
           },
           "zerolinecolor": "white",
           "zerolinewidth": 2
          }
         }
        },
        "width": 500
       }
      }
     },
     "metadata": {},
     "output_type": "display_data"
    },
    {
     "data": {
      "image/png": "[encoded data removed]",
      "text/plain": [
       "<Figure size 640x480 with 1 Axes>"
      ]
     },
     "metadata": {},
     "output_type": "display_data"
    },
    {
     "data": {
      "image/png": "[encoded data removed]",
      "text/plain": [
       "<Figure size 640x480 with 1 Axes>"
      ]
     },
     "metadata": {},
     "output_type": "display_data"
    }
   ],
   "source": [
    "# example data: sphere \n",
    "px, py, pz = 4.5, 1, 1\n",
    "data1 = np.array([[np.cos(theta)*np.sin(phi)+px, np.sin(theta)*np.sin(phi)+py, np.cos(phi)+pz] \n",
    "                 for theta in np.linspace(0, 2*np.pi, 10)\n",
    "                 for phi in np.linspace(0, np.pi, 10)])\n",
    "# example data: cube\n",
    "px, py, pz = 4, -2, 1\n",
    "t_ = np.linspace(-0.5, 0.5, 5)\n",
    "x_, y_, z_ = t_ + px, t_ + py, t_ + pz\n",
    "x, y, z = np.meshgrid(x_, y_, z_, indexing='ij')\n",
    "data2 = np.c_[x.ravel(), y.ravel(), z.ravel()]\n",
    "\n",
    "# create a point cloud object\n",
    "pts = PointCloud()\n",
    "pts.add_data([data1, 'red'])\n",
    "pts.add_data([data2, 'blue'])\n",
    "\n",
    "# create two cameras\n",
    "camera1 = Camera(Ry(np.pi/2)@Rz(-np.pi/2)@Ry(np.pi/4), np.array([2, 3, 1]), \"Cam1\")\n",
    "camera2 = Camera(Ry(np.pi/2)@Rz(-np.pi/2)@Ry(-np.pi/9), np.array([1, -2, 1]), \"Cam2\")\n",
    "\n",
    "camera1.capture(pts)\n",
    "camera2.capture(pts)\n",
    "\n",
    "# add some other objects\n",
    "line1 = Segment(camera1.center, camera2.center, color='black')\n",
    "pt1 = Point(camera1.center, color='red')\n",
    "\n",
    "FIG = plot_all([camera1, camera2, pts, line1, pt1], world=True)\n",
    "\n",
    "\n",
    "# -----------------------------\n",
    "# Save the 3D plot as png file just for demonstration purpose on GitHub\n",
    "#FIG.write_image(\"fig1.png\")\n",
    "#%run display_image.py\n",
    "# -----------------------------\n",
    "\n",
    "camera1.show_image()\n",
    "camera2.show_image()"
   ]
  },
  {
   "cell_type": "markdown",
   "metadata": {},
   "source": [
    "## Camera anatomy \n",
    "### Finding the camera center\n",
    "Camera projection matrix: $P=KR[I|-C]$ <br>\n",
    "Method 1: Camera center $C$ is in the null space of $P$ such that $PC=0$. <br>\n",
    "Method 2: Directly derive the solution from the projection matrix. <br>\n",
    "Method 3: Using the following formula<br>\n",
    "$x = det([p_2, p_3, p_4]), y = -det([p_1, p_3, p_4]), \\\\z = det([p_1, p_2, p_4]), t = -det([p_1, p_2, p_3])$\n",
    "\n"
   ]
  },
  {
   "cell_type": "code",
   "execution_count": 6,
   "metadata": {},
   "outputs": [
    {
     "name": "stdout",
     "output_type": "stream",
     "text": [
      "Method 1 : True\n",
      "Method 2 : True\n",
      "Method 3 : True\n"
     ]
    }
   ],
   "source": [
    "import scipy \n",
    "\n",
    "# method 1\n",
    "def find_center1(P):\n",
    "    homo_c = scipy.linalg.null_space(P).ravel()\n",
    "    return homo2eucl(homo_c)\n",
    "\n",
    "# method 2\n",
    "def find_center2(P):\n",
    "    M = P[:, :3]\n",
    "    m = P[:, -1]\n",
    "    center = -np.linalg.inv(M) @ m\n",
    "    return center\n",
    "\n",
    "# method 3\n",
    "def find_center3(P):\n",
    "    x = np.linalg.det(np.stack([camera1.P[:, 1], camera1.P[:, 2], camera1.P[:, 3]]))\n",
    "    y = -np.linalg.det(np.stack([camera1.P[:, 0], camera1.P[:, 2], camera1.P[:, 3]]))\n",
    "    z = np.linalg.det(np.stack([camera1.P[:, 0], camera1.P[:, 1], camera1.P[:, 3]]))\n",
    "    t = -np.linalg.det(np.stack([camera1.P[:, 0], camera1.P[:, 1], camera1.P[:, 2]]))\n",
    "    homo_c = np.array([x, y, z, t])\n",
    "    return homo2eucl(homo_c)\n",
    "\n",
    "print(\"Method 1 :\", np.allclose(find_center1(camera1.P), camera1.center))\n",
    "print(\"Method 2 :\", np.allclose(find_center2(camera1.P), camera1.center))\n",
    "print(\"Method 3 :\", np.allclose(find_center3(camera1.P), camera1.center))"
   ]
  },
  {
   "cell_type": "markdown",
   "metadata": {},
   "source": [
    "### Finding the camera orientation and internal parameters"
   ]
  },
  {
   "cell_type": "code",
   "execution_count": 7,
   "metadata": {},
   "outputs": [
    {
     "name": "stdout",
     "output_type": "stream",
     "text": [
      "Camera calibration matrix (K) : True\n",
      "Camera pose (R) : True\n"
     ]
    }
   ],
   "source": [
    "def gram_schmidt(A):\n",
    "    # Gram-Schmidt only works for full rank matrix\n",
    "    # if not full rank, use numpy qr decomposition\n",
    "    if np.linalg.matrix_rank(A) < A.shape[1]:\n",
    "        print(\"call numpy qr\")\n",
    "        Q, _ = np.linalg.qr(A)\n",
    "        return Q\n",
    "    Q = []\n",
    "    for i in range(A.shape[1]):\n",
    "        u = A[:, i]\n",
    "        for q in Q:\n",
    "            u = u - (q @ A[:, i]) * q / (q @ q)\n",
    "        Q.append(u / np.linalg.norm(u))\n",
    "    return np.array(Q).T\n",
    "\n",
    "def qr(A):\n",
    "    Q = gram_schmidt(A)\n",
    "    R = Q.T @ A \n",
    "    return Q, R \n",
    "\n",
    "def rq(A):\n",
    "    Q = gram_schmidt(A.T[:, ::-1])[:, ::-1].T\n",
    "    R = A @ Q.T\n",
    "    return R, Q\n",
    "\n",
    "K, R = rq(camera1.P[:, :-1])\n",
    "print(\"Camera calibration matrix (K) :\", np.allclose(K, camera1.K))\n",
    "print(\"Camera pose (R) :\", np.allclose(R, camera1.R))"
   ]
  },
  {
   "cell_type": "markdown",
   "metadata": {},
   "source": [
    "## Computation of the Camera Matrix P\n",
    "Assume we have a number of point correspondences $\\mathbf{X_i} \\leftrightarrow \\left( {\\begin{array}{c} x_i \\\\ y_i \\\\ w_i\\end{array}} \\right)$\n",
    "$$\n",
    "\\left[ {\\begin{array}{ccc}\n",
    "    0^T & -w_i\\mathbf{X}_i^T & y_i\\mathbf{X}_i^T \\\\\n",
    "    w_i\\mathbf{X}_i^T & 0^T & -x_i\\mathbf{X}_i^T \\\\\n",
    "     & . & \\\\\n",
    "     & . & \\\\\n",
    "     & . & \\\\\n",
    "\\end{array}}\\right]\n",
    "\\left( {\\begin{array}{c} P_1 \\\\ P_2 \\\\ P_3 \\end{array}}\\right) = 0\n",
    "$$\n",
    "\n",
    "### Solve $Ap = 0$ subject to  $\\lVert p \\rVert = 1$ <br>\n",
    "When the system is over-determined, the problem becomes minimizing $\\lVert Ap \\rVert$ subject to  $\\lVert p \\rVert = 1$. <br>\n",
    "$$\n",
    "\\begin{aligned}\n",
    "&L(p, \\lambda) = p^T A^T A p + \\lambda (1 - p^T p) \\\\\n",
    "&\\frac{\\partial L(p, \\lambda)}{\\partial p} = 2 A^T A p - 2 \\lambda p = 0 \\\\\n",
    "&\\Rightarrow A^T A p = \\lambda p \\\\\n",
    "&\\Rightarrow p = \\text{Eigenvector of } A^T A \\\\\n",
    "&\\Rightarrow p \\in \\{ v_i| [v_1, v_2, ...]  = V \\} \\ \\text{, where}\\ A = U \\Sigma V^T \n",
    "\\end{aligned}\n",
    "$$\n",
    "Now we know that $p$ is a singular vector of $A$. Now evaluate the loss function\n",
    "$$ \n",
    "\\lVert Ap \\rVert = \\lVert Av_i \\rVert=\\sqrt{(Av_i)^T Av_i} = \\sqrt{(\\sigma_i u_i)^T \\sigma_i u_i} = \\sqrt{\\sigma_i^2} = \\sigma_i \n",
    "$$\n",
    "Thus, to minimize this term, we can just choose $p$ to be the singular vector of the smallest singular value of $A$. $\\ \\ \\ \\ \\square$\n",
    "<br><br>\n",
    "Alternative solution can be minimizing $\\frac{\\lVert Ap\\rVert}{\\lVert p \\rVert}$ directly with no constraint, which leads to the same result. The derivation is omitted here, but can be found in Gil Strang's Linear Algebra textbook.\n",
    "\n",
    " "
   ]
  },
  {
   "cell_type": "code",
   "execution_count": 8,
   "metadata": {},
   "outputs": [
    {
     "name": "stdout",
     "output_type": "stream",
     "text": [
      "Compare P1 and P2 after rescaled : True\n",
      "Compare P1 and P2 by point transformation result: True\n"
     ]
    }
   ],
   "source": [
    "X = eucl2homo(camera1.world_pts)\n",
    "x = eucl2homo(camera1.image_pts)\n",
    "\n",
    "def find_P(X, x):\n",
    "    A = np.zeros((X.shape[0], 2*12))\n",
    "    for i in range(A.shape[0]):\n",
    "        A[i, 4:8] = -x[i, 2] * X[i, :]\n",
    "        A[i, 8:12] = x[i, 1] * X[i, :]\n",
    "        A[i, 12:16] = x[i, 2] * X[i, :]\n",
    "        A[i, 20:24] = -x[i, 0] * X[i, :]\n",
    "    A = A.reshape(int(A.shape[0] * 2), int(A.shape[1] / 2))\n",
    "    U, sig, Vt = np.linalg.svd(A)\n",
    "    Pi = Vt[-1, :]\n",
    "\n",
    "    P = np.stack([Pi[0:4], Pi[4:8], Pi[8:12]])\n",
    "    P /= P[-1, -1]\n",
    "    return P\n",
    "\n",
    "def compareP(P_cam, P_estimate, X, x):\n",
    "    normalize = lambda P: P/P[-1, -1]\n",
    "    print(\"Compare P1 and P2 after rescaled :\", np.allclose(normalize(P_cam), normalize(P_estimate)))\n",
    "    x_estimate = X @ P_estimate.T\n",
    "    x = homo2eucl(x)\n",
    "    x_estimate = homo2eucl(x_estimate)\n",
    "    print(\"Compare P1 and P2 by point transformation result:\", np.allclose(x, x_estimate))\n",
    "\n",
    "P = find_P(X, x)\n",
    "compareP(camera1.P, P, X, x)"
   ]
  },
  {
   "cell_type": "markdown",
   "metadata": {},
   "source": [
    "## About Pseudoinverse \n",
    "Pseudoinverse is part of the solution of $Ax=b$. When the system is over- or underdetermined, $\\hat{x}=A^{+} b$, where $A^{+}$ is the pseudoinverse of $A$.\n",
    "\n",
    "### Case 1: Underdetermined system $Ax=b$ <br>\n",
    "Since $b \\in C(A)$, x has infinite solutions. Thus, the problem becomes minimizing $\\lVert x \\rVert$ s.t. $Ax=b$.\n",
    "$$\n",
    "\\begin{aligned}\n",
    "minimize & \\ \\lVert x \\rVert s.t. Ax=b \\\\\n",
    "= minimize & \\ \\frac{x^T x}{2} \\ s.t. \\ Ax = b \\\\\n",
    "\\Rightarrow L(x, \\lambda) &= \\frac{x^T x}{2} + \\lambda^T(b-Ax) \\\\\n",
    "\\Rightarrow \\frac{\\partial L(x, \\lambda)}{\\partial x} &= x - A^T \\lambda \\Rightarrow x = A^T \\lambda \\\\\n",
    "\\Rightarrow L(\\lambda) &= \\frac{1}{2} \\lambda^T A A^T \\lambda + \\lambda^T b- \\lambda^T A A^T \\lambda \\\\\n",
    "&= -\\frac{1}{2} \\lambda^T A A^T \\lambda + \\lambda^T b \\\\\n",
    "\\frac{\\partial L(\\lambda)}{\\partial \\lambda} &= -A A^T \\lambda + b = 0 \\\\\n",
    "\\Rightarrow b &= A A^T \\lambda \\\\\n",
    "\\Rightarrow \\lambda &= (A A^T)^{-1} b  \\\\\n",
    "\\Rightarrow \\hat{x} &= A^T(A A^T)^{-1} b \n",
    "\\end{aligned}\n",
    "$$\n",
    "(Note that $A$ : $m\\times n$, m<n. Thus, $A A^T$ is a full rank matrix)\n",
    "\n",
    "To establish a connection with SVD, let's consider, without loss of generality, matrix $A$ as a $3\\times4$ matrix, identical to the camera projection matrix and<br>\n",
    "$\n",
    "\\Sigma_{3\\times3}=\n",
    "\\left[ {\\begin{array}{ccc}\n",
    "    \\sigma_1 &  &  \\\\\n",
    "    & \\sigma_2 &  \\\\\n",
    "     &  & \\sigma_3 \\\\\n",
    "\\end{array}}\\right], \\\n",
    "\\Sigma_{3\\times4}=\n",
    "\\left[ {\\begin{array}{ccc}\n",
    "    \\sigma_1 &  & & 0 \\\\\n",
    "    & \\sigma_2 & & 0 \\\\\n",
    "     &  & \\sigma_3 & 0 \\\\\n",
    "\\end{array}}\\right], \\\n",
    "\\Sigma_{4\\times3}=\n",
    "\\left[ {\\begin{array}{ccc}\n",
    "    \\sigma_1 &  &  \\\\\n",
    "    & \\sigma_2 &  \\\\\n",
    "     &  & \\sigma_3 \\\\\n",
    "    0 &0 & 0\\\\\n",
    "\\end{array}}\\right], \\\n",
    "\\Sigma_{4\\times3}^{-1}=\n",
    "\\left[ {\\begin{array}{ccc}\n",
    "    \\sigma_1^{-1} &  &  \\\\\n",
    "    & \\sigma_2^{-1} &  \\\\\n",
    "     &  & \\sigma_3^{-1} \\\\\n",
    "    0 &0 & 0\\\\\n",
    "\\end{array}}\\right], \\\n",
    "U = \\left[ u_1 \\ u_2 \\ u_3\\right], \\\n",
    "V = \\left[ v_1 \\ v_2 \\ v_3 \\ v_4\\right], \\\n",
    "V_{4\\times3} = \\left[ v_1 \\ v_2 \\ v_3\\right]\n",
    "$\n",
    "\n",
    "$$ \n",
    "\\begin{aligned}\n",
    "A &= U \\Sigma_{3\\times 4} V^T \\\\\n",
    "A^T &= V \\Sigma_{3\\times 4}^T U^T \\\\\n",
    "A A^T &= U \\Sigma_{3\\times 4} \\Sigma_{3\\times 4}^T U^T \\\\\n",
    "&= U \\Sigma_{3\\times 3}^2 U^T \\\\ \\\\\n",
    "A^T(A A^T)^{-1} &= V \\Sigma_{3\\times 4}^T U^T U (\\Sigma_{3\\times 3}^2)^{-1} U^T \\\\\n",
    "&= V \\Sigma_{4\\times 3}^{-1} U^T \\\\\n",
    "&= V_{4 \\times 3} \\Sigma_{3 \\times 3}^{-1} U^T \\\\\n",
    "&= A^{+} \\\\\n",
    "\\\\\n",
    "\\Rightarrow \\hat{x} &= A^{+} b  \\ \\ \\ \\ \\square\n",
    "\\end{aligned}\n",
    "$$\n",
    "\n",
    "\n",
    "### Case 2: Overdetermined system $Ax=b$ <br>\n",
    "When the system is overdetermined, the problem becomes just minimizing $(b - Ax)^T (b - Ax)$ with no constraint.\n",
    "$$\n",
    "\\begin{aligned}\n",
    "&\\frac{\\partial}{\\partial x} (b - Ax)^T (b - Ax) = -2A^T(b-Ax)=0 \\\\\n",
    "&\\Rightarrow A^T A x = A^T b \\\\\n",
    "&\\Rightarrow x = (A^T A)^{-1} A^T b \n",
    "\\end{aligned}\n",
    "$$\n",
    "\n",
    "In a similar manner,\n",
    "$$\n",
    "\\begin{aligned}\n",
    "A^T A &= V \\Sigma_{m\\times n}^T U^T U \\Sigma_{m\\times n} V^T \\\\\n",
    "&= V \\Sigma_{m\\times n}^T \\Sigma_{m\\times n} V^T \\\\\n",
    "&= V \\mathbf{\\Sigma_{n\\times n}}^2 V^T \\\\\n",
    "\\\\\n",
    "(A^T A)^{-1} A^T &= V (\\Sigma_{n\\times n}^2)^{-1} V^T V \\Sigma_{m\\times n}^T U^T \\\\\n",
    "&= V (\\Sigma_{n\\times n}^2)^{-1} \\Sigma_{m\\times n}^T U^T \\\\\n",
    "&= V \\Sigma_{n\\times m}^{-1}  U^T \\\\\n",
    "&= V \\Sigma_{n\\times m}^{-1}  U^T \\\\\n",
    "&= V \\Sigma_{n\\times n}^{-1}  U_{m\\times n}^T \\\\\n",
    "&= A^{+} \\\\\n",
    "\\\\\n",
    "\\Rightarrow \\hat{x} &= A^{+} b  \\ \\ \\ \\ \\square\n",
    "\\end{aligned}\n",
    "$$\n",
    "\n",
    "\n"
   ]
  },
  {
   "cell_type": "markdown",
   "metadata": {},
   "source": [
    "## The fundemental matrix $F$\n",
    "\n",
    "The epipolar line is the projection in the second image of the ray from $X$ to the center of the first camera.\n",
    "$$ \n",
    "    l^\\prime = e^\\prime \\times x^\\prime = [e^\\prime]_\\times x^\\prime\n",
    "$$\n",
    "And the fundemental matrix $F$ is a mapping that maps a 2D image point to its corresponding epipolar line on the other image plane.\n",
    "$$\n",
    "    F: x \\mapsto l^\\prime\n",
    "$$\n",
    "\n",
    "### Geometric Derivation\n",
    "The ray: $X(\\lambda) = P^+ x + \\lambda C$, where $P P^+ = I$. <br>\n",
    "$X(\\lambda=0)=P^+ x$, $X(\\lambda = \\infty) = C$. <br>\n",
    "(Note that $P^+ x \\neq X$, $P^+ x$ is a random point on the line $\\overleftrightarrow{XC}$)\n",
    "\n",
    "Then, project $P^+ x$ and C onto the second image plane by multiplying $P^\\prime$. <br>\n",
    "The epipolar line $l^\\prime$: \n",
    "$$\n",
    "\\begin{aligned}\n",
    "    l^\\prime &= P^\\prime C \\times P^\\prime P^+ x \\\\\n",
    "    &= [e^\\prime]_\\times P^\\prime P^+ x \\\\\n",
    "    &= Fx \\\\\n",
    "    \\Rightarrow F &= [e^\\prime]_\\times P^\\prime P^+ \\\\\n",
    "\\end{aligned}\n",
    "$$ \n",
    "Also,  \n",
    "$$\n",
    "\\begin{aligned}\n",
    "    l^\\prime &= Fx \\\\\n",
    "    \\Rightarrow x^{\\prime T} l^\\prime &= 0 \\\\\n",
    "    \\Rightarrow x^{\\prime T} F x &= 0 \n",
    "\\end{aligned}\n",
    "$$ \n",
    "\n",
    "### Summary of fundemental matrix properties\n",
    "- Point correspondence <br>\n",
    "$x^\\prime F x = 0$\n",
    "\n",
    "- Epipolar lines <br>\n",
    "$l\\prime = Fx$ is the epipolar line corresponding to $x$. <br>\n",
    "$l = F^T x^\\prime$ is the epipolar line corresponding to $x^\\prime$.\n",
    "\n",
    "- Epipoles <br>\n",
    "$Fe = 0$. <br>\n",
    "$F^T e^\\prime = 0$.\n",
    "\n",
    "- Computation from camera matrices $P$, $P^\\prime$ <br>\n",
    "$F = [e^\\prime]_\\times P^\\prime P^+$, where $e^\\prime=P^\\prime C$, with $PC=0$."
   ]
  },
  {
   "cell_type": "code",
   "execution_count": 9,
   "metadata": {},
   "outputs": [
    {
     "name": "stdout",
     "output_type": "stream",
     "text": [
      "Verify fundemental matrix properties\n",
      "----------------------------------------\n",
      "point correspondance : True\n",
      "l'=Fx : demonstrate using the graph.\n",
      "Fe = 0 and F^T e' = 0 : True , True\n",
      "----------------------------------------\n"
     ]
    },
    {
     "data": {
      "application/vnd.plotly.v1+json": {
       "config": {
        "plotlyServerURL": "https://plot.ly"
       },
       "data": [
        {
         "line": {
          "color": "gray"
         },
         "mode": "lines",
         "showlegend": false,
         "type": "scatter3d",
         "x": [
          0,
          1
         ],
         "y": [
          0,
          0
         ],
         "z": [
          0,
          0
         ]
        },
        {
         "colorscale": [
          [
           0,
           "gray"
          ],
          [
           1,
           "gray"
          ]
         ],
         "showlegend": false,
         "showscale": false,
         "sizemode": "scaled",
         "sizeref": 0.3,
         "type": "cone",
         "u": [
          1
         ],
         "v": [
          0
         ],
         "w": [
          0
         ],
         "x": [
          1
         ],
         "y": [
          0
         ],
         "z": [
          0
         ]
        },
        {
         "mode": "text",
         "showlegend": false,
         "text": [
          "x"
         ],
         "textfont": {
          "color": "gray"
         },
         "textposition": "middle center",
         "type": "scatter3d",
         "x": [
          1.4
         ],
         "y": [
          0
         ],
         "z": [
          0
         ]
        },
        {
         "line": {
          "color": "gray"
         },
         "mode": "lines",
         "showlegend": false,
         "type": "scatter3d",
         "x": [
          0,
          0
         ],
         "y": [
          0,
          1
         ],
         "z": [
          0,
          0
         ]
        },
        {
         "colorscale": [
          [
           0,
           "gray"
          ],
          [
           1,
           "gray"
          ]
         ],
         "showlegend": false,
         "showscale": false,
         "sizemode": "scaled",
         "sizeref": 0.3,
         "type": "cone",
         "u": [
          0
         ],
         "v": [
          1
         ],
         "w": [
          0
         ],
         "x": [
          0
         ],
         "y": [
          1
         ],
         "z": [
          0
         ]
        },
        {
         "mode": "text",
         "showlegend": false,
         "text": [
          "y"
         ],
         "textfont": {
          "color": "gray"
         },
         "textposition": "middle center",
         "type": "scatter3d",
         "x": [
          0
         ],
         "y": [
          1.4
         ],
         "z": [
          0
         ]
        },
        {
         "line": {
          "color": "gray"
         },
         "mode": "lines",
         "showlegend": false,
         "type": "scatter3d",
         "x": [
          0,
          0
         ],
         "y": [
          0,
          0
         ],
         "z": [
          0,
          1
         ]
        },
        {
         "colorscale": [
          [
           0,
           "gray"
          ],
          [
           1,
           "gray"
          ]
         ],
         "showlegend": false,
         "showscale": false,
         "sizemode": "scaled",
         "sizeref": 0.3,
         "type": "cone",
         "u": [
          0
         ],
         "v": [
          0
         ],
         "w": [
          1
         ],
         "x": [
          0
         ],
         "y": [
          0
         ],
         "z": [
          1
         ]
        },
        {
         "mode": "text",
         "showlegend": false,
         "text": [
          "z"
         ],
         "textfont": {
          "color": "gray"
         },
         "textposition": "middle center",
         "type": "scatter3d",
         "x": [
          0
         ],
         "y": [
          0
         ],
         "z": [
          1.4
         ]
        },
        {
         "color": "black",
         "i": [
          0,
          0
         ],
         "j": [
          1,
          2
         ],
         "k": [
          2,
          3
         ],
         "opacity": 0.3,
         "type": "mesh3d",
         "x": [
          4.121320343559642,
          1.2928932188134525,
          1.2928932188134525,
          4.121320343559642
         ],
         "y": [
          3.707106781186548,
          0.8786796564403573,
          0.8786796564403575,
          3.707106781186548
         ],
         "z": [
          2,
          1.9999999999999998,
          -2.220446049250313e-16,
          2.220446049250313e-16
         ]
        },
        {
         "line": {
          "color": "black"
         },
         "mode": "lines",
         "opacity": 0.3,
         "showlegend": false,
         "type": "scatter3d",
         "x": [
          2,
          4.121320343559642
         ],
         "y": [
          3,
          3.707106781186548
         ],
         "z": [
          1,
          2
         ]
        },
        {
         "line": {
          "color": "black"
         },
         "mode": "lines",
         "opacity": 0.3,
         "showlegend": false,
         "type": "scatter3d",
         "x": [
          2,
          1.2928932188134525
         ],
         "y": [
          3,
          0.8786796564403573
         ],
         "z": [
          1,
          1.9999999999999998
         ]
        },
        {
         "line": {
          "color": "black"
         },
         "mode": "lines",
         "opacity": 0.3,
         "showlegend": false,
         "type": "scatter3d",
         "x": [
          2,
          1.2928932188134525
         ],
         "y": [
          3,
          0.8786796564403575
         ],
         "z": [
          1,
          -2.220446049250313e-16
         ]
        },
        {
         "line": {
          "color": "black"
         },
         "mode": "lines",
         "opacity": 0.3,
         "showlegend": false,
         "type": "scatter3d",
         "x": [
          2,
          4.121320343559642
         ],
         "y": [
          3,
          3.707106781186548
         ],
         "z": [
          1,
          2.220446049250313e-16
         ]
        },
        {
         "marker": {
          "color": "black",
          "opacity": 1,
          "size": 2
         },
         "mode": "text",
         "showlegend": false,
         "text": [
          "Cam1"
         ],
         "type": "scatter3d",
         "x": [
          2
         ],
         "y": [
          3
         ],
         "z": [
          1
         ]
        },
        {
         "color": "black",
         "i": [
          0,
          0
         ],
         "j": [
          1,
          2
         ],
         "k": [
          2,
          3
         ],
         "opacity": 0.3,
         "type": "mesh3d",
         "x": [
          1.2556523341345711,
          2.6237329074372457,
          2.6237329074372457,
          1.2556523341345711
         ],
         "y": [
          0.22140538489748546,
          -3.5373650982461484,
          -3.5373650982461484,
          0.22140538489748557
         ],
         "z": [
          2,
          2,
          -1.1102230246251565e-16,
          0
         ]
        },
        {
         "line": {
          "color": "black"
         },
         "mode": "lines",
         "opacity": 0.3,
         "showlegend": false,
         "type": "scatter3d",
         "x": [
          1,
          1.2556523341345711
         ],
         "y": [
          -2,
          0.22140538489748546
         ],
         "z": [
          1,
          2
         ]
        },
        {
         "line": {
          "color": "black"
         },
         "mode": "lines",
         "opacity": 0.3,
         "showlegend": false,
         "type": "scatter3d",
         "x": [
          1,
          2.6237329074372457
         ],
         "y": [
          -2,
          -3.5373650982461484
         ],
         "z": [
          1,
          2
         ]
        },
        {
         "line": {
          "color": "black"
         },
         "mode": "lines",
         "opacity": 0.3,
         "showlegend": false,
         "type": "scatter3d",
         "x": [
          1,
          2.6237329074372457
         ],
         "y": [
          -2,
          -3.5373650982461484
         ],
         "z": [
          1,
          -1.1102230246251565e-16
         ]
        },
        {
         "line": {
          "color": "black"
         },
         "mode": "lines",
         "opacity": 0.3,
         "showlegend": false,
         "type": "scatter3d",
         "x": [
          1,
          1.2556523341345711
         ],
         "y": [
          -2,
          0.22140538489748557
         ],
         "z": [
          1,
          0
         ]
        },
        {
         "marker": {
          "color": "black",
          "opacity": 1,
          "size": 2
         },
         "mode": "text",
         "showlegend": false,
         "text": [
          "Cam2"
         ],
         "type": "scatter3d",
         "x": [
          1
         ],
         "y": [
          -2
         ],
         "z": [
          1
         ]
        },
        {
         "marker": {
          "color": "red",
          "opacity": 1,
          "size": 5
         },
         "mode": "markers",
         "showlegend": false,
         "type": "scatter3d",
         "x": [
          5
         ],
         "y": [
          2
         ],
         "z": [
          1.6
         ]
        },
        {
         "line": {
          "color": "red"
         },
         "mode": "lines",
         "opacity": 1,
         "showlegend": false,
         "type": "scatter3d",
         "x": [
          11.626248834642364,
          -5.551228019029503
         ],
         "y": [
          -28.271574326522803,
          18.92315545214509
         ],
         "z": [
          3.977605693740051,
          -1.0129735830234754
         ]
        },
        {
         "line": {
          "color": "black"
         },
         "mode": "lines",
         "opacity": 1,
         "showlegend": false,
         "type": "scatter3d",
         "x": [
          2,
          1
         ],
         "y": [
          3,
          -2
         ],
         "z": [
          1,
          1
         ]
        },
        {
         "line": {
          "color": "red"
         },
         "mode": "lines",
         "opacity": 1,
         "showlegend": false,
         "type": "scatter3d",
         "x": [
          2,
          5
         ],
         "y": [
          3,
          2
         ],
         "z": [
          1,
          1.6
         ]
        },
        {
         "line": {
          "color": "black"
         },
         "mode": "lines",
         "opacity": 1,
         "showlegend": false,
         "type": "scatter3d",
         "x": [
          1,
          5
         ],
         "y": [
          -2,
          2
         ],
         "z": [
          1,
          1.6
         ]
        },
        {
         "marker": {
          "color": "black",
          "size": 5
         },
         "mode": "markers",
         "showlegend": false,
         "type": "scatter3d",
         "x": [
          1.6464466094067256
         ],
         "y": [
          1.2322330470336305
         ],
         "z": [
          1
         ]
        },
        {
         "marker": {
          "color": "black",
          "size": 5
         },
         "mode": "markers",
         "showlegend": false,
         "type": "scatter3d",
         "x": [
          1.3773879214957307
         ],
         "y": [
          -0.1130603925213467
         ],
         "z": [
          0.9999999999999999
         ]
        },
        {
         "marker": {
          "color": "black",
          "size": 5
         },
         "mode": "markers",
         "showlegend": false,
         "type": "scatter3d",
         "x": [
          3.060660171779821
         ],
         "y": [
          2.646446609406726
         ],
         "z": [
          1.2121320343559643
         ]
        },
        {
         "marker": {
          "color": "black",
          "size": 5
         },
         "mode": "markers",
         "showlegend": false,
         "type": "scatter3d",
         "x": [
          1.7802060087098788
         ],
         "y": [
          -1.219793991290121
         ],
         "z": [
          1.1170309013064819
         ]
        },
        {
         "marker": {
          "color": "black",
          "opacity": 1,
          "size": 2
         },
         "mode": "text",
         "showlegend": false,
         "text": [
          "e"
         ],
         "type": "scatter3d",
         "x": [
          1.6464466094067256
         ],
         "y": [
          1.2322330470336305
         ],
         "z": [
          1
         ]
        },
        {
         "marker": {
          "color": "black",
          "opacity": 1,
          "size": 2
         },
         "mode": "text",
         "showlegend": false,
         "text": [
          "e'"
         ],
         "type": "scatter3d",
         "x": [
          1.3773879214957307
         ],
         "y": [
          -0.1130603925213467
         ],
         "z": [
          0.9999999999999999
         ]
        },
        {
         "marker": {
          "color": "black",
          "opacity": 1,
          "size": 2
         },
         "mode": "text",
         "showlegend": false,
         "text": [
          "x"
         ],
         "type": "scatter3d",
         "x": [
          3.060660171779821
         ],
         "y": [
          2.646446609406726
         ],
         "z": [
          1.2121320343559643
         ]
        },
        {
         "marker": {
          "color": "black",
          "opacity": 1,
          "size": 2
         },
         "mode": "text",
         "showlegend": false,
         "text": [
          "x'"
         ],
         "type": "scatter3d",
         "x": [
          1.7802060087098788
         ],
         "y": [
          -1.219793991290121
         ],
         "z": [
          1.1170309013064819
         ]
        },
        {
         "marker": {
          "color": "black",
          "opacity": 1,
          "size": 2
         },
         "mode": "text",
         "showlegend": false,
         "text": [
          "X"
         ],
         "type": "scatter3d",
         "x": [
          5
         ],
         "y": [
          2
         ],
         "z": [
          1.6
         ]
        },
        {
         "marker": {
          "color": "black",
          "opacity": 1,
          "size": 2
         },
         "mode": "text",
         "showlegend": false,
         "text": [
          "l'"
         ],
         "type": "scatter3d",
         "x": [
          2.1830240959240266
         ],
         "y": [
          -2.3265275900588955
         ],
         "z": [
          1.2340618026129637
         ]
        }
       ],
       "layout": {
        "height": 500,
        "margin": {
         "b": 10,
         "l": 10,
         "r": 10,
         "t": 10
        },
        "scene": {
         "aspectratio": {
          "x": 1,
          "y": 1,
          "z": 1
         },
         "xaxis": {
          "nticks": 4,
          "range": [
           -2,
           6
          ]
         },
         "yaxis": {
          "nticks": 4,
          "range": [
           -4,
           4
          ]
         },
         "zaxis": {
          "nticks": 4,
          "range": [
           -3,
           5
          ]
         }
        },
        "template": {
         "data": {
          "bar": [
           {
            "error_x": {
             "color": "#2a3f5f"
            },
            "error_y": {
             "color": "#2a3f5f"
            },
            "marker": {
             "line": {
              "color": "#E5ECF6",
              "width": 0.5
             },
             "pattern": {
              "fillmode": "overlay",
              "size": 10,
              "solidity": 0.2
             }
            },
            "type": "bar"
           }
          ],
          "barpolar": [
           {
            "marker": {
             "line": {
              "color": "#E5ECF6",
              "width": 0.5
             },
             "pattern": {
              "fillmode": "overlay",
              "size": 10,
              "solidity": 0.2
             }
            },
            "type": "barpolar"
           }
          ],
          "carpet": [
           {
            "aaxis": {
             "endlinecolor": "#2a3f5f",
             "gridcolor": "white",
             "linecolor": "white",
             "minorgridcolor": "white",
             "startlinecolor": "#2a3f5f"
            },
            "baxis": {
             "endlinecolor": "#2a3f5f",
             "gridcolor": "white",
             "linecolor": "white",
             "minorgridcolor": "white",
             "startlinecolor": "#2a3f5f"
            },
            "type": "carpet"
           }
          ],
          "choropleth": [
           {
            "colorbar": {
             "outlinewidth": 0,
             "ticks": ""
            },
            "type": "choropleth"
           }
          ],
          "contour": [
           {
            "colorbar": {
             "outlinewidth": 0,
             "ticks": ""
            },
            "colorscale": [
             [
              0,
              "#0d0887"
             ],
             [
              0.1111111111111111,
              "#46039f"
             ],
             [
              0.2222222222222222,
              "#7201a8"
             ],
             [
              0.3333333333333333,
              "#9c179e"
             ],
             [
              0.4444444444444444,
              "#bd3786"
             ],
             [
              0.5555555555555556,
              "#d8576b"
             ],
             [
              0.6666666666666666,
              "#ed7953"
             ],
             [
              0.7777777777777778,
              "#fb9f3a"
             ],
             [
              0.8888888888888888,
              "#fdca26"
             ],
             [
              1,
              "#f0f921"
             ]
            ],
            "type": "contour"
           }
          ],
          "contourcarpet": [
           {
            "colorbar": {
             "outlinewidth": 0,
             "ticks": ""
            },
            "type": "contourcarpet"
           }
          ],
          "heatmap": [
           {
            "colorbar": {
             "outlinewidth": 0,
             "ticks": ""
            },
            "colorscale": [
             [
              0,
              "#0d0887"
             ],
             [
              0.1111111111111111,
              "#46039f"
             ],
             [
              0.2222222222222222,
              "#7201a8"
             ],
             [
              0.3333333333333333,
              "#9c179e"
             ],
             [
              0.4444444444444444,
              "#bd3786"
             ],
             [
              0.5555555555555556,
              "#d8576b"
             ],
             [
              0.6666666666666666,
              "#ed7953"
             ],
             [
              0.7777777777777778,
              "#fb9f3a"
             ],
             [
              0.8888888888888888,
              "#fdca26"
             ],
             [
              1,
              "#f0f921"
             ]
            ],
            "type": "heatmap"
           }
          ],
          "heatmapgl": [
           {
            "colorbar": {
             "outlinewidth": 0,
             "ticks": ""
            },
            "colorscale": [
             [
              0,
              "#0d0887"
             ],
             [
              0.1111111111111111,
              "#46039f"
             ],
             [
              0.2222222222222222,
              "#7201a8"
             ],
             [
              0.3333333333333333,
              "#9c179e"
             ],
             [
              0.4444444444444444,
              "#bd3786"
             ],
             [
              0.5555555555555556,
              "#d8576b"
             ],
             [
              0.6666666666666666,
              "#ed7953"
             ],
             [
              0.7777777777777778,
              "#fb9f3a"
             ],
             [
              0.8888888888888888,
              "#fdca26"
             ],
             [
              1,
              "#f0f921"
             ]
            ],
            "type": "heatmapgl"
           }
          ],
          "histogram": [
           {
            "marker": {
             "pattern": {
              "fillmode": "overlay",
              "size": 10,
              "solidity": 0.2
             }
            },
            "type": "histogram"
           }
          ],
          "histogram2d": [
           {
            "colorbar": {
             "outlinewidth": 0,
             "ticks": ""
            },
            "colorscale": [
             [
              0,
              "#0d0887"
             ],
             [
              0.1111111111111111,
              "#46039f"
             ],
             [
              0.2222222222222222,
              "#7201a8"
             ],
             [
              0.3333333333333333,
              "#9c179e"
             ],
             [
              0.4444444444444444,
              "#bd3786"
             ],
             [
              0.5555555555555556,
              "#d8576b"
             ],
             [
              0.6666666666666666,
              "#ed7953"
             ],
             [
              0.7777777777777778,
              "#fb9f3a"
             ],
             [
              0.8888888888888888,
              "#fdca26"
             ],
             [
              1,
              "#f0f921"
             ]
            ],
            "type": "histogram2d"
           }
          ],
          "histogram2dcontour": [
           {
            "colorbar": {
             "outlinewidth": 0,
             "ticks": ""
            },
            "colorscale": [
             [
              0,
              "#0d0887"
             ],
             [
              0.1111111111111111,
              "#46039f"
             ],
             [
              0.2222222222222222,
              "#7201a8"
             ],
             [
              0.3333333333333333,
              "#9c179e"
             ],
             [
              0.4444444444444444,
              "#bd3786"
             ],
             [
              0.5555555555555556,
              "#d8576b"
             ],
             [
              0.6666666666666666,
              "#ed7953"
             ],
             [
              0.7777777777777778,
              "#fb9f3a"
             ],
             [
              0.8888888888888888,
              "#fdca26"
             ],
             [
              1,
              "#f0f921"
             ]
            ],
            "type": "histogram2dcontour"
           }
          ],
          "mesh3d": [
           {
            "colorbar": {
             "outlinewidth": 0,
             "ticks": ""
            },
            "type": "mesh3d"
           }
          ],
          "parcoords": [
           {
            "line": {
             "colorbar": {
              "outlinewidth": 0,
              "ticks": ""
             }
            },
            "type": "parcoords"
           }
          ],
          "pie": [
           {
            "automargin": true,
            "type": "pie"
           }
          ],
          "scatter": [
           {
            "fillpattern": {
             "fillmode": "overlay",
             "size": 10,
             "solidity": 0.2
            },
            "type": "scatter"
           }
          ],
          "scatter3d": [
           {
            "line": {
             "colorbar": {
              "outlinewidth": 0,
              "ticks": ""
             }
            },
            "marker": {
             "colorbar": {
              "outlinewidth": 0,
              "ticks": ""
             }
            },
            "type": "scatter3d"
           }
          ],
          "scattercarpet": [
           {
            "marker": {
             "colorbar": {
              "outlinewidth": 0,
              "ticks": ""
             }
            },
            "type": "scattercarpet"
           }
          ],
          "scattergeo": [
           {
            "marker": {
             "colorbar": {
              "outlinewidth": 0,
              "ticks": ""
             }
            },
            "type": "scattergeo"
           }
          ],
          "scattergl": [
           {
            "marker": {
             "colorbar": {
              "outlinewidth": 0,
              "ticks": ""
             }
            },
            "type": "scattergl"
           }
          ],
          "scattermapbox": [
           {
            "marker": {
             "colorbar": {
              "outlinewidth": 0,
              "ticks": ""
             }
            },
            "type": "scattermapbox"
           }
          ],
          "scatterpolar": [
           {
            "marker": {
             "colorbar": {
              "outlinewidth": 0,
              "ticks": ""
             }
            },
            "type": "scatterpolar"
           }
          ],
          "scatterpolargl": [
           {
            "marker": {
             "colorbar": {
              "outlinewidth": 0,
              "ticks": ""
             }
            },
            "type": "scatterpolargl"
           }
          ],
          "scatterternary": [
           {
            "marker": {
             "colorbar": {
              "outlinewidth": 0,
              "ticks": ""
             }
            },
            "type": "scatterternary"
           }
          ],
          "surface": [
           {
            "colorbar": {
             "outlinewidth": 0,
             "ticks": ""
            },
            "colorscale": [
             [
              0,
              "#0d0887"
             ],
             [
              0.1111111111111111,
              "#46039f"
             ],
             [
              0.2222222222222222,
              "#7201a8"
             ],
             [
              0.3333333333333333,
              "#9c179e"
             ],
             [
              0.4444444444444444,
              "#bd3786"
             ],
             [
              0.5555555555555556,
              "#d8576b"
             ],
             [
              0.6666666666666666,
              "#ed7953"
             ],
             [
              0.7777777777777778,
              "#fb9f3a"
             ],
             [
              0.8888888888888888,
              "#fdca26"
             ],
             [
              1,
              "#f0f921"
             ]
            ],
            "type": "surface"
           }
          ],
          "table": [
           {
            "cells": {
             "fill": {
              "color": "#EBF0F8"
             },
             "line": {
              "color": "white"
             }
            },
            "header": {
             "fill": {
              "color": "#C8D4E3"
             },
             "line": {
              "color": "white"
             }
            },
            "type": "table"
           }
          ]
         },
         "layout": {
          "annotationdefaults": {
           "arrowcolor": "#2a3f5f",
           "arrowhead": 0,
           "arrowwidth": 1
          },
          "autotypenumbers": "strict",
          "coloraxis": {
           "colorbar": {
            "outlinewidth": 0,
            "ticks": ""
           }
          },
          "colorscale": {
           "diverging": [
            [
             0,
             "#8e0152"
            ],
            [
             0.1,
             "#c51b7d"
            ],
            [
             0.2,
             "#de77ae"
            ],
            [
             0.3,
             "#f1b6da"
            ],
            [
             0.4,
             "#fde0ef"
            ],
            [
             0.5,
             "#f7f7f7"
            ],
            [
             0.6,
             "#e6f5d0"
            ],
            [
             0.7,
             "#b8e186"
            ],
            [
             0.8,
             "#7fbc41"
            ],
            [
             0.9,
             "#4d9221"
            ],
            [
             1,
             "#276419"
            ]
           ],
           "sequential": [
            [
             0,
             "#0d0887"
            ],
            [
             0.1111111111111111,
             "#46039f"
            ],
            [
             0.2222222222222222,
             "#7201a8"
            ],
            [
             0.3333333333333333,
             "#9c179e"
            ],
            [
             0.4444444444444444,
             "#bd3786"
            ],
            [
             0.5555555555555556,
             "#d8576b"
            ],
            [
             0.6666666666666666,
             "#ed7953"
            ],
            [
             0.7777777777777778,
             "#fb9f3a"
            ],
            [
             0.8888888888888888,
             "#fdca26"
            ],
            [
             1,
             "#f0f921"
            ]
           ],
           "sequentialminus": [
            [
             0,
             "#0d0887"
            ],
            [
             0.1111111111111111,
             "#46039f"
            ],
            [
             0.2222222222222222,
             "#7201a8"
            ],
            [
             0.3333333333333333,
             "#9c179e"
            ],
            [
             0.4444444444444444,
             "#bd3786"
            ],
            [
             0.5555555555555556,
             "#d8576b"
            ],
            [
             0.6666666666666666,
             "#ed7953"
            ],
            [
             0.7777777777777778,
             "#fb9f3a"
            ],
            [
             0.8888888888888888,
             "#fdca26"
            ],
            [
             1,
             "#f0f921"
            ]
           ]
          },
          "colorway": [
           "#636efa",
           "#EF553B",
           "#00cc96",
           "#ab63fa",
           "#FFA15A",
           "#19d3f3",
           "#FF6692",
           "#B6E880",
           "#FF97FF",
           "#FECB52"
          ],
          "font": {
           "color": "#2a3f5f"
          },
          "geo": {
           "bgcolor": "white",
           "lakecolor": "white",
           "landcolor": "#E5ECF6",
           "showlakes": true,
           "showland": true,
           "subunitcolor": "white"
          },
          "hoverlabel": {
           "align": "left"
          },
          "hovermode": "closest",
          "mapbox": {
           "style": "light"
          },
          "paper_bgcolor": "white",
          "plot_bgcolor": "#E5ECF6",
          "polar": {
           "angularaxis": {
            "gridcolor": "white",
            "linecolor": "white",
            "ticks": ""
           },
           "bgcolor": "#E5ECF6",
           "radialaxis": {
            "gridcolor": "white",
            "linecolor": "white",
            "ticks": ""
           }
          },
          "scene": {
           "xaxis": {
            "backgroundcolor": "#E5ECF6",
            "gridcolor": "white",
            "gridwidth": 2,
            "linecolor": "white",
            "showbackground": true,
            "ticks": "",
            "zerolinecolor": "white"
           },
           "yaxis": {
            "backgroundcolor": "#E5ECF6",
            "gridcolor": "white",
            "gridwidth": 2,
            "linecolor": "white",
            "showbackground": true,
            "ticks": "",
            "zerolinecolor": "white"
           },
           "zaxis": {
            "backgroundcolor": "#E5ECF6",
            "gridcolor": "white",
            "gridwidth": 2,
            "linecolor": "white",
            "showbackground": true,
            "ticks": "",
            "zerolinecolor": "white"
           }
          },
          "shapedefaults": {
           "line": {
            "color": "#2a3f5f"
           }
          },
          "ternary": {
           "aaxis": {
            "gridcolor": "white",
            "linecolor": "white",
            "ticks": ""
           },
           "baxis": {
            "gridcolor": "white",
            "linecolor": "white",
            "ticks": ""
           },
           "bgcolor": "#E5ECF6",
           "caxis": {
            "gridcolor": "white",
            "linecolor": "white",
            "ticks": ""
           }
          },
          "title": {
           "x": 0.05
          },
          "xaxis": {
           "automargin": true,
           "gridcolor": "white",
           "linecolor": "white",
           "ticks": "",
           "title": {
            "standoff": 15
           },
           "zerolinecolor": "white",
           "zerolinewidth": 2
          },
          "yaxis": {
           "automargin": true,
           "gridcolor": "white",
           "linecolor": "white",
           "ticks": "",
           "title": {
            "standoff": 15
           },
           "zerolinecolor": "white",
           "zerolinewidth": 2
          }
         }
        },
        "width": 500
       }
      }
     },
     "metadata": {},
     "output_type": "display_data"
    }
   ],
   "source": [
    "# plot a point(2D) on a camera image plane(3D)\n",
    "class CameraPoint(Point):\n",
    "\n",
    "    def __init__(self, pts, camera, color='black', size=2):\n",
    "        self.R = camera.R\n",
    "        self.center = camera.center\n",
    "        self.K = camera.K\n",
    "        world_pts = self.img2world(pts)\n",
    "        super().__init__(world_pts, color, size)\n",
    "\n",
    "        self.data = world_pts\n",
    "\n",
    "    # transform image points to world coordinates\n",
    "    # (transformed points are on the image plane in 3D world, not 3D reconstruction)\n",
    "    def img2world(self, x):\n",
    "        xcam = np.linalg.inv(self.K) @ eucl2homo(x) # image frame to camera frame\n",
    "        xworld = xcam @ self.R + self.center # R^T*xcam + C\n",
    "        return xworld\n",
    "    \n",
    "    def get_fig_data(self):\n",
    "        return super().get_fig_data()\n",
    "    \n",
    "class CameraLine(Line):\n",
    "    \n",
    "    def __init__(self, l, camera, color='black', opacity=1):\n",
    "        # save the camera information\n",
    "        self.R = camera.R\n",
    "        self.center = camera.center \n",
    "        self.K = camera.K\n",
    "        ximg1, ximg2 = self.find_two_img_pts(l)\n",
    "        \n",
    "        start = self.img2world(ximg1)\n",
    "        end = self.img2world(ximg2)\n",
    "        super().__init__(start, end, color, opacity)\n",
    "\n",
    "    # transform image points to world coordinates\n",
    "    # (transformed points are on the image plane in 3D world, not 3D reconstruction)\n",
    "    def img2world(self, x):\n",
    "        xcam =  eucl2homo(x) @ np.linalg.inv(self.K).T # image frame to camera frame\n",
    "        xworld = xcam @ self.R + self.center # R^T*xcam + C\n",
    "        return xworld\n",
    "    \n",
    "    # find two image points that l^T x = 0\n",
    "    def find_two_img_pts(self, l):\n",
    "        # let the two points be [x, 0, 1] and [0, y, 1]\n",
    "        ximg1 = np.array([-l[2]/l[0], 0])\n",
    "        ximg2 = np.array([0, -l[2]/l[1]])\n",
    "        return ximg1, ximg2\n",
    "    \n",
    "    def get_fig_data(self):\n",
    "        return super().get_fig_data()\n",
    "    \n",
    "def vec2skew(x):\n",
    "    return np.array([\n",
    "        [0, -x[2], x[1]],\n",
    "        [x[2], 0, -x[0]],\n",
    "        [-x[1], x[0], 0]\n",
    "    ])\n",
    "\n",
    "def find_F(C, P0, P1):\n",
    "    C = eucl2homo(C)\n",
    "    return vec2skew(P1 @ C) @ P1 @ np.linalg.pinv(P0)\n",
    "\n",
    "# given two 2D points, print the line equation\n",
    "def line_equation(pt1, pt2):\n",
    "    m = (pt2[1] - pt1[1]) / (pt2[0] - pt1[0])\n",
    "    k = (pt1[1] * pt2[0] - pt2[1] * pt1[0]) / (pt2[0] - pt1[0])\n",
    "    print(f'line equation : {m:.2f}x + {k:.2f} = y')\n",
    "\n",
    "# point size\n",
    "size = 5\n",
    "\n",
    "# create two cameras\n",
    "cameraA = Camera(Ry(np.pi/2)@Rz(-np.pi/2)@Ry(np.pi/4), np.array([2, 3, 1]), \"Cam1\", show_frame=False)\n",
    "cameraB = Camera(Ry(np.pi/2)@Rz(-np.pi/2)@Ry(-np.pi/9), np.array([1, -2, 1]), \"Cam2\", show_frame=False)\n",
    "\n",
    "# test point \n",
    "X = np.array([5, 2, 1.6])\n",
    "\n",
    "ptX = PointCloud(size=size)\n",
    "ptX.add_data([X, 'red']) # will not be plotted \n",
    "cameraA.capture(ptX)\n",
    "cameraB.capture(ptX)\n",
    "\n",
    "F = find_F(cameraA.center, cameraA.P, cameraB.P)\n",
    "\n",
    "# =========== x -> l ====================\n",
    "l = F @ eucl2homo(cameraA.image_pts[0])\n",
    "# =======================================\n",
    "    \n",
    "epiline = CameraLine(l, cameraB, color='red')\n",
    "line1 = Segment(cameraA.center, cameraB.center)\n",
    "line2 = Segment(cameraA.center, X, 'red')\n",
    "line3 = Segment(cameraB.center, X)\n",
    "\n",
    "# epipole and projected point on second image plane \n",
    "epipole1 = homo2eucl(cameraA.P @ eucl2homo(cameraB.center))\n",
    "epipole2 = homo2eucl(cameraB.P @ eucl2homo(cameraA.center))\n",
    "Xproj1 = homo2eucl(cameraA.P @ eucl2homo(X))\n",
    "Xproj2 = homo2eucl(cameraB.P @ eucl2homo(X))\n",
    "pt_epipole1 = CameraPoint(epipole1, cameraA, size=size)\n",
    "pt_epipole2 = CameraPoint(epipole2, cameraB, size=size)\n",
    "pt_Xproj1 = CameraPoint(Xproj1, cameraA, size=size)\n",
    "pt_Xproj2 = CameraPoint(Xproj2, cameraB, size=size)\n",
    "\n",
    "# verify fundemental matrix properties \n",
    "\n",
    "print(\"Verify fundemental matrix properties\")\n",
    "print(\"-\"*40)\n",
    "print(\"point correspondance :\", np.allclose(eucl2homo(cameraB.image_pts[0])[None, :] @ F @ eucl2homo(cameraA.image_pts[0]), 0))\n",
    "print(\"l\\'=Fx :\", \"demonstrate using the graph.\")\n",
    "print(\"Fe = 0 and F^T e\\' = 0 :\", np.allclose(F @ eucl2homo(epipole1), 0), \",\", np.allclose(F.T @ eucl2homo(epipole2), 0))\n",
    "print(\"-\"*40)\n",
    "\n",
    "# add name tags\n",
    "text = Text([pt_epipole1.data, pt_epipole2.data, pt_Xproj1.data, pt_Xproj2.data, X, 2*pt_Xproj2.data-pt_epipole2.data], \n",
    "            ['e', 'e\\'', 'x', 'x\\'', 'X', 'l\\''])\n",
    "\n",
    "FIG = plot_all([cameraA, cameraB, ptX, epiline, line1, line2, line3, pt_epipole1, pt_epipole2, pt_Xproj1, pt_Xproj2, text], world=True)\n",
    "\n",
    "\n",
    "    "
   ]
  },
  {
   "cell_type": "markdown",
   "metadata": {},
   "source": [
    "### The essential matrix $E$\n",
    "**Derivation** <br>\n",
    "Consider a pair of cameras: $P = [I|0]$ and $P^\\prime = [R | t]$. <br>\n",
    "The fundemental matrix of this pair is the essential matrix. \n",
    "$$\n",
    "\\begin{aligned}\n",
    "    PC &= 0 \\Rightarrow C = \\left[ {\\begin{array}{c} 0 \\\\ 0 \\\\ 0 \\\\ 1 \\\\ \\end{array}}\\right] \\\\\n",
    "    e^\\prime &= P^\\prime C = t \\\\\n",
    "    P^+ &= \\left[\\begin{array}{c} I \\\\ \\hline 0 \\end{array}\\right] \\\\ \n",
    "    E &= [e^\\prime]_\\times P^\\prime P^+ = [t]_\\times R = R [R^T t]_\\times\n",
    "    \\\\ \\\\ \n",
    "    \\hat{x}^{\\prime T} E \\hat{x} &= 0 \\ \\text{, where } \\hat{x} \\text{ is in the camera coordinate frame.}\n",
    "\\end{aligned}\n",
    "$$\n",
    "\n",
    "**How to find the relative $R$ and $t$ between two cameras if their projection matrices are not in the form shown above?**<br>\n",
    "Assume camera 1 has $pose1$ and $center1$, camera 2 has $pose2$ and $center2$. ($pose$ is the rotation matrix that transform the world coordinate to camera coordinate, $center$ is the camera center represented in world coordinate frame).\n",
    "$$\n",
    "\\begin{aligned}\n",
    "    X_{world} &= Center + Pose X_{cam} \\Rightarrow X_{cam} = Pose^T (X_{world} - Center) \\\\\n",
    "    X_{world} &= Pose^{(1)} X_{cam}^{(1)} + Center^{(1)} \\\\\n",
    "    &= Pose^{(2)} X_{cam}^{(2)} + Center^{(2)} \\\\\n",
    "    X_{cam}^{(2)} &= Pose^{(2)T}(X_{world} - Center^{(2)}) \\\\\n",
    "    &= Pose^{(2)T}(Pose^{(1)} X_{cam}^{(1)} + Center^{(1)} - Center^{(2)}) \\\\\n",
    "    &= Pose^{(2)T}Pose^{(1)} X_{cam}^{(1)} + Pose^{(2)T}(Center^{(1)} - Center^{(2)}) \\\\\n",
    "    &= R X_{cam}^{(1)} + t \\\\\n",
    "\\end{aligned}\n",
    "$$\n",
    "\n",
    "We use $X$ and $X^\\prime$ to represent $X_{cam}^{(1)}$ and $X_{cam}^{(2)}$ for convenience. <br>\n",
    "$$\n",
    "\\begin{aligned}\n",
    "    X^\\prime &= R X + t \\\\\n",
    "    [t]_\\times X^\\prime &= [t]_\\times R X + [t]_\\times t = [t]_\\times R X \\\\\n",
    "    X^{\\prime T} [t]_\\times X^\\prime &= 0 = X^{\\prime T} [t]_\\times R X \\\\\n",
    "    \\Rightarrow X^{\\prime T} [t]_\\times R X &= X^{\\prime T} E X = 0\n",
    "\\end{aligned}\n",
    "$$"
   ]
  },
  {
   "cell_type": "code",
   "execution_count": 10,
   "metadata": {},
   "outputs": [
    {
     "name": "stdout",
     "output_type": "stream",
     "text": [
      "X' = RX + t : True\n",
      "T x X' = T x RX + T x T : True\n",
      "X'.(T x X') = X'.(T x RX) = 0 : True\n"
     ]
    }
   ],
   "source": [
    "# create two cameras\n",
    "cameraA = Camera(Ry(np.pi/2)@Rz(-np.pi/2)@Ry(np.pi/4), np.array([2, 3, 1]), \"Cam1\")\n",
    "cameraB = Camera(Ry(np.pi/2)@Rz(-np.pi/2)@Ry(-np.pi/9), np.array([1, -2, 2]), \"Cam2\")\n",
    "\n",
    "# define observation data \n",
    "pt1 = np.array([4, 1, 1])\n",
    "pts = PointCloud()\n",
    "pts.add_data([pt1, 'red'])\n",
    "cameraA.capture(pts)\n",
    "cameraB.capture(pts)\n",
    "\n",
    "X = cameraA.camera_pts[0]\n",
    "\n",
    "R = cameraB.pose.T @ cameraA.pose\n",
    "t = cameraB.pose.T @ (cameraA.center - cameraB.center)\n",
    "Xprime = cameraB.camera_pts[0]\n",
    "print('X\\' = RX + t :', np.allclose(R @ X + t, Xprime))\n",
    "print('T x X\\' = T x RX + T x T :', np.allclose(skew(t) @ Xprime, skew(t) @ R @ X))\n",
    "print('X\\'.(T x X\\') = X\\'.(T x RX) = 0 :', np.logical_and(\n",
    "    np.allclose(np.dot(Xprime, skew(t) @ Xprime), np.dot(Xprime, skew(t) @ R @ X)), \n",
    "    np.allclose(np.dot(Xprime, skew(t) @ R @ X), 0)))"
   ]
  },
  {
   "cell_type": "markdown",
   "metadata": {},
   "source": [
    "## Steps of reconstruction: \n",
    "$$ \n",
    "    \\{x_i \\leftrightarrow x_i^\\prime\\} \\Rightarrow F \\Rightarrow P, P^\\prime \\Rightarrow X_i\n",
    "$$\n",
    "1. Pixel correspondence in two images\n",
    "2. Estimating the fundemental matrix\n",
    "3. Estimating the camera matrices \n",
    "4. Finding the 3D location of matched pixel"
   ]
  },
  {
   "cell_type": "markdown",
   "metadata": {},
   "source": [
    "## Computation of $F$\n",
    "1. Solve $x^{\\prime T} F x = 0$ \n",
    "$$\n",
    "    Af = \\left[\\begin{array}{c}\n",
    "        x_1^{\\prime} x_1 & x_1^{\\prime} y_1 & x_1^{\\prime} & \n",
    "        y_1^{\\prime} x_1 & y_1^{\\prime} y_1 & y_1^{\\prime} & \n",
    "        x_1 & y_1 & 1 \\\\ \n",
    "        \\vdots & \\vdots & \\vdots & \\vdots & \\vdots & \\vdots & \\vdots & \\vdots & \\vdots \\\\\n",
    "        x_n^{\\prime} x_n & x_n^{\\prime} y_n & x_n^{\\prime} & \n",
    "        y_n^{\\prime} x_n & y_n^{\\prime} y_n & y_n^{\\prime} & \n",
    "        x_n & y_n & 1 \n",
    "    \\end{array}\\right] f = 0\n",
    "$$\n",
    "\n",
    "2. Singularity constraint: F has to be singular \n",
    "$$\n",
    "\\begin{aligned}\n",
    "    &minimize \\ \\ \\lVert Af^\\prime \\rVert \\ \\ s.t. \\ \\ \\lVert f^\\prime \\rVert =1 \\\\\n",
    "    &then \\\\\n",
    "    &minimize \\ \\ \\lVert F - F^\\prime \\rVert \\ \\ s.t. \\ \\ det(F) = 0 \\\\ \n",
    "    \\\\ \n",
    "    F^\\prime &= U \\left[{\\begin{array}{c} \n",
    "        \\sigma_1 &          &          \\\\\n",
    "                 & \\sigma_2 &          \\\\\n",
    "                 &          & \\sigma_3 \n",
    "    \\end{array}}\\right] V^T \\\\\n",
    "    \\Rightarrow F &= U \\left[{\\begin{array}{c} \n",
    "        \\sigma_1 &          &          \\\\\n",
    "                 & \\sigma_2 &          \\\\\n",
    "                 &          & 0 \n",
    "    \\end{array}}\\right] V^T \\\\\n",
    "\\end{aligned}\n",
    "$$ \n"
   ]
  },
  {
   "cell_type": "code",
   "execution_count": 11,
   "metadata": {},
   "outputs": [
    {
     "name": "stdout",
     "output_type": "stream",
     "text": [
      "Point correspondence x: (225, 2), x': (225, 2)\n",
      "Rank(F') = 3\n",
      "Rank(F) = 2\n",
      "Estimation error: mean(abs(x'Fx - 0)) = 0.02842\n",
      "Ground truth error: mean(abs(x'Fx - 0)) = 0.00000\n"
     ]
    }
   ],
   "source": [
    "# image point correspondence\n",
    "x = camera1.image_pts \n",
    "xprime = camera2.image_pts\n",
    "\n",
    "# add tiny noise to avoid perfect point correspondence\n",
    "x = x + np.random.randn(*x.shape) * 1e-8\n",
    "\n",
    "print(f\"Point correspondence x: {x.shape}, x\\': {xprime.shape}\")\n",
    "\n",
    "def build_A(x1, x2):\n",
    "    assert x1.shape == x2.shape\n",
    "    x1 = eucl2homo(x1)\n",
    "    x2 = eucl2homo(x2)\n",
    "    N = x1.shape[0]\n",
    "    A = np.zeros((N, 9))\n",
    "    for i in range(N):\n",
    "        A[i, :] = np.outer(x1[i], x2[i]).ravel()\n",
    "    return A\n",
    "\n",
    "def solve_Ax_equal_0(A):\n",
    "    return np.linalg.svd(A)[2][-1, :]\n",
    "\n",
    "def force_singular(Fprime):\n",
    "    U, S, Vt = np.linalg.svd(Fprime)\n",
    "    S[-1] = 0\n",
    "    return U @ np.diag(S) @ Vt\n",
    "\n",
    "# build matrix \"A\"\n",
    "A = build_A(x, xprime)\n",
    "\n",
    "# find fundemental matrix F\n",
    "Fprime = solve_Ax_equal_0(A).reshape(3, 3)\n",
    "F = force_singular(Fprime)\n",
    "\n",
    "# analysis\n",
    "print(f\"Rank(F\\') = {np.linalg.matrix_rank(Fprime)}\")\n",
    "print(f\"Rank(F) = {np.linalg.matrix_rank(F)}\")\n",
    "estimation_error = np.mean(np.abs(np.sum(eucl2homo(xprime) * (eucl2homo(x) @ F.T ), axis=1)))\n",
    "print(f\"Estimation error: mean(abs(x\\'Fx - 0)) = {estimation_error:.5f}\")\n",
    "\n",
    "# ground truth F\n",
    "F_groundtruth = find_F(camera1.center, camera1.P, camera2.P)\n",
    "estimation_error = np.mean(np.abs(np.sum(eucl2homo(xprime) * (eucl2homo(x) @ F_groundtruth.T ), axis=1)))\n",
    "print(f\"Ground truth error: mean(abs(x\\'Fx - 0)) = {estimation_error:.5f}\")\n"
   ]
  },
  {
   "cell_type": "markdown",
   "metadata": {},
   "source": [
    "## Find $P$ and $P^\\prime$ from $F$"
   ]
  },
  {
   "cell_type": "markdown",
   "metadata": {},
   "source": [
    "## Triangulation"
   ]
  },
  {
   "cell_type": "markdown",
   "metadata": {},
   "source": [
    "### Reference\n",
    "- R. Hartley, A. Zisserman Multiple View Geometry in Computer Vision 2nd Ed., Cambridge Univ. Press, 2004"
   ]
  }
 ],
 "metadata": {
  "kernelspec": {
   "display_name": "Python 3",
   "language": "python",
   "name": "python3"
  },
  "language_info": {
   "codemirror_mode": {
    "name": "ipython",
    "version": 3
   },
   "file_extension": ".py",
   "mimetype": "text/x-python",
   "name": "python",
   "nbconvert_exporter": "python",
   "pygments_lexer": "ipython3",
   "version": "3.9.16"
  }
 },
 "nbformat": 4,
 "nbformat_minor": 2
}
