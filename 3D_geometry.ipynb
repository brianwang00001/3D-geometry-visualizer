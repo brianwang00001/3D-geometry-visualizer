{
 "cells": [
  {
   "cell_type": "code",
   "execution_count": 1,
   "metadata": {},
   "outputs": [],
   "source": [
    "import numpy as np \n",
    "import matplotlib.pyplot as plt \n",
    "import plotly.graph_objects as go"
   ]
  },
  {
   "cell_type": "code",
   "execution_count": 2,
   "metadata": {},
   "outputs": [],
   "source": [
    "# rotation matrix\n",
    "Rx = lambda theta: np.array([[1, 0, 0],\n",
    "                             [0, np.cos(theta), -np.sin(theta)],\n",
    "                             [0, np.sin(theta), np.cos(theta)]])\n",
    "Ry = lambda theta: np.array([[np.cos(theta), 0, np.sin(theta)],\n",
    "                             [0, 1, 0],\n",
    "                             [-np.sin(theta), 0, np.cos(theta)]])\n",
    "Rz = lambda theta: np.array([[np.cos(theta), -np.sin(theta), 0], \n",
    "                             [np.sin(theta), np.cos(theta), 0], \n",
    "                             [0, 0, 1]])"
   ]
  },
  {
   "cell_type": "code",
   "execution_count": 3,
   "metadata": {},
   "outputs": [],
   "source": [
    "# return data of an arrow object\n",
    "def arrow(start, end, color='black', name=None):\n",
    "    start = start.flatten()\n",
    "    end = end.flatten()\n",
    "    head_scale = 0.3 # adjusts the cone size scaling \n",
    "\n",
    "    body = go.Scatter3d(x = [start[0], end[0]],\n",
    "                        y = [start[1], end[1]],\n",
    "                        z = [start[2], end[2]], \n",
    "                        mode = \"lines\",\n",
    "                        line = dict(color=color), \n",
    "                        showlegend = False)\n",
    "    \n",
    "    head = go.Cone(x = [end[0]], y = [end[1]], z = [end[2]],\n",
    "                   u = [end[0]-start[0]], v = [end[1]-start[1]], w = [end[2]-start[2]],\n",
    "                   sizemode = \"scaled\",\n",
    "                   sizeref = head_scale,\n",
    "                   colorscale = [[0, color], [1, color]],\n",
    "                   showscale=False,\n",
    "                   showlegend=False)\n",
    "    \n",
    "    dist = 0.4\n",
    "    text = go.Scatter3d(x = [-dist * start[0] + (1 + dist) * end[0]],\n",
    "                        y = [-dist * start[1] + (1 + dist) * end[1]],\n",
    "                        z = [-dist * start[2] + (1 + dist) * end[2]],\n",
    "                        mode = \"text\",\n",
    "                        text = [name],\n",
    "                        textposition = 'middle center',\n",
    "                        showlegend = False,\n",
    "                        textfont = dict(color=color))\n",
    "    result = [body, head, text]\n",
    "    return result \n",
    "\n",
    "# return data of a frame object\n",
    "def frame(pose=np.eye(3), center=np.zeros(3), color='black'):\n",
    "    # original center and pose \n",
    "    x_axis = np.array([1, 0, 0])\n",
    "    y_axis = np.array([0, 1, 0])\n",
    "    z_axis = np.array([0, 0, 1])\n",
    "    o = np.zeros(3)\n",
    "\n",
    "    # transformed center and pose  \n",
    "    x_axis = pose @ x_axis\n",
    "    y_axis = pose @ y_axis\n",
    "    z_axis = pose @ z_axis\n",
    "    o = center\n",
    "\n",
    "    fig_data = []\n",
    "    fig_data.extend(arrow(o, o + x_axis, color=color, name='x'))\n",
    "    fig_data.extend(arrow(o, o + y_axis, color=color, name='y'))\n",
    "    fig_data.extend(arrow(o, o + z_axis, color=color, name='z'))\n",
    "    return fig_data\n",
    "\n",
    "def line(start, end, color='black'):\n",
    "    fig_data = go.Scatter3d(x = [start[0], end[0]], \n",
    "                            y = [start[1], end[1]], \n",
    "                            z = [start[2], end[2]], \n",
    "                            mode = \"lines\", line = dict(color=color), opacity=0.3, showlegend = False)\n",
    "    return [fig_data]\n",
    "\n",
    "# include image plane and the 4 lines from focal point to the 4 corners of the image plane\n",
    "def image_plane(pose, center, focal_len, img_width, img_height, color='black'):\n",
    "    x_axis = np.array([1, 0, 0])\n",
    "    y_axis = np.array([0, 1, 0])\n",
    "    z_axis = np.array([0, 0, 1])\n",
    "    x_axis = pose @ x_axis \n",
    "    y_axis = pose @ y_axis\n",
    "    z_axis = pose @ z_axis\n",
    "    o = center # center of the camera coordinate frame\n",
    "    img_center = o + z_axis * focal_len # center of the image plane \n",
    "\n",
    "    # 4 corners of the image plane \n",
    "    corner1 = img_center - (img_width / 2) * x_axis - (img_height / 2) * y_axis\n",
    "    corner2 = img_center + (img_width / 2) * x_axis - (img_height / 2) * y_axis\n",
    "    corner3 = img_center + (img_width / 2) * x_axis + (img_height / 2) * y_axis\n",
    "    corner4 = img_center - (img_width / 2) * x_axis + (img_height / 2) * y_axis\n",
    "    corners = np.vstack([corner1, corner2, corner3, corner4])\n",
    "    \n",
    "    data = [go.Mesh3d(x=corners[:, 0], y=corners[:, 1], z=corners[:, 2], \n",
    "                      i=[0, 0],  # vertices of first triangle\n",
    "                      j=[1, 2],  # vertices of second triangle\n",
    "                      k=[2, 3],  # vertices of third triangle\n",
    "                      opacity=.3, color=color)]\n",
    "    data.extend(line(o, corner1, color=color))\n",
    "    data.extend(line(o, corner2, color=color))\n",
    "    data.extend(line(o, corner3, color=color))\n",
    "    data.extend(line(o, corner4, color=color))\n",
    "\n",
    "    return data\n",
    "\n",
    "drange = 4 # set the plot size\n",
    "graph_center = np.array([2, 0, 1])\n",
    "def plot_all(figs, world=False, pltrange=[[-drange+graph_center[0], drange+graph_center[0]], \n",
    "                                           [-drange+graph_center[1], drange+graph_center[1]],\n",
    "                                           [-drange+graph_center[2], drange+graph_center[2]]]):\n",
    "    if world == True:\n",
    "        fig_data = frame(color='gray')\n",
    "        for fig in figs:\n",
    "            fig_data.extend(fig.get_fig_data())\n",
    "        FIG = go.Figure(data=fig_data)\n",
    "        FIG.update_layout(\n",
    "            scene = dict(\n",
    "                xaxis = dict(nticks = 4, range = pltrange[0]),\n",
    "                yaxis = dict(nticks = 4, range = pltrange[1]),\n",
    "                zaxis = dict(nticks = 4, range = pltrange[2]),\n",
    "                # set aspectratio to 1:1:1\n",
    "                aspectratio = dict(x = 1, y = 1, z = 1)\n",
    "            ), \n",
    "            width=500,\n",
    "            height=500,\n",
    "            margin=dict(l=10, r=10, t=10, b=10),\n",
    "        )\n",
    "    else:\n",
    "        fig_data = []\n",
    "        for fig in figs:\n",
    "            fig_data.extend(fig.get_fig_data())\n",
    "        FIG = go.Figure(data=fig_data)\n",
    "\n",
    "    FIG.show()"
   ]
  },
  {
   "cell_type": "code",
   "execution_count": 4,
   "metadata": {},
   "outputs": [],
   "source": [
    "class PointCloud():\n",
    "    \n",
    "    # data = [pts, \"color\"]\n",
    "    def __init__(self):\n",
    "        self.pts_data = []\n",
    "        \n",
    "    def add_data(self, data):\n",
    "        # default color is black\n",
    "        if data:\n",
    "            if len(data) <= 1:\n",
    "                data.append('black')\n",
    "        self.pts_data.append(data) \n",
    "        \n",
    "    def get_fig_data(self):\n",
    "        fig_data = []\n",
    "        if self.pts_data:\n",
    "            for pts, color in self.pts_data:\n",
    "                fig_data.append(go.Scatter3d(\n",
    "                    x = pts[:, 0],\n",
    "                    y = pts[:, 1],\n",
    "                    z = pts[:, 2],\n",
    "                    mode = 'markers',\n",
    "                    marker = dict(size = 2, color = color, opacity=1),\n",
    "                    showlegend = False))\n",
    "        \n",
    "        return fig_data\n",
    "    \n",
    "class Camera():\n",
    "\n",
    "    def __init__(self, pose, center, name=None):\n",
    "        self.pose = pose\n",
    "        self.center = center\n",
    "        self.focal_len = 1\n",
    "        self.img_width = 4\n",
    "        self.img_height = 2\n",
    "        self.name = name\n",
    "\n",
    "        # coordinate frame \n",
    "        self.fig_data = frame(self.pose, self.center)\n",
    "        # image plane \n",
    "        self.fig_data.extend(image_plane(self.pose, self.center, self.focal_len, self.img_width, self.img_height))\n",
    "        # add name \n",
    "        if self.name is not None:\n",
    "            self.add_name()\n",
    "\n",
    "        # data points in represented by different coordinate frames\n",
    "        self.pts_data = None # pts_data = [[pts1, color1], [pts2, color2], ...]\n",
    "        self.world_pts = None \n",
    "        self.camera_pts = None \n",
    "        self.image_pts = None \n",
    "\n",
    "        # store the color of the points\n",
    "        self.pts_color = None\n",
    "\n",
    "        # camera projection matrix\n",
    "        self.P = np.array([[self.focal_len, 0, 0, 0], \n",
    "                           [0, self.focal_len, 0, 0],\n",
    "                           [0, 0, 1, 0]])\n",
    "        # camera calibration matrix\n",
    "        self.K = np.array([[self.focal_len, 0, self.img_width/2],\n",
    "                           [0, self.focal_len, self.img_height/2],\n",
    "                           [0, 0, 1]])\n",
    "\n",
    "    def get_fig_data(self):\n",
    "        return self.fig_data\n",
    "\n",
    "    def plot_camera(self):\n",
    "        # plot coordinate frame \n",
    "        fig = go.Figure(data=self.fig_data)\n",
    "        fig.show()\n",
    "\n",
    "    def capture(self, pts):\n",
    "        self.pts_data = pts.pts_data\n",
    "\n",
    "        self.world_pts = np.vstack([d[0] for d in self.pts_data])\n",
    "        self.pts_color = np.array([d[1] for d in self.pts_data for _ in range(d[0].shape[0])])\n",
    "\n",
    "        # transform the data to the camera coordinate frame\n",
    "        # remember the formula: X_camera = pose.T @ (X_world - center)\n",
    "        camera_pts = (self.world_pts - self.center) @ self.pose\n",
    "        self.camera_pts = camera_pts[camera_pts[:, -1] > self.focal_len] # remove points behind the camera\n",
    "        \n",
    "        # transform the data to the image coordinate frame\n",
    "        #data_homo = np.hstack((self.camera_data, np.ones((data.shape[0], 1))))\n",
    "        #self.image_data = data_homo @ self.P.T\n",
    "        \n",
    "        image_pts = self.camera_pts @ self.K.T \n",
    "        self.image_pts = image_pts / image_pts[:, -1][:, None]\n",
    "        \n",
    "    def show_image(self):\n",
    "        # remove the point that is outside of the image plane \n",
    "        idx = (self.image_pts[:, 1] > 0) * (self.image_pts[:, 1] < self.img_height) * (self.image_pts[:, 0] < self.img_width) * (self.image_pts[:, 0] > 0)\n",
    "        image_pts = self.image_pts[idx]\n",
    "        camera_pts = self.camera_pts[idx]\n",
    "        \n",
    "        dist = np.linalg.norm(camera_pts - np.array([0, 0, self.focal_len]), axis = 1)\n",
    "        scaling = 5 / (dist - self.focal_len + 0.6)\n",
    "    \n",
    "        plt.figure()\n",
    "        plt.scatter(image_pts[:, 0], image_pts[:, 1], c=self.pts_color[idx], s=scaling)\n",
    "        plt.xlim([0, self.img_width])\n",
    "        plt.ylim([0, self.img_height])\n",
    "        plt.gca().set_aspect('equal')\n",
    "        plt.show()\n",
    "\n",
    "    # add name for this camera\n",
    "    def add_name(self):\n",
    "        fig_data = go.Scatter3d(x = [self.center[0]], \n",
    "                                y = [self.center[1]], \n",
    "                                z = [self.center[2]],\n",
    "                                text = [self.name],\n",
    "                                mode = 'text', \n",
    "                                marker = dict(size = 2, color = 'black', opacity=1), \n",
    "                                showlegend = False)\n",
    "        self.fig_data.append(fig_data)"
   ]
  },
  {
   "cell_type": "code",
   "execution_count": 5,
   "metadata": {},
   "outputs": [
    {
     "data": {
      "application/vnd.plotly.v1+json": {
       "config": {
        "plotlyServerURL": "https://plot.ly"
       },
       "data": [
        {
         "line": {
          "color": "gray"
         },
         "mode": "lines",
         "showlegend": false,
         "type": "scatter3d",
         "x": [
          0,
          1
         ],
         "y": [
          0,
          0
         ],
         "z": [
          0,
          0
         ]
        },
        {
         "colorscale": [
          [
           0,
           "gray"
          ],
          [
           1,
           "gray"
          ]
         ],
         "showlegend": false,
         "showscale": false,
         "sizemode": "scaled",
         "sizeref": 0.3,
         "type": "cone",
         "u": [
          1
         ],
         "v": [
          0
         ],
         "w": [
          0
         ],
         "x": [
          1
         ],
         "y": [
          0
         ],
         "z": [
          0
         ]
        },
        {
         "mode": "text",
         "showlegend": false,
         "text": [
          "x"
         ],
         "textfont": {
          "color": "gray"
         },
         "textposition": "middle center",
         "type": "scatter3d",
         "x": [
          1.4
         ],
         "y": [
          0
         ],
         "z": [
          0
         ]
        },
        {
         "line": {
          "color": "gray"
         },
         "mode": "lines",
         "showlegend": false,
         "type": "scatter3d",
         "x": [
          0,
          0
         ],
         "y": [
          0,
          1
         ],
         "z": [
          0,
          0
         ]
        },
        {
         "colorscale": [
          [
           0,
           "gray"
          ],
          [
           1,
           "gray"
          ]
         ],
         "showlegend": false,
         "showscale": false,
         "sizemode": "scaled",
         "sizeref": 0.3,
         "type": "cone",
         "u": [
          0
         ],
         "v": [
          1
         ],
         "w": [
          0
         ],
         "x": [
          0
         ],
         "y": [
          1
         ],
         "z": [
          0
         ]
        },
        {
         "mode": "text",
         "showlegend": false,
         "text": [
          "y"
         ],
         "textfont": {
          "color": "gray"
         },
         "textposition": "middle center",
         "type": "scatter3d",
         "x": [
          0
         ],
         "y": [
          1.4
         ],
         "z": [
          0
         ]
        },
        {
         "line": {
          "color": "gray"
         },
         "mode": "lines",
         "showlegend": false,
         "type": "scatter3d",
         "x": [
          0,
          0
         ],
         "y": [
          0,
          0
         ],
         "z": [
          0,
          1
         ]
        },
        {
         "colorscale": [
          [
           0,
           "gray"
          ],
          [
           1,
           "gray"
          ]
         ],
         "showlegend": false,
         "showscale": false,
         "sizemode": "scaled",
         "sizeref": 0.3,
         "type": "cone",
         "u": [
          0
         ],
         "v": [
          0
         ],
         "w": [
          1
         ],
         "x": [
          0
         ],
         "y": [
          0
         ],
         "z": [
          1
         ]
        },
        {
         "mode": "text",
         "showlegend": false,
         "text": [
          "z"
         ],
         "textfont": {
          "color": "gray"
         },
         "textposition": "middle center",
         "type": "scatter3d",
         "x": [
          0
         ],
         "y": [
          0
         ],
         "z": [
          1.4
         ]
        },
        {
         "line": {
          "color": "black"
         },
         "mode": "lines",
         "showlegend": false,
         "type": "scatter3d",
         "x": [
          2,
          1.2928932188134525
         ],
         "y": [
          3,
          2.2928932188134525
         ],
         "z": [
          1,
          0.9999999999999999
         ]
        },
        {
         "colorscale": [
          [
           0,
           "black"
          ],
          [
           1,
           "black"
          ]
         ],
         "showlegend": false,
         "showscale": false,
         "sizemode": "scaled",
         "sizeref": 0.3,
         "type": "cone",
         "u": [
          -0.7071067811865475
         ],
         "v": [
          -0.7071067811865475
         ],
         "w": [
          -1.1102230246251565e-16
         ],
         "x": [
          1.2928932188134525
         ],
         "y": [
          2.2928932188134525
         ],
         "z": [
          0.9999999999999999
         ]
        },
        {
         "mode": "text",
         "showlegend": false,
         "text": [
          "x"
         ],
         "textfont": {
          "color": "black"
         },
         "textposition": "middle center",
         "type": "scatter3d",
         "x": [
          1.0100505063388334
         ],
         "y": [
          2.010050506338833
         ],
         "z": [
          0.9999999999999997
         ]
        },
        {
         "line": {
          "color": "black"
         },
         "mode": "lines",
         "showlegend": false,
         "type": "scatter3d",
         "x": [
          2,
          2
         ],
         "y": [
          3,
          3
         ],
         "z": [
          1,
          0
         ]
        },
        {
         "colorscale": [
          [
           0,
           "black"
          ],
          [
           1,
           "black"
          ]
         ],
         "showlegend": false,
         "showscale": false,
         "sizemode": "scaled",
         "sizeref": 0.3,
         "type": "cone",
         "u": [
          0
         ],
         "v": [
          0
         ],
         "w": [
          -1
         ],
         "x": [
          2
         ],
         "y": [
          3
         ],
         "z": [
          0
         ]
        },
        {
         "mode": "text",
         "showlegend": false,
         "text": [
          "y"
         ],
         "textfont": {
          "color": "black"
         },
         "textposition": "middle center",
         "type": "scatter3d",
         "x": [
          1.9999999999999998
         ],
         "y": [
          2.999999999999999
         ],
         "z": [
          -0.4
         ]
        },
        {
         "line": {
          "color": "black"
         },
         "mode": "lines",
         "showlegend": false,
         "type": "scatter3d",
         "x": [
          2,
          2.7071067811865475
         ],
         "y": [
          3,
          2.2928932188134525
         ],
         "z": [
          1,
          1
         ]
        },
        {
         "colorscale": [
          [
           0,
           "black"
          ],
          [
           1,
           "black"
          ]
         ],
         "showlegend": false,
         "showscale": false,
         "sizemode": "scaled",
         "sizeref": 0.3,
         "type": "cone",
         "u": [
          0.7071067811865475
         ],
         "v": [
          -0.7071067811865475
         ],
         "w": [
          0
         ],
         "x": [
          2.7071067811865475
         ],
         "y": [
          2.2928932188134525
         ],
         "z": [
          1
         ]
        },
        {
         "mode": "text",
         "showlegend": false,
         "text": [
          "z"
         ],
         "textfont": {
          "color": "black"
         },
         "textposition": "middle center",
         "type": "scatter3d",
         "x": [
          2.9899494936611664
         ],
         "y": [
          2.010050506338833
         ],
         "z": [
          0.9999999999999999
         ]
        },
        {
         "color": "black",
         "i": [
          0,
          0
         ],
         "j": [
          1,
          2
         ],
         "k": [
          2,
          3
         ],
         "opacity": 0.3,
         "type": "mesh3d",
         "x": [
          4.121320343559642,
          1.2928932188134525,
          1.2928932188134525,
          4.121320343559642
         ],
         "y": [
          3.707106781186548,
          0.8786796564403573,
          0.8786796564403575,
          3.707106781186548
         ],
         "z": [
          2,
          1.9999999999999998,
          -2.220446049250313e-16,
          2.220446049250313e-16
         ]
        },
        {
         "line": {
          "color": "black"
         },
         "mode": "lines",
         "opacity": 0.3,
         "showlegend": false,
         "type": "scatter3d",
         "x": [
          2,
          4.121320343559642
         ],
         "y": [
          3,
          3.707106781186548
         ],
         "z": [
          1,
          2
         ]
        },
        {
         "line": {
          "color": "black"
         },
         "mode": "lines",
         "opacity": 0.3,
         "showlegend": false,
         "type": "scatter3d",
         "x": [
          2,
          1.2928932188134525
         ],
         "y": [
          3,
          0.8786796564403573
         ],
         "z": [
          1,
          1.9999999999999998
         ]
        },
        {
         "line": {
          "color": "black"
         },
         "mode": "lines",
         "opacity": 0.3,
         "showlegend": false,
         "type": "scatter3d",
         "x": [
          2,
          1.2928932188134525
         ],
         "y": [
          3,
          0.8786796564403575
         ],
         "z": [
          1,
          -2.220446049250313e-16
         ]
        },
        {
         "line": {
          "color": "black"
         },
         "mode": "lines",
         "opacity": 0.3,
         "showlegend": false,
         "type": "scatter3d",
         "x": [
          2,
          4.121320343559642
         ],
         "y": [
          3,
          3.707106781186548
         ],
         "z": [
          1,
          2.220446049250313e-16
         ]
        },
        {
         "marker": {
          "color": "black",
          "opacity": 1,
          "size": 2
         },
         "mode": "text",
         "showlegend": false,
         "text": [
          "Cam1"
         ],
         "type": "scatter3d",
         "x": [
          2
         ],
         "y": [
          3
         ],
         "z": [
          1
         ]
        },
        {
         "line": {
          "color": "black"
         },
         "mode": "lines",
         "showlegend": false,
         "type": "scatter3d",
         "x": [
          1,
          1.3420201433256687
         ],
         "y": [
          -2,
          -2.9396926207859084
         ],
         "z": [
          1,
          1
         ]
        },
        {
         "colorscale": [
          [
           0,
           "black"
          ],
          [
           1,
           "black"
          ]
         ],
         "showlegend": false,
         "showscale": false,
         "sizemode": "scaled",
         "sizeref": 0.3,
         "type": "cone",
         "u": [
          0.34202014332566866
         ],
         "v": [
          -0.9396926207859084
         ],
         "w": [
          0
         ],
         "x": [
          1.3420201433256687
         ],
         "y": [
          -2.9396926207859084
         ],
         "z": [
          1
         ]
        },
        {
         "mode": "text",
         "showlegend": false,
         "text": [
          "x"
         ],
         "textfont": {
          "color": "black"
         },
         "textposition": "middle center",
         "type": "scatter3d",
         "x": [
          1.478828200655936
         ],
         "y": [
          -3.315569669100272
         ],
         "z": [
          0.9999999999999999
         ]
        },
        {
         "line": {
          "color": "black"
         },
         "mode": "lines",
         "showlegend": false,
         "type": "scatter3d",
         "x": [
          1,
          1
         ],
         "y": [
          -2,
          -2
         ],
         "z": [
          1,
          0
         ]
        },
        {
         "colorscale": [
          [
           0,
           "black"
          ],
          [
           1,
           "black"
          ]
         ],
         "showlegend": false,
         "showscale": false,
         "sizemode": "scaled",
         "sizeref": 0.3,
         "type": "cone",
         "u": [
          0
         ],
         "v": [
          0
         ],
         "w": [
          -1
         ],
         "x": [
          1
         ],
         "y": [
          -2
         ],
         "z": [
          0
         ]
        },
        {
         "mode": "text",
         "showlegend": false,
         "text": [
          "y"
         ],
         "textfont": {
          "color": "black"
         },
         "textposition": "middle center",
         "type": "scatter3d",
         "x": [
          0.9999999999999999
         ],
         "y": [
          -1.9999999999999998
         ],
         "z": [
          -0.4
         ]
        },
        {
         "line": {
          "color": "black"
         },
         "mode": "lines",
         "showlegend": false,
         "type": "scatter3d",
         "x": [
          1,
          1.9396926207859084
         ],
         "y": [
          -2,
          -1.6579798566743313
         ],
         "z": [
          1,
          1
         ]
        },
        {
         "colorscale": [
          [
           0,
           "black"
          ],
          [
           1,
           "black"
          ]
         ],
         "showlegend": false,
         "showscale": false,
         "sizemode": "scaled",
         "sizeref": 0.3,
         "type": "cone",
         "u": [
          0.9396926207859084
         ],
         "v": [
          0.34202014332566866
         ],
         "w": [
          0
         ],
         "x": [
          1.9396926207859084
         ],
         "y": [
          -1.6579798566743313
         ],
         "z": [
          1
         ]
        },
        {
         "mode": "text",
         "showlegend": false,
         "text": [
          "z"
         ],
         "textfont": {
          "color": "black"
         },
         "textposition": "middle center",
         "type": "scatter3d",
         "x": [
          2.3155696691002716
         ],
         "y": [
          -1.5211717993440639
         ],
         "z": [
          0.9999999999999999
         ]
        },
        {
         "color": "black",
         "i": [
          0,
          0
         ],
         "j": [
          1,
          2
         ],
         "k": [
          2,
          3
         ],
         "opacity": 0.3,
         "type": "mesh3d",
         "x": [
          1.2556523341345711,
          2.6237329074372457,
          2.6237329074372457,
          1.2556523341345711
         ],
         "y": [
          0.22140538489748546,
          -3.5373650982461484,
          -3.5373650982461484,
          0.22140538489748557
         ],
         "z": [
          2,
          2,
          -1.1102230246251565e-16,
          0
         ]
        },
        {
         "line": {
          "color": "black"
         },
         "mode": "lines",
         "opacity": 0.3,
         "showlegend": false,
         "type": "scatter3d",
         "x": [
          1,
          1.2556523341345711
         ],
         "y": [
          -2,
          0.22140538489748546
         ],
         "z": [
          1,
          2
         ]
        },
        {
         "line": {
          "color": "black"
         },
         "mode": "lines",
         "opacity": 0.3,
         "showlegend": false,
         "type": "scatter3d",
         "x": [
          1,
          2.6237329074372457
         ],
         "y": [
          -2,
          -3.5373650982461484
         ],
         "z": [
          1,
          2
         ]
        },
        {
         "line": {
          "color": "black"
         },
         "mode": "lines",
         "opacity": 0.3,
         "showlegend": false,
         "type": "scatter3d",
         "x": [
          1,
          2.6237329074372457
         ],
         "y": [
          -2,
          -3.5373650982461484
         ],
         "z": [
          1,
          -1.1102230246251565e-16
         ]
        },
        {
         "line": {
          "color": "black"
         },
         "mode": "lines",
         "opacity": 0.3,
         "showlegend": false,
         "type": "scatter3d",
         "x": [
          1,
          1.2556523341345711
         ],
         "y": [
          -2,
          0.22140538489748557
         ],
         "z": [
          1,
          0
         ]
        },
        {
         "marker": {
          "color": "black",
          "opacity": 1,
          "size": 2
         },
         "mode": "text",
         "showlegend": false,
         "text": [
          "Cam2"
         ],
         "type": "scatter3d",
         "x": [
          1
         ],
         "y": [
          -2
         ],
         "z": [
          1
         ]
        },
        {
         "marker": {
          "color": "red",
          "opacity": 1,
          "size": 2
         },
         "mode": "markers",
         "showlegend": false,
         "type": "scatter3d",
         "x": [
          4.5,
          4.842020143325668,
          5.14278760968654,
          5.366025403784438,
          5.484807753012208,
          5.484807753012208,
          5.366025403784438,
          5.14278760968654,
          4.842020143325669,
          4.5,
          4.5,
          4.762002630229385,
          4.992403876506104,
          5.163413948168938,
          5.254406506735489,
          5.254406506735489,
          5.163413948168938,
          4.9924038765061045,
          4.762002630229385,
          4.5,
          4.5,
          4.559391174613885,
          4.61161889704895,
          4.650383733180435,
          4.671010071662835,
          4.671010071662835,
          4.650383733180435,
          4.61161889704895,
          4.559391174613885,
          4.5,
          4.5,
          4.328989928337165,
          4.17860619515673,
          4.066987298107781,
          4.007596123493896,
          4.007596123493896,
          4.066987298107781,
          4.17860619515673,
          4.328989928337165,
          4.5,
          4.5,
          4.17860619515673,
          3.8959772264449466,
          3.6862023186506265,
          3.5745834216016767,
          3.5745834216016767,
          3.6862023186506265,
          3.895977226444946,
          4.17860619515673,
          4.5,
          4.5,
          4.17860619515673,
          3.8959772264449466,
          3.6862023186506265,
          3.5745834216016767,
          3.5745834216016767,
          3.686202318650626,
          3.895977226444946,
          4.17860619515673,
          4.5,
          4.5,
          4.328989928337165,
          4.17860619515673,
          4.06698729810778,
          4.0075961234938955,
          4.0075961234938955,
          4.06698729810778,
          4.17860619515673,
          4.328989928337165,
          4.5,
          4.5,
          4.559391174613885,
          4.61161889704895,
          4.650383733180435,
          4.671010071662834,
          4.671010071662834,
          4.650383733180435,
          4.61161889704895,
          4.559391174613885,
          4.5,
          4.5,
          4.762002630229385,
          4.992403876506104,
          5.163413948168938,
          5.254406506735489,
          5.254406506735489,
          5.163413948168938,
          4.992403876506104,
          4.762002630229385,
          4.5,
          4.5,
          4.842020143325668,
          5.14278760968654,
          5.366025403784438,
          5.484807753012208,
          5.484807753012208,
          5.366025403784438,
          5.14278760968654,
          4.842020143325669,
          4.5
         ],
         "y": [
          1,
          1,
          1,
          1,
          1,
          1,
          1,
          1,
          1,
          1,
          1,
          1.2198463103929542,
          1.4131759111665347,
          1.5566703992264193,
          1.633022221559489,
          1.633022221559489,
          1.5566703992264195,
          1.413175911166535,
          1.2198463103929542,
          1,
          1,
          1.336824088833465,
          1.633022221559489,
          1.8528685319524432,
          1.969846310392954,
          1.969846310392954,
          1.8528685319524434,
          1.6330222215594892,
          1.3368240888334653,
          1.0000000000000002,
          1,
          1.296198132726024,
          1.5566703992264195,
          1.75,
          1.8528685319524434,
          1.8528685319524434,
          1.75,
          1.5566703992264195,
          1.296198132726024,
          1,
          1,
          1.116977778440511,
          1.2198463103929542,
          1.296198132726024,
          1.3368240888334653,
          1.3368240888334653,
          1.296198132726024,
          1.2198463103929544,
          1.116977778440511,
          1,
          1,
          0.8830222215594891,
          0.7801536896070459,
          0.7038018672739763,
          0.663175911166535,
          0.663175911166535,
          0.7038018672739762,
          0.7801536896070458,
          0.883022221559489,
          1,
          1,
          0.7038018672739763,
          0.44332960077358086,
          0.25000000000000033,
          0.14713146804755706,
          0.14713146804755706,
          0.2500000000000002,
          0.44332960077358063,
          0.7038018672739761,
          0.9999999999999999,
          1,
          0.6631759111665348,
          0.36697777844051105,
          0.14713146804755672,
          0.030153689607045786,
          0.030153689607045786,
          0.1471314680475566,
          0.3669777784405108,
          0.6631759111665347,
          0.9999999999999999,
          1,
          0.7801536896070458,
          0.586824088833465,
          0.4433296007735804,
          0.3669777784405107,
          0.3669777784405107,
          0.4433296007735804,
          0.5868240888334649,
          0.7801536896070456,
          0.9999999999999999,
          1,
          0.9999999999999999,
          0.9999999999999999,
          0.9999999999999998,
          0.9999999999999998,
          0.9999999999999998,
          0.9999999999999998,
          0.9999999999999999,
          0.9999999999999999,
          1
         ],
         "z": [
          2,
          1.9396926207859084,
          1.766044443118978,
          1.5,
          1.1736481776669305,
          0.8263518223330697,
          0.5000000000000002,
          0.2339555568810221,
          0.06030737921409168,
          0,
          2,
          1.9396926207859084,
          1.766044443118978,
          1.5,
          1.1736481776669305,
          0.8263518223330697,
          0.5000000000000002,
          0.2339555568810221,
          0.06030737921409168,
          0,
          2,
          1.9396926207859084,
          1.766044443118978,
          1.5,
          1.1736481776669305,
          0.8263518223330697,
          0.5000000000000002,
          0.2339555568810221,
          0.06030737921409168,
          0,
          2,
          1.9396926207859084,
          1.766044443118978,
          1.5,
          1.1736481776669305,
          0.8263518223330697,
          0.5000000000000002,
          0.2339555568810221,
          0.06030737921409168,
          0,
          2,
          1.9396926207859084,
          1.766044443118978,
          1.5,
          1.1736481776669305,
          0.8263518223330697,
          0.5000000000000002,
          0.2339555568810221,
          0.06030737921409168,
          0,
          2,
          1.9396926207859084,
          1.766044443118978,
          1.5,
          1.1736481776669305,
          0.8263518223330697,
          0.5000000000000002,
          0.2339555568810221,
          0.06030737921409168,
          0,
          2,
          1.9396926207859084,
          1.766044443118978,
          1.5,
          1.1736481776669305,
          0.8263518223330697,
          0.5000000000000002,
          0.2339555568810221,
          0.06030737921409168,
          0,
          2,
          1.9396926207859084,
          1.766044443118978,
          1.5,
          1.1736481776669305,
          0.8263518223330697,
          0.5000000000000002,
          0.2339555568810221,
          0.06030737921409168,
          0,
          2,
          1.9396926207859084,
          1.766044443118978,
          1.5,
          1.1736481776669305,
          0.8263518223330697,
          0.5000000000000002,
          0.2339555568810221,
          0.06030737921409168,
          0,
          2,
          1.9396926207859084,
          1.766044443118978,
          1.5,
          1.1736481776669305,
          0.8263518223330697,
          0.5000000000000002,
          0.2339555568810221,
          0.06030737921409168,
          0
         ]
        },
        {
         "marker": {
          "color": "blue",
          "opacity": 1,
          "size": 2
         },
         "mode": "markers",
         "showlegend": false,
         "type": "scatter3d",
         "x": [
          2.25,
          2.421010071662834,
          2.57139380484327,
          2.683012701892219,
          2.742403876506104,
          2.742403876506104,
          2.683012701892219,
          2.57139380484327,
          2.4210100716628347,
          2.25,
          2.25,
          2.3810013151146925,
          2.496201938253052,
          2.581706974084469,
          2.6272032533677443,
          2.6272032533677443,
          2.581706974084469,
          2.4962019382530523,
          2.3810013151146925,
          2.25,
          2.25,
          2.2796955873069424,
          2.305809448524475,
          2.3251918665902176,
          2.3355050358314173,
          2.3355050358314173,
          2.3251918665902176,
          2.305809448524475,
          2.2796955873069424,
          2.25,
          2.25,
          2.1644949641685827,
          2.089303097578365,
          2.0334936490538906,
          2.003798061746948,
          2.003798061746948,
          2.0334936490538906,
          2.089303097578365,
          2.1644949641685827,
          2.25,
          2.25,
          2.089303097578365,
          1.9479886132224733,
          1.8431011593253133,
          1.7872917108008384,
          1.7872917108008384,
          1.8431011593253133,
          1.947988613222473,
          2.089303097578365,
          2.25,
          2.25,
          2.089303097578365,
          1.9479886132224733,
          1.8431011593253133,
          1.7872917108008384,
          1.7872917108008384,
          1.843101159325313,
          1.947988613222473,
          2.089303097578365,
          2.25,
          2.25,
          2.1644949641685827,
          2.089303097578365,
          2.03349364905389,
          2.0037980617469477,
          2.0037980617469477,
          2.03349364905389,
          2.089303097578365,
          2.1644949641685827,
          2.25,
          2.25,
          2.2796955873069424,
          2.305809448524475,
          2.3251918665902176,
          2.335505035831417,
          2.335505035831417,
          2.3251918665902176,
          2.305809448524475,
          2.2796955873069424,
          2.25,
          2.25,
          2.3810013151146925,
          2.496201938253052,
          2.581706974084469,
          2.6272032533677443,
          2.6272032533677443,
          2.581706974084469,
          2.496201938253052,
          2.3810013151146925,
          2.25,
          2.25,
          2.421010071662834,
          2.57139380484327,
          2.683012701892219,
          2.742403876506104,
          2.742403876506104,
          2.683012701892219,
          2.57139380484327,
          2.4210100716628347,
          2.25
         ],
         "y": [
          0.5,
          0.5,
          0.5,
          0.5,
          0.5,
          0.5,
          0.5,
          0.5,
          0.5,
          0.5,
          0.5,
          0.6099231551964771,
          0.7065879555832674,
          0.7783351996132096,
          0.8165111107797445,
          0.8165111107797445,
          0.7783351996132097,
          0.7065879555832675,
          0.6099231551964771,
          0.5,
          0.5,
          0.6684120444167325,
          0.8165111107797445,
          0.9264342659762216,
          0.984923155196477,
          0.984923155196477,
          0.9264342659762217,
          0.8165111107797446,
          0.6684120444167326,
          0.5000000000000001,
          0.5,
          0.648099066363012,
          0.7783351996132097,
          0.875,
          0.9264342659762217,
          0.9264342659762217,
          0.875,
          0.7783351996132097,
          0.648099066363012,
          0.5,
          0.5,
          0.5584888892202555,
          0.6099231551964771,
          0.648099066363012,
          0.6684120444167326,
          0.6684120444167326,
          0.648099066363012,
          0.6099231551964772,
          0.5584888892202555,
          0.5,
          0.5,
          0.44151111077974453,
          0.39007684480352295,
          0.35190093363698816,
          0.3315879555832675,
          0.3315879555832675,
          0.3519009336369881,
          0.3900768448035229,
          0.4415111107797445,
          0.5,
          0.5,
          0.35190093363698816,
          0.22166480038679043,
          0.12500000000000017,
          0.07356573402377853,
          0.07356573402377853,
          0.1250000000000001,
          0.22166480038679032,
          0.35190093363698804,
          0.49999999999999994,
          0.5,
          0.3315879555832674,
          0.18348888922025552,
          0.07356573402377836,
          0.015076844803522893,
          0.015076844803522893,
          0.0735657340237783,
          0.1834888892202554,
          0.33158795558326737,
          0.49999999999999994,
          0.5,
          0.3900768448035229,
          0.2934120444167325,
          0.2216648003867902,
          0.18348888922025536,
          0.18348888922025536,
          0.2216648003867902,
          0.29341204441673246,
          0.3900768448035228,
          0.49999999999999994,
          0.5,
          0.49999999999999994,
          0.49999999999999994,
          0.4999999999999999,
          0.4999999999999999,
          0.4999999999999999,
          0.4999999999999999,
          0.49999999999999994,
          0.49999999999999994,
          0.5
         ],
         "z": [
          1,
          0.9698463103929542,
          0.883022221559489,
          0.75,
          0.5868240888334653,
          0.41317591116653485,
          0.2500000000000001,
          0.11697777844051105,
          0.03015368960704584,
          0,
          1,
          0.9698463103929542,
          0.883022221559489,
          0.75,
          0.5868240888334653,
          0.41317591116653485,
          0.2500000000000001,
          0.11697777844051105,
          0.03015368960704584,
          0,
          1,
          0.9698463103929542,
          0.883022221559489,
          0.75,
          0.5868240888334653,
          0.41317591116653485,
          0.2500000000000001,
          0.11697777844051105,
          0.03015368960704584,
          0,
          1,
          0.9698463103929542,
          0.883022221559489,
          0.75,
          0.5868240888334653,
          0.41317591116653485,
          0.2500000000000001,
          0.11697777844051105,
          0.03015368960704584,
          0,
          1,
          0.9698463103929542,
          0.883022221559489,
          0.75,
          0.5868240888334653,
          0.41317591116653485,
          0.2500000000000001,
          0.11697777844051105,
          0.03015368960704584,
          0,
          1,
          0.9698463103929542,
          0.883022221559489,
          0.75,
          0.5868240888334653,
          0.41317591116653485,
          0.2500000000000001,
          0.11697777844051105,
          0.03015368960704584,
          0,
          1,
          0.9698463103929542,
          0.883022221559489,
          0.75,
          0.5868240888334653,
          0.41317591116653485,
          0.2500000000000001,
          0.11697777844051105,
          0.03015368960704584,
          0,
          1,
          0.9698463103929542,
          0.883022221559489,
          0.75,
          0.5868240888334653,
          0.41317591116653485,
          0.2500000000000001,
          0.11697777844051105,
          0.03015368960704584,
          0,
          1,
          0.9698463103929542,
          0.883022221559489,
          0.75,
          0.5868240888334653,
          0.41317591116653485,
          0.2500000000000001,
          0.11697777844051105,
          0.03015368960704584,
          0,
          1,
          0.9698463103929542,
          0.883022221559489,
          0.75,
          0.5868240888334653,
          0.41317591116653485,
          0.2500000000000001,
          0.11697777844051105,
          0.03015368960704584,
          0
         ]
        }
       ],
       "layout": {
        "height": 500,
        "margin": {
         "b": 10,
         "l": 10,
         "r": 10,
         "t": 10
        },
        "scene": {
         "aspectratio": {
          "x": 1,
          "y": 1,
          "z": 1
         },
         "xaxis": {
          "nticks": 4,
          "range": [
           -2,
           6
          ]
         },
         "yaxis": {
          "nticks": 4,
          "range": [
           -4,
           4
          ]
         },
         "zaxis": {
          "nticks": 4,
          "range": [
           -3,
           5
          ]
         }
        },
        "template": {
         "data": {
          "bar": [
           {
            "error_x": {
             "color": "#2a3f5f"
            },
            "error_y": {
             "color": "#2a3f5f"
            },
            "marker": {
             "line": {
              "color": "#E5ECF6",
              "width": 0.5
             },
             "pattern": {
              "fillmode": "overlay",
              "size": 10,
              "solidity": 0.2
             }
            },
            "type": "bar"
           }
          ],
          "barpolar": [
           {
            "marker": {
             "line": {
              "color": "#E5ECF6",
              "width": 0.5
             },
             "pattern": {
              "fillmode": "overlay",
              "size": 10,
              "solidity": 0.2
             }
            },
            "type": "barpolar"
           }
          ],
          "carpet": [
           {
            "aaxis": {
             "endlinecolor": "#2a3f5f",
             "gridcolor": "white",
             "linecolor": "white",
             "minorgridcolor": "white",
             "startlinecolor": "#2a3f5f"
            },
            "baxis": {
             "endlinecolor": "#2a3f5f",
             "gridcolor": "white",
             "linecolor": "white",
             "minorgridcolor": "white",
             "startlinecolor": "#2a3f5f"
            },
            "type": "carpet"
           }
          ],
          "choropleth": [
           {
            "colorbar": {
             "outlinewidth": 0,
             "ticks": ""
            },
            "type": "choropleth"
           }
          ],
          "contour": [
           {
            "colorbar": {
             "outlinewidth": 0,
             "ticks": ""
            },
            "colorscale": [
             [
              0,
              "#0d0887"
             ],
             [
              0.1111111111111111,
              "#46039f"
             ],
             [
              0.2222222222222222,
              "#7201a8"
             ],
             [
              0.3333333333333333,
              "#9c179e"
             ],
             [
              0.4444444444444444,
              "#bd3786"
             ],
             [
              0.5555555555555556,
              "#d8576b"
             ],
             [
              0.6666666666666666,
              "#ed7953"
             ],
             [
              0.7777777777777778,
              "#fb9f3a"
             ],
             [
              0.8888888888888888,
              "#fdca26"
             ],
             [
              1,
              "#f0f921"
             ]
            ],
            "type": "contour"
           }
          ],
          "contourcarpet": [
           {
            "colorbar": {
             "outlinewidth": 0,
             "ticks": ""
            },
            "type": "contourcarpet"
           }
          ],
          "heatmap": [
           {
            "colorbar": {
             "outlinewidth": 0,
             "ticks": ""
            },
            "colorscale": [
             [
              0,
              "#0d0887"
             ],
             [
              0.1111111111111111,
              "#46039f"
             ],
             [
              0.2222222222222222,
              "#7201a8"
             ],
             [
              0.3333333333333333,
              "#9c179e"
             ],
             [
              0.4444444444444444,
              "#bd3786"
             ],
             [
              0.5555555555555556,
              "#d8576b"
             ],
             [
              0.6666666666666666,
              "#ed7953"
             ],
             [
              0.7777777777777778,
              "#fb9f3a"
             ],
             [
              0.8888888888888888,
              "#fdca26"
             ],
             [
              1,
              "#f0f921"
             ]
            ],
            "type": "heatmap"
           }
          ],
          "heatmapgl": [
           {
            "colorbar": {
             "outlinewidth": 0,
             "ticks": ""
            },
            "colorscale": [
             [
              0,
              "#0d0887"
             ],
             [
              0.1111111111111111,
              "#46039f"
             ],
             [
              0.2222222222222222,
              "#7201a8"
             ],
             [
              0.3333333333333333,
              "#9c179e"
             ],
             [
              0.4444444444444444,
              "#bd3786"
             ],
             [
              0.5555555555555556,
              "#d8576b"
             ],
             [
              0.6666666666666666,
              "#ed7953"
             ],
             [
              0.7777777777777778,
              "#fb9f3a"
             ],
             [
              0.8888888888888888,
              "#fdca26"
             ],
             [
              1,
              "#f0f921"
             ]
            ],
            "type": "heatmapgl"
           }
          ],
          "histogram": [
           {
            "marker": {
             "pattern": {
              "fillmode": "overlay",
              "size": 10,
              "solidity": 0.2
             }
            },
            "type": "histogram"
           }
          ],
          "histogram2d": [
           {
            "colorbar": {
             "outlinewidth": 0,
             "ticks": ""
            },
            "colorscale": [
             [
              0,
              "#0d0887"
             ],
             [
              0.1111111111111111,
              "#46039f"
             ],
             [
              0.2222222222222222,
              "#7201a8"
             ],
             [
              0.3333333333333333,
              "#9c179e"
             ],
             [
              0.4444444444444444,
              "#bd3786"
             ],
             [
              0.5555555555555556,
              "#d8576b"
             ],
             [
              0.6666666666666666,
              "#ed7953"
             ],
             [
              0.7777777777777778,
              "#fb9f3a"
             ],
             [
              0.8888888888888888,
              "#fdca26"
             ],
             [
              1,
              "#f0f921"
             ]
            ],
            "type": "histogram2d"
           }
          ],
          "histogram2dcontour": [
           {
            "colorbar": {
             "outlinewidth": 0,
             "ticks": ""
            },
            "colorscale": [
             [
              0,
              "#0d0887"
             ],
             [
              0.1111111111111111,
              "#46039f"
             ],
             [
              0.2222222222222222,
              "#7201a8"
             ],
             [
              0.3333333333333333,
              "#9c179e"
             ],
             [
              0.4444444444444444,
              "#bd3786"
             ],
             [
              0.5555555555555556,
              "#d8576b"
             ],
             [
              0.6666666666666666,
              "#ed7953"
             ],
             [
              0.7777777777777778,
              "#fb9f3a"
             ],
             [
              0.8888888888888888,
              "#fdca26"
             ],
             [
              1,
              "#f0f921"
             ]
            ],
            "type": "histogram2dcontour"
           }
          ],
          "mesh3d": [
           {
            "colorbar": {
             "outlinewidth": 0,
             "ticks": ""
            },
            "type": "mesh3d"
           }
          ],
          "parcoords": [
           {
            "line": {
             "colorbar": {
              "outlinewidth": 0,
              "ticks": ""
             }
            },
            "type": "parcoords"
           }
          ],
          "pie": [
           {
            "automargin": true,
            "type": "pie"
           }
          ],
          "scatter": [
           {
            "fillpattern": {
             "fillmode": "overlay",
             "size": 10,
             "solidity": 0.2
            },
            "type": "scatter"
           }
          ],
          "scatter3d": [
           {
            "line": {
             "colorbar": {
              "outlinewidth": 0,
              "ticks": ""
             }
            },
            "marker": {
             "colorbar": {
              "outlinewidth": 0,
              "ticks": ""
             }
            },
            "type": "scatter3d"
           }
          ],
          "scattercarpet": [
           {
            "marker": {
             "colorbar": {
              "outlinewidth": 0,
              "ticks": ""
             }
            },
            "type": "scattercarpet"
           }
          ],
          "scattergeo": [
           {
            "marker": {
             "colorbar": {
              "outlinewidth": 0,
              "ticks": ""
             }
            },
            "type": "scattergeo"
           }
          ],
          "scattergl": [
           {
            "marker": {
             "colorbar": {
              "outlinewidth": 0,
              "ticks": ""
             }
            },
            "type": "scattergl"
           }
          ],
          "scattermapbox": [
           {
            "marker": {
             "colorbar": {
              "outlinewidth": 0,
              "ticks": ""
             }
            },
            "type": "scattermapbox"
           }
          ],
          "scatterpolar": [
           {
            "marker": {
             "colorbar": {
              "outlinewidth": 0,
              "ticks": ""
             }
            },
            "type": "scatterpolar"
           }
          ],
          "scatterpolargl": [
           {
            "marker": {
             "colorbar": {
              "outlinewidth": 0,
              "ticks": ""
             }
            },
            "type": "scatterpolargl"
           }
          ],
          "scatterternary": [
           {
            "marker": {
             "colorbar": {
              "outlinewidth": 0,
              "ticks": ""
             }
            },
            "type": "scatterternary"
           }
          ],
          "surface": [
           {
            "colorbar": {
             "outlinewidth": 0,
             "ticks": ""
            },
            "colorscale": [
             [
              0,
              "#0d0887"
             ],
             [
              0.1111111111111111,
              "#46039f"
             ],
             [
              0.2222222222222222,
              "#7201a8"
             ],
             [
              0.3333333333333333,
              "#9c179e"
             ],
             [
              0.4444444444444444,
              "#bd3786"
             ],
             [
              0.5555555555555556,
              "#d8576b"
             ],
             [
              0.6666666666666666,
              "#ed7953"
             ],
             [
              0.7777777777777778,
              "#fb9f3a"
             ],
             [
              0.8888888888888888,
              "#fdca26"
             ],
             [
              1,
              "#f0f921"
             ]
            ],
            "type": "surface"
           }
          ],
          "table": [
           {
            "cells": {
             "fill": {
              "color": "#EBF0F8"
             },
             "line": {
              "color": "white"
             }
            },
            "header": {
             "fill": {
              "color": "#C8D4E3"
             },
             "line": {
              "color": "white"
             }
            },
            "type": "table"
           }
          ]
         },
         "layout": {
          "annotationdefaults": {
           "arrowcolor": "#2a3f5f",
           "arrowhead": 0,
           "arrowwidth": 1
          },
          "autotypenumbers": "strict",
          "coloraxis": {
           "colorbar": {
            "outlinewidth": 0,
            "ticks": ""
           }
          },
          "colorscale": {
           "diverging": [
            [
             0,
             "#8e0152"
            ],
            [
             0.1,
             "#c51b7d"
            ],
            [
             0.2,
             "#de77ae"
            ],
            [
             0.3,
             "#f1b6da"
            ],
            [
             0.4,
             "#fde0ef"
            ],
            [
             0.5,
             "#f7f7f7"
            ],
            [
             0.6,
             "#e6f5d0"
            ],
            [
             0.7,
             "#b8e186"
            ],
            [
             0.8,
             "#7fbc41"
            ],
            [
             0.9,
             "#4d9221"
            ],
            [
             1,
             "#276419"
            ]
           ],
           "sequential": [
            [
             0,
             "#0d0887"
            ],
            [
             0.1111111111111111,
             "#46039f"
            ],
            [
             0.2222222222222222,
             "#7201a8"
            ],
            [
             0.3333333333333333,
             "#9c179e"
            ],
            [
             0.4444444444444444,
             "#bd3786"
            ],
            [
             0.5555555555555556,
             "#d8576b"
            ],
            [
             0.6666666666666666,
             "#ed7953"
            ],
            [
             0.7777777777777778,
             "#fb9f3a"
            ],
            [
             0.8888888888888888,
             "#fdca26"
            ],
            [
             1,
             "#f0f921"
            ]
           ],
           "sequentialminus": [
            [
             0,
             "#0d0887"
            ],
            [
             0.1111111111111111,
             "#46039f"
            ],
            [
             0.2222222222222222,
             "#7201a8"
            ],
            [
             0.3333333333333333,
             "#9c179e"
            ],
            [
             0.4444444444444444,
             "#bd3786"
            ],
            [
             0.5555555555555556,
             "#d8576b"
            ],
            [
             0.6666666666666666,
             "#ed7953"
            ],
            [
             0.7777777777777778,
             "#fb9f3a"
            ],
            [
             0.8888888888888888,
             "#fdca26"
            ],
            [
             1,
             "#f0f921"
            ]
           ]
          },
          "colorway": [
           "#636efa",
           "#EF553B",
           "#00cc96",
           "#ab63fa",
           "#FFA15A",
           "#19d3f3",
           "#FF6692",
           "#B6E880",
           "#FF97FF",
           "#FECB52"
          ],
          "font": {
           "color": "#2a3f5f"
          },
          "geo": {
           "bgcolor": "white",
           "lakecolor": "white",
           "landcolor": "#E5ECF6",
           "showlakes": true,
           "showland": true,
           "subunitcolor": "white"
          },
          "hoverlabel": {
           "align": "left"
          },
          "hovermode": "closest",
          "mapbox": {
           "style": "light"
          },
          "paper_bgcolor": "white",
          "plot_bgcolor": "#E5ECF6",
          "polar": {
           "angularaxis": {
            "gridcolor": "white",
            "linecolor": "white",
            "ticks": ""
           },
           "bgcolor": "#E5ECF6",
           "radialaxis": {
            "gridcolor": "white",
            "linecolor": "white",
            "ticks": ""
           }
          },
          "scene": {
           "xaxis": {
            "backgroundcolor": "#E5ECF6",
            "gridcolor": "white",
            "gridwidth": 2,
            "linecolor": "white",
            "showbackground": true,
            "ticks": "",
            "zerolinecolor": "white"
           },
           "yaxis": {
            "backgroundcolor": "#E5ECF6",
            "gridcolor": "white",
            "gridwidth": 2,
            "linecolor": "white",
            "showbackground": true,
            "ticks": "",
            "zerolinecolor": "white"
           },
           "zaxis": {
            "backgroundcolor": "#E5ECF6",
            "gridcolor": "white",
            "gridwidth": 2,
            "linecolor": "white",
            "showbackground": true,
            "ticks": "",
            "zerolinecolor": "white"
           }
          },
          "shapedefaults": {
           "line": {
            "color": "#2a3f5f"
           }
          },
          "ternary": {
           "aaxis": {
            "gridcolor": "white",
            "linecolor": "white",
            "ticks": ""
           },
           "baxis": {
            "gridcolor": "white",
            "linecolor": "white",
            "ticks": ""
           },
           "bgcolor": "#E5ECF6",
           "caxis": {
            "gridcolor": "white",
            "linecolor": "white",
            "ticks": ""
           }
          },
          "title": {
           "x": 0.05
          },
          "xaxis": {
           "automargin": true,
           "gridcolor": "white",
           "linecolor": "white",
           "ticks": "",
           "title": {
            "standoff": 15
           },
           "zerolinecolor": "white",
           "zerolinewidth": 2
          },
          "yaxis": {
           "automargin": true,
           "gridcolor": "white",
           "linecolor": "white",
           "ticks": "",
           "title": {
            "standoff": 15
           },
           "zerolinecolor": "white",
           "zerolinewidth": 2
          }
         }
        },
        "width": 500
       }
      }
     },
     "metadata": {},
     "output_type": "display_data"
    },
    {
     "data": {
      "image/png": "[encoded data removed]",
      "text/plain": [
       "<Figure size 640x480 with 1 Axes>"
      ]
     },
     "metadata": {},
     "output_type": "display_data"
    },
    {
     "data": {
      "image/png": "[encoded data removed]",
      "text/plain": [
       "<Figure size 640x480 with 1 Axes>"
      ]
     },
     "metadata": {},
     "output_type": "display_data"
    }
   ],
   "source": [
    "# example data \n",
    "px, py, pz = 4.5, 1, 1\n",
    "data = np.array([[np.cos(theta)*np.sin(phi)+px, np.sin(theta)*np.sin(phi)+py, np.cos(phi)+pz] \n",
    "                 for theta in np.linspace(0, 2*np.pi, 10)\n",
    "                 for phi in np.linspace(0, np.pi, 10)])\n",
    "\n",
    "pts = PointCloud()\n",
    "pts.add_data([data, 'red'])\n",
    "pts.add_data([data*0.5, 'blue'])\n",
    "\n",
    "\n",
    "camera1 = Camera(Ry(np.pi/2)@Rz(-np.pi/2)@Ry(np.pi/4), np.array([2, 3, 1]), \"Cam1\")\n",
    "camera2 = Camera(Ry(np.pi/2)@Rz(-np.pi/2)@Ry(-np.pi/9), np.array([1, -2, 1]), \"Cam2\")\n",
    "\n",
    "\n",
    "camera1.capture(pts)\n",
    "camera2.capture(pts)\n",
    "\n",
    "plot_all([camera1, camera2, pts], world=True)\n",
    "camera1.show_image()\n",
    "camera2.show_image()"
   ]
  }
 ],
 "metadata": {
  "kernelspec": {
   "display_name": "base",
   "language": "python",
   "name": "python3"
  },
  "language_info": {
   "codemirror_mode": {
    "name": "ipython",
    "version": 3
   },
   "file_extension": ".py",
   "mimetype": "text/x-python",
   "name": "python",
   "nbconvert_exporter": "python",
   "pygments_lexer": "ipython3",
   "version": "3.9.16"
  },
  "orig_nbformat": 4
 },
 "nbformat": 4,
 "nbformat_minor": 2
}
